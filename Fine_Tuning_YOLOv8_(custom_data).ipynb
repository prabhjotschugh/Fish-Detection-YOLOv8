{
  "metadata": {
    "kernelspec": {
      "language": "python",
      "display_name": "Python 3",
      "name": "python3"
    },
    "language_info": {
      "name": "python",
      "version": "3.10.13",
      "mimetype": "text/x-python",
      "codemirror_mode": {
        "name": "ipython",
        "version": 3
      },
      "pygments_lexer": "ipython3",
      "nbconvert_exporter": "python",
      "file_extension": ".py"
    },
    "kaggle": {
      "accelerator": "nvidiaTeslaT4",
      "dataSources": [
        {
          "sourceId": 9132940,
          "sourceType": "datasetVersion",
          "datasetId": 5514463
        }
      ],
      "dockerImageVersionId": 30747,
      "isInternetEnabled": true,
      "language": "python",
      "sourceType": "notebook",
      "isGpuEnabled": true
    },
    "colab": {
      "name": "Fine Tuning YOLOv8 (custom data)",
      "provenance": [],
      "include_colab_link": true
    }
  },
  "nbformat_minor": 0,
  "nbformat": 4,
  "cells": [
    {
      "cell_type": "markdown",
      "metadata": {
        "id": "view-in-github",
        "colab_type": "text"
      },
      "source": [
        "<a href=\"https://colab.research.google.com/github/prabhjotschugh/Fish-Detection-YOLOv8/blob/main/Fine_Tuning_YOLOv8_(custom_data).ipynb\" target=\"_parent\"><img src=\"https://colab.research.google.com/assets/colab-badge.svg\" alt=\"Open In Colab\"/></a>"
      ]
    },
    {
      "source": [
        "\n",
        "# IMPORTANT: RUN THIS CELL IN ORDER TO IMPORT YOUR KAGGLE DATA SOURCES\n",
        "# TO THE CORRECT LOCATION (/kaggle/input) IN YOUR NOTEBOOK,\n",
        "# THEN FEEL FREE TO DELETE THIS CELL.\n",
        "# NOTE: THIS NOTEBOOK ENVIRONMENT DIFFERS FROM KAGGLE'S PYTHON\n",
        "# ENVIRONMENT SO THERE MAY BE MISSING LIBRARIES USED BY YOUR\n",
        "# NOTEBOOK.\n",
        "\n",
        "import os\n",
        "import sys\n",
        "from tempfile import NamedTemporaryFile\n",
        "from urllib.request import urlopen\n",
        "from urllib.parse import unquote, urlparse\n",
        "from urllib.error import HTTPError\n",
        "from zipfile import ZipFile\n",
        "import tarfile\n",
        "import shutil\n",
        "\n",
        "CHUNK_SIZE = 40960\n",
        "DATA_SOURCE_MAPPING = 'fishcustomdataset:https%3A%2F%2Fstorage.googleapis.com%2Fkaggle-data-sets%2F5514463%2F9132940%2Fbundle%2Farchive.zip%3FX-Goog-Algorithm%3DGOOG4-RSA-SHA256%26X-Goog-Credential%3Dgcp-kaggle-com%2540kaggle-161607.iam.gserviceaccount.com%252F20240809%252Fauto%252Fstorage%252Fgoog4_request%26X-Goog-Date%3D20240809T051238Z%26X-Goog-Expires%3D259200%26X-Goog-SignedHeaders%3Dhost%26X-Goog-Signature%3D19cf2332e9106bc1f6605fb2b6358152504ce7ede1cf9085321d09037e20502c491ad72ec7d5304c908e4750585b5db03719d9a107d1483e1553d0a30471106a32ab0066d8d446af84e6ad7fe5d24c4f0192c490db82763294f36b751c5f24c5d8658ef2d724ccea17ceb7a436153f98d90da4fc7fc8bff7a3f15b756cbcc6f2e8088066ff883140105ee0fe53d5a1980371d0145f52bc47f14153e6d5d3d7c8b94813eff6f895428d6854c87b7fcd1e8f9e3c91afb71975ae170be2e57d761e23d923513f33fefb6dc0b15330af84625425167f698d6a1d5e1e6ace081e04de7b867f646022325cac6cb86a255b9f0f3a6c87ad3e7ad49c8bd6cad7306601e1'\n",
        "\n",
        "KAGGLE_INPUT_PATH='/kaggle/input'\n",
        "KAGGLE_WORKING_PATH='/kaggle/working'\n",
        "KAGGLE_SYMLINK='kaggle'\n",
        "\n",
        "!umount /kaggle/input/ 2> /dev/null\n",
        "shutil.rmtree('/kaggle/input', ignore_errors=True)\n",
        "os.makedirs(KAGGLE_INPUT_PATH, 0o777, exist_ok=True)\n",
        "os.makedirs(KAGGLE_WORKING_PATH, 0o777, exist_ok=True)\n",
        "\n",
        "try:\n",
        "  os.symlink(KAGGLE_INPUT_PATH, os.path.join(\"..\", 'input'), target_is_directory=True)\n",
        "except FileExistsError:\n",
        "  pass\n",
        "try:\n",
        "  os.symlink(KAGGLE_WORKING_PATH, os.path.join(\"..\", 'working'), target_is_directory=True)\n",
        "except FileExistsError:\n",
        "  pass\n",
        "\n",
        "for data_source_mapping in DATA_SOURCE_MAPPING.split(','):\n",
        "    directory, download_url_encoded = data_source_mapping.split(':')\n",
        "    download_url = unquote(download_url_encoded)\n",
        "    filename = urlparse(download_url).path\n",
        "    destination_path = os.path.join(KAGGLE_INPUT_PATH, directory)\n",
        "    try:\n",
        "        with urlopen(download_url) as fileres, NamedTemporaryFile() as tfile:\n",
        "            total_length = fileres.headers['content-length']\n",
        "            print(f'Downloading {directory}, {total_length} bytes compressed')\n",
        "            dl = 0\n",
        "            data = fileres.read(CHUNK_SIZE)\n",
        "            while len(data) > 0:\n",
        "                dl += len(data)\n",
        "                tfile.write(data)\n",
        "                done = int(50 * dl / int(total_length))\n",
        "                sys.stdout.write(f\"\\r[{'=' * done}{' ' * (50-done)}] {dl} bytes downloaded\")\n",
        "                sys.stdout.flush()\n",
        "                data = fileres.read(CHUNK_SIZE)\n",
        "            if filename.endswith('.zip'):\n",
        "              with ZipFile(tfile) as zfile:\n",
        "                zfile.extractall(destination_path)\n",
        "            else:\n",
        "              with tarfile.open(tfile.name) as tarfile:\n",
        "                tarfile.extractall(destination_path)\n",
        "            print(f'\\nDownloaded and uncompressed: {directory}')\n",
        "    except HTTPError as e:\n",
        "        print(f'Failed to load (likely expired) {download_url} to path {destination_path}')\n",
        "        continue\n",
        "    except OSError as e:\n",
        "        print(f'Failed to load {download_url} to path {destination_path}')\n",
        "        continue\n",
        "\n",
        "print('Data source import complete.')\n"
      ],
      "metadata": {
        "id": "bbiIsqP0jbqs"
      },
      "cell_type": "code",
      "outputs": [],
      "execution_count": null
    },
    {
      "cell_type": "code",
      "source": [
        "pip install ultralytics"
      ],
      "metadata": {
        "execution": {
          "iopub.status.busy": "2024-08-09T04:46:04.902022Z",
          "iopub.execute_input": "2024-08-09T04:46:04.902979Z",
          "iopub.status.idle": "2024-08-09T04:46:21.64215Z",
          "shell.execute_reply.started": "2024-08-09T04:46:04.902937Z",
          "shell.execute_reply": "2024-08-09T04:46:21.641038Z"
        },
        "trusted": true,
        "id": "U9xdA-INjbqx",
        "outputId": "7b623c62-4f2a-4e11-e559-c8ed02fa06eb"
      },
      "execution_count": null,
      "outputs": [
        {
          "name": "stdout",
          "text": "Collecting ultralytics\n  Downloading ultralytics-8.2.75-py3-none-any.whl.metadata (41 kB)\n\u001b[2K     \u001b[90m━━━━━━━━━━━━━━━━━━━━━━━━━━━━━━━━━━━━━━━\u001b[0m \u001b[32m41.3/41.3 kB\u001b[0m \u001b[31m617.1 kB/s\u001b[0m eta \u001b[36m0:00:00\u001b[0m0:01\u001b[0m\n\u001b[?25hRequirement already satisfied: numpy<2.0.0,>=1.23.0 in /opt/conda/lib/python3.10/site-packages (from ultralytics) (1.26.4)\nRequirement already satisfied: matplotlib>=3.3.0 in /opt/conda/lib/python3.10/site-packages (from ultralytics) (3.7.5)\nRequirement already satisfied: opencv-python>=4.6.0 in /opt/conda/lib/python3.10/site-packages (from ultralytics) (4.10.0.84)\nRequirement already satisfied: pillow>=7.1.2 in /opt/conda/lib/python3.10/site-packages (from ultralytics) (9.5.0)\nRequirement already satisfied: pyyaml>=5.3.1 in /opt/conda/lib/python3.10/site-packages (from ultralytics) (6.0.1)\nRequirement already satisfied: requests>=2.23.0 in /opt/conda/lib/python3.10/site-packages (from ultralytics) (2.32.3)\nRequirement already satisfied: scipy>=1.4.1 in /opt/conda/lib/python3.10/site-packages (from ultralytics) (1.11.4)\nRequirement already satisfied: torch>=1.8.0 in /opt/conda/lib/python3.10/site-packages (from ultralytics) (2.1.2)\nRequirement already satisfied: torchvision>=0.9.0 in /opt/conda/lib/python3.10/site-packages (from ultralytics) (0.16.2)\nRequirement already satisfied: tqdm>=4.64.0 in /opt/conda/lib/python3.10/site-packages (from ultralytics) (4.66.4)\nRequirement already satisfied: psutil in /opt/conda/lib/python3.10/site-packages (from ultralytics) (5.9.3)\nRequirement already satisfied: py-cpuinfo in /opt/conda/lib/python3.10/site-packages (from ultralytics) (9.0.0)\nRequirement already satisfied: pandas>=1.1.4 in /opt/conda/lib/python3.10/site-packages (from ultralytics) (2.2.2)\nRequirement already satisfied: seaborn>=0.11.0 in /opt/conda/lib/python3.10/site-packages (from ultralytics) (0.12.2)\nCollecting ultralytics-thop>=2.0.0 (from ultralytics)\n  Downloading ultralytics_thop-2.0.0-py3-none-any.whl.metadata (8.5 kB)\nRequirement already satisfied: contourpy>=1.0.1 in /opt/conda/lib/python3.10/site-packages (from matplotlib>=3.3.0->ultralytics) (1.2.0)\nRequirement already satisfied: cycler>=0.10 in /opt/conda/lib/python3.10/site-packages (from matplotlib>=3.3.0->ultralytics) (0.12.1)\nRequirement already satisfied: fonttools>=4.22.0 in /opt/conda/lib/python3.10/site-packages (from matplotlib>=3.3.0->ultralytics) (4.47.0)\nRequirement already satisfied: kiwisolver>=1.0.1 in /opt/conda/lib/python3.10/site-packages (from matplotlib>=3.3.0->ultralytics) (1.4.5)\nRequirement already satisfied: packaging>=20.0 in /opt/conda/lib/python3.10/site-packages (from matplotlib>=3.3.0->ultralytics) (21.3)\nRequirement already satisfied: pyparsing>=2.3.1 in /opt/conda/lib/python3.10/site-packages (from matplotlib>=3.3.0->ultralytics) (3.1.1)\nRequirement already satisfied: python-dateutil>=2.7 in /opt/conda/lib/python3.10/site-packages (from matplotlib>=3.3.0->ultralytics) (2.9.0.post0)\nRequirement already satisfied: pytz>=2020.1 in /opt/conda/lib/python3.10/site-packages (from pandas>=1.1.4->ultralytics) (2023.3.post1)\nRequirement already satisfied: tzdata>=2022.7 in /opt/conda/lib/python3.10/site-packages (from pandas>=1.1.4->ultralytics) (2023.4)\nRequirement already satisfied: charset-normalizer<4,>=2 in /opt/conda/lib/python3.10/site-packages (from requests>=2.23.0->ultralytics) (3.3.2)\nRequirement already satisfied: idna<4,>=2.5 in /opt/conda/lib/python3.10/site-packages (from requests>=2.23.0->ultralytics) (3.6)\nRequirement already satisfied: urllib3<3,>=1.21.1 in /opt/conda/lib/python3.10/site-packages (from requests>=2.23.0->ultralytics) (1.26.18)\nRequirement already satisfied: certifi>=2017.4.17 in /opt/conda/lib/python3.10/site-packages (from requests>=2.23.0->ultralytics) (2024.7.4)\nRequirement already satisfied: filelock in /opt/conda/lib/python3.10/site-packages (from torch>=1.8.0->ultralytics) (3.13.1)\nRequirement already satisfied: typing-extensions in /opt/conda/lib/python3.10/site-packages (from torch>=1.8.0->ultralytics) (4.9.0)\nRequirement already satisfied: sympy in /opt/conda/lib/python3.10/site-packages (from torch>=1.8.0->ultralytics) (1.13.0)\nRequirement already satisfied: networkx in /opt/conda/lib/python3.10/site-packages (from torch>=1.8.0->ultralytics) (3.2.1)\nRequirement already satisfied: jinja2 in /opt/conda/lib/python3.10/site-packages (from torch>=1.8.0->ultralytics) (3.1.2)\nRequirement already satisfied: fsspec in /opt/conda/lib/python3.10/site-packages (from torch>=1.8.0->ultralytics) (2024.5.0)\nRequirement already satisfied: six>=1.5 in /opt/conda/lib/python3.10/site-packages (from python-dateutil>=2.7->matplotlib>=3.3.0->ultralytics) (1.16.0)\nRequirement already satisfied: MarkupSafe>=2.0 in /opt/conda/lib/python3.10/site-packages (from jinja2->torch>=1.8.0->ultralytics) (2.1.3)\nRequirement already satisfied: mpmath<1.4,>=1.1.0 in /opt/conda/lib/python3.10/site-packages (from sympy->torch>=1.8.0->ultralytics) (1.3.0)\nDownloading ultralytics-8.2.75-py3-none-any.whl (865 kB)\n\u001b[2K   \u001b[90m━━━━━━━━━━━━━━━━━━━━━━━━━━━━━━━━━━━━━━━━\u001b[0m \u001b[32m865.6/865.6 kB\u001b[0m \u001b[31m6.5 MB/s\u001b[0m eta \u001b[36m0:00:00\u001b[0ma \u001b[36m0:00:01\u001b[0m\n\u001b[?25hDownloading ultralytics_thop-2.0.0-py3-none-any.whl (25 kB)\nInstalling collected packages: ultralytics-thop, ultralytics\nSuccessfully installed ultralytics-8.2.75 ultralytics-thop-2.0.0\nNote: you may need to restart the kernel to use updated packages.\n",
          "output_type": "stream"
        }
      ]
    },
    {
      "cell_type": "code",
      "source": [
        "from ultralytics import YOLO\n",
        "\n",
        "# Load the model.\n",
        "model = YOLO('yolov8l.pt')\n",
        "\n",
        "# Training.\n",
        "results = model.train(\n",
        "   data='/kaggle/input/fishcustomdataset/Dataset/data_custom.yaml',\n",
        "   imgsz=640,\n",
        "   epochs=300,\n",
        "   batch=8,\n",
        "   name='yolov8l_v8_300e'\n",
        ")"
      ],
      "metadata": {
        "execution": {
          "iopub.status.busy": "2024-08-09T04:46:37.788007Z",
          "iopub.execute_input": "2024-08-09T04:46:37.788719Z",
          "iopub.status.idle": "2024-08-09T05:09:02.003247Z",
          "shell.execute_reply.started": "2024-08-09T04:46:37.788683Z",
          "shell.execute_reply": "2024-08-09T05:09:02.002363Z"
        },
        "trusted": true,
        "id": "rHC8zVyejbqz",
        "outputId": "e68ed0de-4cb3-4f13-d6c4-1be4d8f1cde7",
        "colab": {
          "referenced_widgets": [
            ""
          ]
        }
      },
      "execution_count": null,
      "outputs": [
        {
          "name": "stdout",
          "text": "Downloading https://github.com/ultralytics/assets/releases/download/v8.2.0/yolov8l.pt to 'yolov8l.pt'...\n",
          "output_type": "stream"
        },
        {
          "name": "stderr",
          "text": "100%|██████████| 83.7M/83.7M [00:00<00:00, 275MB/s]\n",
          "output_type": "stream"
        },
        {
          "name": "stdout",
          "text": "Ultralytics YOLOv8.2.75 🚀 Python-3.10.13 torch-2.1.2 CUDA:0 (Tesla T4, 15095MiB)\n\u001b[34m\u001b[1mengine/trainer: \u001b[0mtask=detect, mode=train, model=yolov8l.pt, data=/kaggle/input/fishcustomdataset/Dataset/data_custom.yaml, epochs=300, time=None, patience=100, batch=8, imgsz=640, save=True, save_period=-1, cache=False, device=None, workers=8, project=None, name=yolov8l_v8_300e, exist_ok=False, pretrained=True, optimizer=auto, verbose=True, seed=0, deterministic=True, single_cls=False, rect=False, cos_lr=False, close_mosaic=10, resume=False, amp=True, fraction=1.0, profile=False, freeze=None, multi_scale=False, overlap_mask=True, mask_ratio=4, dropout=0.0, val=True, split=val, save_json=False, save_hybrid=False, conf=None, iou=0.7, max_det=300, half=False, dnn=False, plots=True, source=None, vid_stride=1, stream_buffer=False, visualize=False, augment=False, agnostic_nms=False, classes=None, retina_masks=False, embed=None, show=False, save_frames=False, save_txt=False, save_conf=False, save_crop=False, show_labels=True, show_conf=True, show_boxes=True, line_width=None, format=torchscript, keras=False, optimize=False, int8=False, dynamic=False, simplify=False, opset=None, workspace=4, nms=False, lr0=0.01, lrf=0.01, momentum=0.937, weight_decay=0.0005, warmup_epochs=3.0, warmup_momentum=0.8, warmup_bias_lr=0.1, box=7.5, cls=0.5, dfl=1.5, pose=12.0, kobj=1.0, label_smoothing=0.0, nbs=64, hsv_h=0.015, hsv_s=0.7, hsv_v=0.4, degrees=0.0, translate=0.1, scale=0.5, shear=0.0, perspective=0.0, flipud=0.0, fliplr=0.5, bgr=0.0, mosaic=1.0, mixup=0.0, copy_paste=0.0, auto_augment=randaugment, erasing=0.4, crop_fraction=1.0, cfg=None, tracker=botsort.yaml, save_dir=runs/detect/yolov8l_v8_300e\nDownloading https://ultralytics.com/assets/Arial.ttf to '/root/.config/Ultralytics/Arial.ttf'...\n",
          "output_type": "stream"
        },
        {
          "name": "stderr",
          "text": "100%|██████████| 755k/755k [00:00<00:00, 13.7MB/s]\n2024-08-09 04:46:47,385\tINFO util.py:124 -- Outdated packages:\n  ipywidgets==7.7.1 found, needs ipywidgets>=8\nRun `pip install -U ipywidgets`, then restart the notebook server for rich notebook output.\n2024-08-09 04:46:48,876\tINFO util.py:124 -- Outdated packages:\n  ipywidgets==7.7.1 found, needs ipywidgets>=8\nRun `pip install -U ipywidgets`, then restart the notebook server for rich notebook output.\n",
          "output_type": "stream"
        },
        {
          "name": "stdout",
          "text": "Overriding model.yaml nc=80 with nc=4\n\n                   from  n    params  module                                       arguments                     \n  0                  -1  1      1856  ultralytics.nn.modules.conv.Conv             [3, 64, 3, 2]                 \n  1                  -1  1     73984  ultralytics.nn.modules.conv.Conv             [64, 128, 3, 2]               \n  2                  -1  3    279808  ultralytics.nn.modules.block.C2f             [128, 128, 3, True]           \n  3                  -1  1    295424  ultralytics.nn.modules.conv.Conv             [128, 256, 3, 2]              \n  4                  -1  6   2101248  ultralytics.nn.modules.block.C2f             [256, 256, 6, True]           \n  5                  -1  1   1180672  ultralytics.nn.modules.conv.Conv             [256, 512, 3, 2]              \n  6                  -1  6   8396800  ultralytics.nn.modules.block.C2f             [512, 512, 6, True]           \n  7                  -1  1   2360320  ultralytics.nn.modules.conv.Conv             [512, 512, 3, 2]              \n  8                  -1  3   4461568  ultralytics.nn.modules.block.C2f             [512, 512, 3, True]           \n  9                  -1  1    656896  ultralytics.nn.modules.block.SPPF            [512, 512, 5]                 \n 10                  -1  1         0  torch.nn.modules.upsampling.Upsample         [None, 2, 'nearest']          \n 11             [-1, 6]  1         0  ultralytics.nn.modules.conv.Concat           [1]                           \n 12                  -1  3   4723712  ultralytics.nn.modules.block.C2f             [1024, 512, 3]                \n 13                  -1  1         0  torch.nn.modules.upsampling.Upsample         [None, 2, 'nearest']          \n 14             [-1, 4]  1         0  ultralytics.nn.modules.conv.Concat           [1]                           \n 15                  -1  3   1247744  ultralytics.nn.modules.block.C2f             [768, 256, 3]                 \n 16                  -1  1    590336  ultralytics.nn.modules.conv.Conv             [256, 256, 3, 2]              \n 17            [-1, 12]  1         0  ultralytics.nn.modules.conv.Concat           [1]                           \n 18                  -1  3   4592640  ultralytics.nn.modules.block.C2f             [768, 512, 3]                 \n 19                  -1  1   2360320  ultralytics.nn.modules.conv.Conv             [512, 512, 3, 2]              \n 20             [-1, 9]  1         0  ultralytics.nn.modules.conv.Concat           [1]                           \n 21                  -1  3   4723712  ultralytics.nn.modules.block.C2f             [1024, 512, 3]                \n 22        [15, 18, 21]  1   5585884  ultralytics.nn.modules.head.Detect           [4, [256, 512, 512]]          \nModel summary: 365 layers, 43,632,924 parameters, 43,632,908 gradients, 165.4 GFLOPs\n\nTransferred 589/595 items from pretrained weights\n\u001b[34m\u001b[1mTensorBoard: \u001b[0mStart with 'tensorboard --logdir runs/detect/yolov8l_v8_300e', view at http://localhost:6006/\n",
          "output_type": "stream"
        },
        {
          "name": "stderr",
          "text": "\u001b[34m\u001b[1mwandb\u001b[0m: Logging into wandb.ai. (Learn how to deploy a W&B server locally: https://wandb.me/wandb-server)\n\u001b[34m\u001b[1mwandb\u001b[0m: You can find your API key in your browser here: https://wandb.ai/authorize\n\u001b[34m\u001b[1mwandb\u001b[0m: Paste an API key from your profile and hit enter, or press ctrl+c to quit:",
          "output_type": "stream"
        },
        {
          "output_type": "stream",
          "name": "stdin",
          "text": "  ········································\n"
        },
        {
          "name": "stderr",
          "text": "\u001b[34m\u001b[1mwandb\u001b[0m: Appending key for api.wandb.ai to your netrc file: /root/.netrc\n",
          "output_type": "stream"
        },
        {
          "output_type": "display_data",
          "data": {
            "text/plain": "<IPython.core.display.HTML object>",
            "text/html": "wandb version 0.17.6 is available!  To upgrade, please run:\n $ pip install wandb --upgrade"
          },
          "metadata": {}
        },
        {
          "output_type": "display_data",
          "data": {
            "text/plain": "<IPython.core.display.HTML object>",
            "text/html": "Tracking run with wandb version 0.17.4"
          },
          "metadata": {}
        },
        {
          "output_type": "display_data",
          "data": {
            "text/plain": "<IPython.core.display.HTML object>",
            "text/html": "Run data is saved locally in <code>/kaggle/working/wandb/run-20240809_044753-7g0v668p</code>"
          },
          "metadata": {}
        },
        {
          "output_type": "display_data",
          "data": {
            "text/plain": "<IPython.core.display.HTML object>",
            "text/html": "Syncing run <strong><a href='https://wandb.ai/prabhjotchugh0805-rediminds/YOLOv8/runs/7g0v668p' target=\"_blank\">yolov8l_v8_300e</a></strong> to <a href='https://wandb.ai/prabhjotchugh0805-rediminds/YOLOv8' target=\"_blank\">Weights & Biases</a> (<a href='https://wandb.me/run' target=\"_blank\">docs</a>)<br/>"
          },
          "metadata": {}
        },
        {
          "output_type": "display_data",
          "data": {
            "text/plain": "<IPython.core.display.HTML object>",
            "text/html": " View project at <a href='https://wandb.ai/prabhjotchugh0805-rediminds/YOLOv8' target=\"_blank\">https://wandb.ai/prabhjotchugh0805-rediminds/YOLOv8</a>"
          },
          "metadata": {}
        },
        {
          "output_type": "display_data",
          "data": {
            "text/plain": "<IPython.core.display.HTML object>",
            "text/html": " View run at <a href='https://wandb.ai/prabhjotchugh0805-rediminds/YOLOv8/runs/7g0v668p' target=\"_blank\">https://wandb.ai/prabhjotchugh0805-rediminds/YOLOv8/runs/7g0v668p</a>"
          },
          "metadata": {}
        },
        {
          "name": "stdout",
          "text": "Freezing layer 'model.22.dfl.conv.weight'\n\u001b[34m\u001b[1mAMP: \u001b[0mrunning Automatic Mixed Precision (AMP) checks with YOLOv8n...\nDownloading https://github.com/ultralytics/assets/releases/download/v8.2.0/yolov8n.pt to 'yolov8n.pt'...\n",
          "output_type": "stream"
        },
        {
          "name": "stderr",
          "text": "100%|██████████| 6.25M/6.25M [00:00<00:00, 70.5MB/s]\n",
          "output_type": "stream"
        },
        {
          "name": "stdout",
          "text": "\u001b[34m\u001b[1mAMP: \u001b[0mchecks passed ✅\n",
          "output_type": "stream"
        },
        {
          "name": "stderr",
          "text": "\u001b[34m\u001b[1mtrain: \u001b[0mScanning /kaggle/input/fishcustomdataset/Dataset/train/labels... 50 images, 0 backgrounds, 0 corrupt: 100%|██████████| 50/50 [00:00<00:00, 110.20it/s]",
          "output_type": "stream"
        },
        {
          "name": "stdout",
          "text": "\u001b[34m\u001b[1mtrain: \u001b[0mWARNING ⚠️ Cache directory /kaggle/input/fishcustomdataset/Dataset/train is not writeable, cache not saved.\n",
          "output_type": "stream"
        },
        {
          "name": "stderr",
          "text": "\n",
          "output_type": "stream"
        },
        {
          "name": "stdout",
          "text": "\u001b[34m\u001b[1malbumentations: \u001b[0mBlur(p=0.01, blur_limit=(3, 7)), MedianBlur(p=0.01, blur_limit=(3, 7)), ToGray(p=0.01), CLAHE(p=0.01, clip_limit=(1, 4.0), tile_grid_size=(8, 8))\n",
          "output_type": "stream"
        },
        {
          "name": "stderr",
          "text": "/opt/conda/lib/python3.10/multiprocessing/popen_fork.py:66: RuntimeWarning: os.fork() was called. os.fork() is incompatible with multithreaded code, and JAX is multithreaded, so this will likely lead to a deadlock.\n  self.pid = os.fork()\n\u001b[34m\u001b[1mval: \u001b[0mScanning /kaggle/input/fishcustomdataset/Dataset/val/labels... 10 images, 0 backgrounds, 0 corrupt: 100%|██████████| 10/10 [00:00<00:00, 140.11it/s]",
          "output_type": "stream"
        },
        {
          "name": "stdout",
          "text": "\u001b[34m\u001b[1mval: \u001b[0mWARNING ⚠️ Cache directory /kaggle/input/fishcustomdataset/Dataset/val is not writeable, cache not saved.\n",
          "output_type": "stream"
        },
        {
          "name": "stderr",
          "text": "\n",
          "output_type": "stream"
        },
        {
          "name": "stdout",
          "text": "Plotting labels to runs/detect/yolov8l_v8_300e/labels.jpg... \n\u001b[34m\u001b[1moptimizer:\u001b[0m 'optimizer=auto' found, ignoring 'lr0=0.01' and 'momentum=0.937' and determining best 'optimizer', 'lr0' and 'momentum' automatically... \n\u001b[34m\u001b[1moptimizer:\u001b[0m AdamW(lr=0.00125, momentum=0.9) with parameter groups 97 weight(decay=0.0), 104 weight(decay=0.0005), 103 bias(decay=0.0)\n\u001b[34m\u001b[1mTensorBoard: \u001b[0mmodel graph visualization added ✅\nImage sizes 640 train, 640 val\nUsing 2 dataloader workers\nLogging results to \u001b[1mruns/detect/yolov8l_v8_300e\u001b[0m\nStarting training for 300 epochs...\n\n      Epoch    GPU_mem   box_loss   cls_loss   dfl_loss  Instances       Size\n",
          "output_type": "stream"
        },
        {
          "name": "stderr",
          "text": "      1/300      5.84G      1.218      3.768      1.484         43        640: 100%|██████████| 7/7 [00:05<00:00,  1.37it/s]\n                 Class     Images  Instances      Box(P          R      mAP50  mAP50-95): 100%|██████████| 1/1 [00:01<00:00,  1.70s/it]",
          "output_type": "stream"
        },
        {
          "name": "stdout",
          "text": "                   all         10         12      0.669      0.359      0.265       0.26\n",
          "output_type": "stream"
        },
        {
          "name": "stderr",
          "text": "\n",
          "output_type": "stream"
        },
        {
          "name": "stdout",
          "text": "\n      Epoch    GPU_mem   box_loss   cls_loss   dfl_loss  Instances       Size\n",
          "output_type": "stream"
        },
        {
          "name": "stderr",
          "text": "      2/300      5.62G      1.104      4.616      1.397          3        640: 100%|██████████| 7/7 [00:02<00:00,  2.89it/s]\n                 Class     Images  Instances      Box(P          R      mAP50  mAP50-95): 100%|██████████| 1/1 [00:00<00:00,  3.80it/s]",
          "output_type": "stream"
        },
        {
          "name": "stdout",
          "text": "                   all         10         12      0.576      0.375      0.251      0.155\n",
          "output_type": "stream"
        },
        {
          "name": "stderr",
          "text": "\n",
          "output_type": "stream"
        },
        {
          "name": "stdout",
          "text": "\n      Epoch    GPU_mem   box_loss   cls_loss   dfl_loss  Instances       Size\n",
          "output_type": "stream"
        },
        {
          "name": "stderr",
          "text": "      3/300      5.61G      1.276      3.082      1.528          5        640: 100%|██████████| 7/7 [00:02<00:00,  2.91it/s]\n                 Class     Images  Instances      Box(P          R      mAP50  mAP50-95): 100%|██████████| 1/1 [00:00<00:00,  4.65it/s]",
          "output_type": "stream"
        },
        {
          "name": "stdout",
          "text": "                   all         10         12      0.338      0.175      0.172     0.0606\n",
          "output_type": "stream"
        },
        {
          "name": "stderr",
          "text": "\n",
          "output_type": "stream"
        },
        {
          "name": "stdout",
          "text": "\n      Epoch    GPU_mem   box_loss   cls_loss   dfl_loss  Instances       Size\n",
          "output_type": "stream"
        },
        {
          "name": "stderr",
          "text": "      4/300       5.8G      1.538      4.794      1.869          2        640: 100%|██████████| 7/7 [00:02<00:00,  2.88it/s]\n                 Class     Images  Instances      Box(P          R      mAP50  mAP50-95): 100%|██████████| 1/1 [00:00<00:00,  3.63it/s]",
          "output_type": "stream"
        },
        {
          "name": "stdout",
          "text": "                   all         10         12      0.344       0.15      0.138     0.0496\n",
          "output_type": "stream"
        },
        {
          "name": "stderr",
          "text": "\n",
          "output_type": "stream"
        },
        {
          "name": "stdout",
          "text": "\n      Epoch    GPU_mem   box_loss   cls_loss   dfl_loss  Instances       Size\n",
          "output_type": "stream"
        },
        {
          "name": "stderr",
          "text": "      5/300      5.61G      1.602       2.74      1.673          4        640: 100%|██████████| 7/7 [00:02<00:00,  2.91it/s]\n                 Class     Images  Instances      Box(P          R      mAP50  mAP50-95): 100%|██████████| 1/1 [00:00<00:00,  3.82it/s]",
          "output_type": "stream"
        },
        {
          "name": "stdout",
          "text": "                   all         10         12      0.127      0.717      0.106     0.0431\n",
          "output_type": "stream"
        },
        {
          "name": "stderr",
          "text": "\n",
          "output_type": "stream"
        },
        {
          "name": "stdout",
          "text": "\n      Epoch    GPU_mem   box_loss   cls_loss   dfl_loss  Instances       Size\n",
          "output_type": "stream"
        },
        {
          "name": "stderr",
          "text": "      6/300       5.8G      1.375      2.771      1.616          8        640: 100%|██████████| 7/7 [00:02<00:00,  2.91it/s]\n                 Class     Images  Instances      Box(P          R      mAP50  mAP50-95): 100%|██████████| 1/1 [00:00<00:00,  3.84it/s]",
          "output_type": "stream"
        },
        {
          "name": "stdout",
          "text": "                   all         10         12    0.00432      0.525    0.00839    0.00277\n",
          "output_type": "stream"
        },
        {
          "name": "stderr",
          "text": "\n",
          "output_type": "stream"
        },
        {
          "name": "stdout",
          "text": "\n      Epoch    GPU_mem   box_loss   cls_loss   dfl_loss  Instances       Size\n",
          "output_type": "stream"
        },
        {
          "name": "stderr",
          "text": "      7/300      5.63G      1.357      2.836      1.564         12        640: 100%|██████████| 7/7 [00:02<00:00,  2.96it/s]\n                 Class     Images  Instances      Box(P          R      mAP50  mAP50-95): 100%|██████████| 1/1 [00:00<00:00,  3.94it/s]",
          "output_type": "stream"
        },
        {
          "name": "stdout",
          "text": "                   all         10         12   0.000605        0.1    0.00356    0.00159\n",
          "output_type": "stream"
        },
        {
          "name": "stderr",
          "text": "\n",
          "output_type": "stream"
        },
        {
          "name": "stdout",
          "text": "\n      Epoch    GPU_mem   box_loss   cls_loss   dfl_loss  Instances       Size\n",
          "output_type": "stream"
        },
        {
          "name": "stderr",
          "text": "      8/300      5.77G       1.41      2.932      1.704          4        640: 100%|██████████| 7/7 [00:02<00:00,  2.92it/s]\n                 Class     Images  Instances      Box(P          R      mAP50  mAP50-95): 100%|██████████| 1/1 [00:00<00:00,  4.72it/s]",
          "output_type": "stream"
        },
        {
          "name": "stdout",
          "text": "                   all         10         12    0.00165      0.417      0.006    0.00282\n",
          "output_type": "stream"
        },
        {
          "name": "stderr",
          "text": "\n",
          "output_type": "stream"
        },
        {
          "name": "stdout",
          "text": "\n      Epoch    GPU_mem   box_loss   cls_loss   dfl_loss  Instances       Size\n",
          "output_type": "stream"
        },
        {
          "name": "stderr",
          "text": "      9/300      5.79G      1.467      2.554      1.574          4        640: 100%|██████████| 7/7 [00:02<00:00,  2.95it/s]\n                 Class     Images  Instances      Box(P          R      mAP50  mAP50-95): 100%|██████████| 1/1 [00:00<00:00,  4.55it/s]",
          "output_type": "stream"
        },
        {
          "name": "stdout",
          "text": "                   all         10         12   0.000268     0.0833   0.000408   0.000289\n",
          "output_type": "stream"
        },
        {
          "name": "stderr",
          "text": "\n",
          "output_type": "stream"
        },
        {
          "name": "stdout",
          "text": "\n      Epoch    GPU_mem   box_loss   cls_loss   dfl_loss  Instances       Size\n",
          "output_type": "stream"
        },
        {
          "name": "stderr",
          "text": "     10/300       5.8G      1.555      2.646      1.695          7        640: 100%|██████████| 7/7 [00:02<00:00,  2.96it/s]\n                 Class     Images  Instances      Box(P          R      mAP50  mAP50-95): 100%|██████████| 1/1 [00:00<00:00,  4.20it/s]",
          "output_type": "stream"
        },
        {
          "name": "stdout",
          "text": "                   all         10         12    0.00127      0.208   0.000943   0.000134\n",
          "output_type": "stream"
        },
        {
          "name": "stderr",
          "text": "\n",
          "output_type": "stream"
        },
        {
          "name": "stdout",
          "text": "\n      Epoch    GPU_mem   box_loss   cls_loss   dfl_loss  Instances       Size\n",
          "output_type": "stream"
        },
        {
          "name": "stderr",
          "text": "     11/300      5.86G      1.562      2.752      1.629          8        640: 100%|██████████| 7/7 [00:02<00:00,  2.87it/s]\n                 Class     Images  Instances      Box(P          R      mAP50  mAP50-95): 100%|██████████| 1/1 [00:00<00:00,  3.94it/s]",
          "output_type": "stream"
        },
        {
          "name": "stdout",
          "text": "                   all         10         12    0.00127      0.208   0.000943   0.000134\n",
          "output_type": "stream"
        },
        {
          "name": "stderr",
          "text": "\n",
          "output_type": "stream"
        },
        {
          "name": "stdout",
          "text": "\n      Epoch    GPU_mem   box_loss   cls_loss   dfl_loss  Instances       Size\n",
          "output_type": "stream"
        },
        {
          "name": "stderr",
          "text": "     12/300      5.62G      1.524       2.87      1.681          2        640: 100%|██████████| 7/7 [00:02<00:00,  2.95it/s]\n                 Class     Images  Instances      Box(P          R      mAP50  mAP50-95): 100%|██████████| 1/1 [00:00<00:00,  2.79it/s]",
          "output_type": "stream"
        },
        {
          "name": "stdout",
          "text": "                   all         10         12    0.00127      0.208   0.000943   0.000134\n",
          "output_type": "stream"
        },
        {
          "name": "stderr",
          "text": "\n",
          "output_type": "stream"
        },
        {
          "name": "stdout",
          "text": "\n      Epoch    GPU_mem   box_loss   cls_loss   dfl_loss  Instances       Size\n",
          "output_type": "stream"
        },
        {
          "name": "stderr",
          "text": "     13/300      5.66G      1.528      2.463       1.58          8        640: 100%|██████████| 7/7 [00:02<00:00,  2.92it/s]\n                 Class     Images  Instances      Box(P          R      mAP50  mAP50-95): 100%|██████████| 1/1 [00:00<00:00,  3.94it/s]",
          "output_type": "stream"
        },
        {
          "name": "stdout",
          "text": "                   all         10         12   0.000182       0.05   0.000126   1.26e-05\n",
          "output_type": "stream"
        },
        {
          "name": "stderr",
          "text": "\n",
          "output_type": "stream"
        },
        {
          "name": "stdout",
          "text": "\n      Epoch    GPU_mem   box_loss   cls_loss   dfl_loss  Instances       Size\n",
          "output_type": "stream"
        },
        {
          "name": "stderr",
          "text": "     14/300      5.66G      1.498      5.546       1.67          6        640: 100%|██████████| 7/7 [00:02<00:00,  2.96it/s]\n                 Class     Images  Instances      Box(P          R      mAP50  mAP50-95): 100%|██████████| 1/1 [00:00<00:00,  4.22it/s]",
          "output_type": "stream"
        },
        {
          "name": "stdout",
          "text": "                   all         10         12   0.000182       0.05   0.000126   1.26e-05\n",
          "output_type": "stream"
        },
        {
          "name": "stderr",
          "text": "\n",
          "output_type": "stream"
        },
        {
          "name": "stdout",
          "text": "\n      Epoch    GPU_mem   box_loss   cls_loss   dfl_loss  Instances       Size\n",
          "output_type": "stream"
        },
        {
          "name": "stderr",
          "text": "     15/300      5.79G        2.1      4.074      2.041          5        640: 100%|██████████| 7/7 [00:02<00:00,  2.92it/s]\n                 Class     Images  Instances      Box(P          R      mAP50  mAP50-95): 100%|██████████| 1/1 [00:00<00:00,  3.47it/s]",
          "output_type": "stream"
        },
        {
          "name": "stdout",
          "text": "                   all         10         12   0.000182       0.05   0.000126   1.26e-05\n",
          "output_type": "stream"
        },
        {
          "name": "stderr",
          "text": "\n",
          "output_type": "stream"
        },
        {
          "name": "stdout",
          "text": "\n      Epoch    GPU_mem   box_loss   cls_loss   dfl_loss  Instances       Size\n",
          "output_type": "stream"
        },
        {
          "name": "stderr",
          "text": "     16/300      5.79G      1.896      3.098      1.976          6        640: 100%|██████████| 7/7 [00:02<00:00,  2.91it/s]\n                 Class     Images  Instances      Box(P          R      mAP50  mAP50-95): 100%|██████████| 1/1 [00:00<00:00,  4.83it/s]",
          "output_type": "stream"
        },
        {
          "name": "stdout",
          "text": "                   all         10         12    0.00213       0.65    0.00393    0.00149\n",
          "output_type": "stream"
        },
        {
          "name": "stderr",
          "text": "\n",
          "output_type": "stream"
        },
        {
          "name": "stdout",
          "text": "\n      Epoch    GPU_mem   box_loss   cls_loss   dfl_loss  Instances       Size\n",
          "output_type": "stream"
        },
        {
          "name": "stderr",
          "text": "     17/300      5.82G      1.721      2.952      1.763          9        640: 100%|██████████| 7/7 [00:02<00:00,  2.88it/s]\n                 Class     Images  Instances      Box(P          R      mAP50  mAP50-95): 100%|██████████| 1/1 [00:00<00:00,  4.77it/s]",
          "output_type": "stream"
        },
        {
          "name": "stdout",
          "text": "                   all         10         12     0.0015      0.475     0.0147    0.00304\n",
          "output_type": "stream"
        },
        {
          "name": "stderr",
          "text": "\n",
          "output_type": "stream"
        },
        {
          "name": "stdout",
          "text": "\n      Epoch    GPU_mem   box_loss   cls_loss   dfl_loss  Instances       Size\n",
          "output_type": "stream"
        },
        {
          "name": "stderr",
          "text": "     18/300      5.78G      1.554      2.878      1.739          5        640: 100%|██████████| 7/7 [00:02<00:00,  2.87it/s]\n                 Class     Images  Instances      Box(P          R      mAP50  mAP50-95): 100%|██████████| 1/1 [00:00<00:00,  4.35it/s]",
          "output_type": "stream"
        },
        {
          "name": "stdout",
          "text": "                   all         10         12      0.118      0.525      0.134     0.0781\n",
          "output_type": "stream"
        },
        {
          "name": "stderr",
          "text": "\n",
          "output_type": "stream"
        },
        {
          "name": "stdout",
          "text": "\n      Epoch    GPU_mem   box_loss   cls_loss   dfl_loss  Instances       Size\n",
          "output_type": "stream"
        },
        {
          "name": "stderr",
          "text": "     19/300      5.79G      1.767       3.06      1.878          4        640: 100%|██████████| 7/7 [00:02<00:00,  2.85it/s]\n                 Class     Images  Instances      Box(P          R      mAP50  mAP50-95): 100%|██████████| 1/1 [00:00<00:00,  4.69it/s]",
          "output_type": "stream"
        },
        {
          "name": "stdout",
          "text": "                   all         10         12    0.00429      0.475    0.00641    0.00249\n",
          "output_type": "stream"
        },
        {
          "name": "stderr",
          "text": "\n",
          "output_type": "stream"
        },
        {
          "name": "stdout",
          "text": "\n      Epoch    GPU_mem   box_loss   cls_loss   dfl_loss  Instances       Size\n",
          "output_type": "stream"
        },
        {
          "name": "stderr",
          "text": "     20/300      5.78G      1.561      2.631      1.709         13        640: 100%|██████████| 7/7 [00:02<00:00,  2.89it/s]\n                 Class     Images  Instances      Box(P          R      mAP50  mAP50-95): 100%|██████████| 1/1 [00:00<00:00,  4.73it/s]",
          "output_type": "stream"
        },
        {
          "name": "stdout",
          "text": "                   all         10         12     0.0019        0.1    0.00145    0.00031\n",
          "output_type": "stream"
        },
        {
          "name": "stderr",
          "text": "\n",
          "output_type": "stream"
        },
        {
          "name": "stdout",
          "text": "\n      Epoch    GPU_mem   box_loss   cls_loss   dfl_loss  Instances       Size\n",
          "output_type": "stream"
        },
        {
          "name": "stderr",
          "text": "     21/300      5.82G      1.539      2.392      1.692         10        640: 100%|██████████| 7/7 [00:02<00:00,  2.86it/s]\n                 Class     Images  Instances      Box(P          R      mAP50  mAP50-95): 100%|██████████| 1/1 [00:00<00:00,  4.58it/s]",
          "output_type": "stream"
        },
        {
          "name": "stdout",
          "text": "                   all         10         12    0.00112      0.225   0.000826   0.000217\n",
          "output_type": "stream"
        },
        {
          "name": "stderr",
          "text": "\n",
          "output_type": "stream"
        },
        {
          "name": "stdout",
          "text": "\n      Epoch    GPU_mem   box_loss   cls_loss   dfl_loss  Instances       Size\n",
          "output_type": "stream"
        },
        {
          "name": "stderr",
          "text": "     22/300      5.63G      1.462      2.531      1.697          3        640: 100%|██████████| 7/7 [00:02<00:00,  2.93it/s]\n                 Class     Images  Instances      Box(P          R      mAP50  mAP50-95): 100%|██████████| 1/1 [00:00<00:00,  4.59it/s]",
          "output_type": "stream"
        },
        {
          "name": "stdout",
          "text": "                   all         10         12    0.00112      0.225   0.000826   0.000217\n",
          "output_type": "stream"
        },
        {
          "name": "stderr",
          "text": "\n",
          "output_type": "stream"
        },
        {
          "name": "stdout",
          "text": "\n      Epoch    GPU_mem   box_loss   cls_loss   dfl_loss  Instances       Size\n",
          "output_type": "stream"
        },
        {
          "name": "stderr",
          "text": "     23/300      5.79G      1.804      2.461      1.851          2        640: 100%|██████████| 7/7 [00:02<00:00,  2.83it/s]\n                 Class     Images  Instances      Box(P          R      mAP50  mAP50-95): 100%|██████████| 1/1 [00:00<00:00,  4.57it/s]",
          "output_type": "stream"
        },
        {
          "name": "stdout",
          "text": "                   all         10         12    0.00601        0.1    0.00773    0.00395\n",
          "output_type": "stream"
        },
        {
          "name": "stderr",
          "text": "\n",
          "output_type": "stream"
        },
        {
          "name": "stdout",
          "text": "\n      Epoch    GPU_mem   box_loss   cls_loss   dfl_loss  Instances       Size\n",
          "output_type": "stream"
        },
        {
          "name": "stderr",
          "text": "     24/300      5.79G      1.571      2.349      1.678          5        640: 100%|██████████| 7/7 [00:02<00:00,  2.88it/s]\n                 Class     Images  Instances      Box(P          R      mAP50  mAP50-95): 100%|██████████| 1/1 [00:00<00:00,  4.49it/s]",
          "output_type": "stream"
        },
        {
          "name": "stdout",
          "text": "                   all         10         12    0.00714      0.275      0.021    0.00633\n",
          "output_type": "stream"
        },
        {
          "name": "stderr",
          "text": "\n",
          "output_type": "stream"
        },
        {
          "name": "stdout",
          "text": "\n      Epoch    GPU_mem   box_loss   cls_loss   dfl_loss  Instances       Size\n",
          "output_type": "stream"
        },
        {
          "name": "stderr",
          "text": "     25/300      5.78G      1.466      2.478       1.72         12        640: 100%|██████████| 7/7 [00:02<00:00,  2.83it/s]\n                 Class     Images  Instances      Box(P          R      mAP50  mAP50-95): 100%|██████████| 1/1 [00:00<00:00,  4.63it/s]",
          "output_type": "stream"
        },
        {
          "name": "stdout",
          "text": "                   all         10         12      0.772        0.1     0.0329    0.00778\n",
          "output_type": "stream"
        },
        {
          "name": "stderr",
          "text": "\n",
          "output_type": "stream"
        },
        {
          "name": "stdout",
          "text": "\n      Epoch    GPU_mem   box_loss   cls_loss   dfl_loss  Instances       Size\n",
          "output_type": "stream"
        },
        {
          "name": "stderr",
          "text": "     26/300      5.79G      1.468      2.523       1.73          5        640: 100%|██████████| 7/7 [00:02<00:00,  2.85it/s]\n                 Class     Images  Instances      Box(P          R      mAP50  mAP50-95): 100%|██████████| 1/1 [00:00<00:00,  4.76it/s]",
          "output_type": "stream"
        },
        {
          "name": "stdout",
          "text": "                   all         10         12    0.00899      0.308     0.0138    0.00478\n",
          "output_type": "stream"
        },
        {
          "name": "stderr",
          "text": "\n",
          "output_type": "stream"
        },
        {
          "name": "stdout",
          "text": "\n      Epoch    GPU_mem   box_loss   cls_loss   dfl_loss  Instances       Size\n",
          "output_type": "stream"
        },
        {
          "name": "stderr",
          "text": "     27/300       5.8G      1.403      2.238      1.624          6        640: 100%|██████████| 7/7 [00:02<00:00,  2.84it/s]\n                 Class     Images  Instances      Box(P          R      mAP50  mAP50-95): 100%|██████████| 1/1 [00:00<00:00,  4.72it/s]",
          "output_type": "stream"
        },
        {
          "name": "stdout",
          "text": "                   all         10         12    0.00619       0.05    0.00632    0.00342\n",
          "output_type": "stream"
        },
        {
          "name": "stderr",
          "text": "\n",
          "output_type": "stream"
        },
        {
          "name": "stdout",
          "text": "\n      Epoch    GPU_mem   box_loss   cls_loss   dfl_loss  Instances       Size\n",
          "output_type": "stream"
        },
        {
          "name": "stderr",
          "text": "     28/300       5.8G      1.486      2.185      1.584         48        640: 100%|██████████| 7/7 [00:02<00:00,  2.84it/s]\n                 Class     Images  Instances      Box(P          R      mAP50  mAP50-95): 100%|██████████| 1/1 [00:00<00:00,  4.50it/s]",
          "output_type": "stream"
        },
        {
          "name": "stdout",
          "text": "                   all         10         12      0.524       0.05     0.0218    0.00884\n",
          "output_type": "stream"
        },
        {
          "name": "stderr",
          "text": "\n",
          "output_type": "stream"
        },
        {
          "name": "stdout",
          "text": "\n      Epoch    GPU_mem   box_loss   cls_loss   dfl_loss  Instances       Size\n",
          "output_type": "stream"
        },
        {
          "name": "stderr",
          "text": "     29/300      5.79G      1.397      2.257      1.611          2        640: 100%|██████████| 7/7 [00:02<00:00,  2.81it/s]\n                 Class     Images  Instances      Box(P          R      mAP50  mAP50-95): 100%|██████████| 1/1 [00:00<00:00,  4.41it/s]",
          "output_type": "stream"
        },
        {
          "name": "stdout",
          "text": "                   all         10         12     0.0297      0.467     0.0337    0.00867\n",
          "output_type": "stream"
        },
        {
          "name": "stderr",
          "text": "\n",
          "output_type": "stream"
        },
        {
          "name": "stdout",
          "text": "\n      Epoch    GPU_mem   box_loss   cls_loss   dfl_loss  Instances       Size\n",
          "output_type": "stream"
        },
        {
          "name": "stderr",
          "text": "     30/300      5.63G      1.546      2.204      1.724          5        640: 100%|██████████| 7/7 [00:02<00:00,  2.86it/s]\n                 Class     Images  Instances      Box(P          R      mAP50  mAP50-95): 100%|██████████| 1/1 [00:00<00:00,  4.34it/s]",
          "output_type": "stream"
        },
        {
          "name": "stdout",
          "text": "                   all         10         12     0.0297      0.467     0.0337    0.00867\n",
          "output_type": "stream"
        },
        {
          "name": "stderr",
          "text": "\n",
          "output_type": "stream"
        },
        {
          "name": "stdout",
          "text": "\n      Epoch    GPU_mem   box_loss   cls_loss   dfl_loss  Instances       Size\n",
          "output_type": "stream"
        },
        {
          "name": "stderr",
          "text": "     31/300      5.79G      1.472      2.046      1.573         30        640: 100%|██████████| 7/7 [00:02<00:00,  2.77it/s]\n                 Class     Images  Instances      Box(P          R      mAP50  mAP50-95): 100%|██████████| 1/1 [00:00<00:00,  4.44it/s]",
          "output_type": "stream"
        },
        {
          "name": "stdout",
          "text": "                   all         10         12    0.00714      0.358    0.00898    0.00379\n",
          "output_type": "stream"
        },
        {
          "name": "stderr",
          "text": "\n",
          "output_type": "stream"
        },
        {
          "name": "stdout",
          "text": "\n      Epoch    GPU_mem   box_loss   cls_loss   dfl_loss  Instances       Size\n",
          "output_type": "stream"
        },
        {
          "name": "stderr",
          "text": "     32/300      5.84G      1.464      1.964      1.636          6        640: 100%|██████████| 7/7 [00:02<00:00,  2.77it/s]\n                 Class     Images  Instances      Box(P          R      mAP50  mAP50-95): 100%|██████████| 1/1 [00:00<00:00,  4.57it/s]",
          "output_type": "stream"
        },
        {
          "name": "stdout",
          "text": "                   all         10         12    0.00573      0.575    0.00619    0.00296\n",
          "output_type": "stream"
        },
        {
          "name": "stderr",
          "text": "\n",
          "output_type": "stream"
        },
        {
          "name": "stdout",
          "text": "\n      Epoch    GPU_mem   box_loss   cls_loss   dfl_loss  Instances       Size\n",
          "output_type": "stream"
        },
        {
          "name": "stderr",
          "text": "     33/300      5.79G      1.491      2.036      1.662          6        640: 100%|██████████| 7/7 [00:02<00:00,  2.79it/s]\n                 Class     Images  Instances      Box(P          R      mAP50  mAP50-95): 100%|██████████| 1/1 [00:00<00:00,  4.63it/s]",
          "output_type": "stream"
        },
        {
          "name": "stdout",
          "text": "                   all         10         12      0.728        0.1      0.164      0.115\n",
          "output_type": "stream"
        },
        {
          "name": "stderr",
          "text": "\n",
          "output_type": "stream"
        },
        {
          "name": "stdout",
          "text": "\n      Epoch    GPU_mem   box_loss   cls_loss   dfl_loss  Instances       Size\n",
          "output_type": "stream"
        },
        {
          "name": "stderr",
          "text": "     34/300      5.79G      1.481      2.085      1.672         13        640: 100%|██████████| 7/7 [00:02<00:00,  2.78it/s]\n                 Class     Images  Instances      Box(P          R      mAP50  mAP50-95): 100%|██████████| 1/1 [00:00<00:00,  4.51it/s]",
          "output_type": "stream"
        },
        {
          "name": "stdout",
          "text": "                   all         10         12      0.525      0.183      0.264      0.177\n",
          "output_type": "stream"
        },
        {
          "name": "stderr",
          "text": "\n",
          "output_type": "stream"
        },
        {
          "name": "stdout",
          "text": "\n      Epoch    GPU_mem   box_loss   cls_loss   dfl_loss  Instances       Size\n",
          "output_type": "stream"
        },
        {
          "name": "stderr",
          "text": "     35/300      5.78G      1.398      1.978      1.639          9        640: 100%|██████████| 7/7 [00:02<00:00,  2.79it/s]\n                 Class     Images  Instances      Box(P          R      mAP50  mAP50-95): 100%|██████████| 1/1 [00:00<00:00,  4.68it/s]",
          "output_type": "stream"
        },
        {
          "name": "stdout",
          "text": "                   all         10         12      0.833      0.267      0.389      0.258\n",
          "output_type": "stream"
        },
        {
          "name": "stderr",
          "text": "\n",
          "output_type": "stream"
        },
        {
          "name": "stdout",
          "text": "\n      Epoch    GPU_mem   box_loss   cls_loss   dfl_loss  Instances       Size\n",
          "output_type": "stream"
        },
        {
          "name": "stderr",
          "text": "     36/300      5.77G      1.407      1.749      1.447          5        640: 100%|██████████| 7/7 [00:02<00:00,  2.79it/s]\n                 Class     Images  Instances      Box(P          R      mAP50  mAP50-95): 100%|██████████| 1/1 [00:00<00:00,  4.74it/s]",
          "output_type": "stream"
        },
        {
          "name": "stdout",
          "text": "                   all         10         12      0.588      0.317      0.349      0.216\n",
          "output_type": "stream"
        },
        {
          "name": "stderr",
          "text": "\n",
          "output_type": "stream"
        },
        {
          "name": "stdout",
          "text": "\n      Epoch    GPU_mem   box_loss   cls_loss   dfl_loss  Instances       Size\n",
          "output_type": "stream"
        },
        {
          "name": "stderr",
          "text": "     37/300      5.84G      1.411      1.622      1.478          4        640: 100%|██████████| 7/7 [00:02<00:00,  2.81it/s]\n                 Class     Images  Instances      Box(P          R      mAP50  mAP50-95): 100%|██████████| 1/1 [00:00<00:00,  4.58it/s]",
          "output_type": "stream"
        },
        {
          "name": "stdout",
          "text": "                   all         10         12      0.488      0.233      0.236      0.139\n",
          "output_type": "stream"
        },
        {
          "name": "stderr",
          "text": "\n",
          "output_type": "stream"
        },
        {
          "name": "stdout",
          "text": "\n      Epoch    GPU_mem   box_loss   cls_loss   dfl_loss  Instances       Size\n",
          "output_type": "stream"
        },
        {
          "name": "stderr",
          "text": "     38/300      5.62G      1.344      1.809      1.539          9        640: 100%|██████████| 7/7 [00:02<00:00,  2.87it/s]\n                 Class     Images  Instances      Box(P          R      mAP50  mAP50-95): 100%|██████████| 1/1 [00:00<00:00,  4.66it/s]",
          "output_type": "stream"
        },
        {
          "name": "stdout",
          "text": "                   all         10         12      0.488      0.233      0.236      0.139\n",
          "output_type": "stream"
        },
        {
          "name": "stderr",
          "text": "\n",
          "output_type": "stream"
        },
        {
          "name": "stdout",
          "text": "\n      Epoch    GPU_mem   box_loss   cls_loss   dfl_loss  Instances       Size\n",
          "output_type": "stream"
        },
        {
          "name": "stderr",
          "text": "     39/300      5.84G      1.322      1.766      1.513          5        640: 100%|██████████| 7/7 [00:02<00:00,  2.82it/s]\n                 Class     Images  Instances      Box(P          R      mAP50  mAP50-95): 100%|██████████| 1/1 [00:00<00:00,  4.77it/s]",
          "output_type": "stream"
        },
        {
          "name": "stdout",
          "text": "                   all         10         12      0.306      0.809      0.429      0.245\n",
          "output_type": "stream"
        },
        {
          "name": "stderr",
          "text": "\n",
          "output_type": "stream"
        },
        {
          "name": "stdout",
          "text": "\n      Epoch    GPU_mem   box_loss   cls_loss   dfl_loss  Instances       Size\n",
          "output_type": "stream"
        },
        {
          "name": "stderr",
          "text": "     40/300      5.84G      1.395      1.752      1.481         23        640: 100%|██████████| 7/7 [00:02<00:00,  2.82it/s]\n                 Class     Images  Instances      Box(P          R      mAP50  mAP50-95): 100%|██████████| 1/1 [00:00<00:00,  4.67it/s]",
          "output_type": "stream"
        },
        {
          "name": "stdout",
          "text": "                   all         10         12      0.303      0.775       0.44      0.302\n",
          "output_type": "stream"
        },
        {
          "name": "stderr",
          "text": "\n",
          "output_type": "stream"
        },
        {
          "name": "stdout",
          "text": "\n      Epoch    GPU_mem   box_loss   cls_loss   dfl_loss  Instances       Size\n",
          "output_type": "stream"
        },
        {
          "name": "stderr",
          "text": "     41/300      5.84G       1.28      1.708      1.449          7        640: 100%|██████████| 7/7 [00:02<00:00,  2.83it/s]\n                 Class     Images  Instances      Box(P          R      mAP50  mAP50-95): 100%|██████████| 1/1 [00:00<00:00,  4.54it/s]",
          "output_type": "stream"
        },
        {
          "name": "stdout",
          "text": "                   all         10         12      0.228      0.775      0.358      0.251\n",
          "output_type": "stream"
        },
        {
          "name": "stderr",
          "text": "\n",
          "output_type": "stream"
        },
        {
          "name": "stdout",
          "text": "\n      Epoch    GPU_mem   box_loss   cls_loss   dfl_loss  Instances       Size\n",
          "output_type": "stream"
        },
        {
          "name": "stderr",
          "text": "     42/300      5.84G      1.372      1.791      1.527          3        640: 100%|██████████| 7/7 [00:02<00:00,  2.81it/s]\n                 Class     Images  Instances      Box(P          R      mAP50  mAP50-95): 100%|██████████| 1/1 [00:00<00:00,  4.67it/s]",
          "output_type": "stream"
        },
        {
          "name": "stdout",
          "text": "                   all         10         12       0.42      0.775      0.545      0.352\n",
          "output_type": "stream"
        },
        {
          "name": "stderr",
          "text": "\n",
          "output_type": "stream"
        },
        {
          "name": "stdout",
          "text": "\n      Epoch    GPU_mem   box_loss   cls_loss   dfl_loss  Instances       Size\n",
          "output_type": "stream"
        },
        {
          "name": "stderr",
          "text": "     43/300      5.79G       1.33      1.791      1.408          6        640: 100%|██████████| 7/7 [00:02<00:00,  2.82it/s]\n                 Class     Images  Instances      Box(P          R      mAP50  mAP50-95): 100%|██████████| 1/1 [00:00<00:00,  4.48it/s]",
          "output_type": "stream"
        },
        {
          "name": "stdout",
          "text": "                   all         10         12      0.255      0.748      0.397      0.254\n",
          "output_type": "stream"
        },
        {
          "name": "stderr",
          "text": "\n",
          "output_type": "stream"
        },
        {
          "name": "stdout",
          "text": "\n      Epoch    GPU_mem   box_loss   cls_loss   dfl_loss  Instances       Size\n",
          "output_type": "stream"
        },
        {
          "name": "stderr",
          "text": "     44/300      5.77G      1.316      1.913      1.539         12        640: 100%|██████████| 7/7 [00:02<00:00,  2.83it/s]\n                 Class     Images  Instances      Box(P          R      mAP50  mAP50-95): 100%|██████████| 1/1 [00:00<00:00,  4.76it/s]",
          "output_type": "stream"
        },
        {
          "name": "stdout",
          "text": "                   all         10         12      0.285      0.632      0.439      0.282\n",
          "output_type": "stream"
        },
        {
          "name": "stderr",
          "text": "\n",
          "output_type": "stream"
        },
        {
          "name": "stdout",
          "text": "\n      Epoch    GPU_mem   box_loss   cls_loss   dfl_loss  Instances       Size\n",
          "output_type": "stream"
        },
        {
          "name": "stderr",
          "text": "     45/300      5.78G      1.243      1.748      1.448          4        640: 100%|██████████| 7/7 [00:02<00:00,  2.81it/s]\n                 Class     Images  Instances      Box(P          R      mAP50  mAP50-95): 100%|██████████| 1/1 [00:00<00:00,  4.52it/s]",
          "output_type": "stream"
        },
        {
          "name": "stdout",
          "text": "                   all         10         12      0.196       0.65      0.373      0.233\n",
          "output_type": "stream"
        },
        {
          "name": "stderr",
          "text": "\n",
          "output_type": "stream"
        },
        {
          "name": "stdout",
          "text": "\n      Epoch    GPU_mem   box_loss   cls_loss   dfl_loss  Instances       Size\n",
          "output_type": "stream"
        },
        {
          "name": "stderr",
          "text": "     46/300      5.62G      1.473      1.754      1.626          3        640: 100%|██████████| 7/7 [00:02<00:00,  2.83it/s]\n                 Class     Images  Instances      Box(P          R      mAP50  mAP50-95): 100%|██████████| 1/1 [00:00<00:00,  4.46it/s]",
          "output_type": "stream"
        },
        {
          "name": "stdout",
          "text": "                   all         10         12      0.196       0.65      0.373      0.233\n",
          "output_type": "stream"
        },
        {
          "name": "stderr",
          "text": "\n",
          "output_type": "stream"
        },
        {
          "name": "stdout",
          "text": "\n      Epoch    GPU_mem   box_loss   cls_loss   dfl_loss  Instances       Size\n",
          "output_type": "stream"
        },
        {
          "name": "stderr",
          "text": "     47/300      5.79G      1.319      1.603      1.389          9        640: 100%|██████████| 7/7 [00:02<00:00,  2.78it/s]\n                 Class     Images  Instances      Box(P          R      mAP50  mAP50-95): 100%|██████████| 1/1 [00:00<00:00,  4.65it/s]",
          "output_type": "stream"
        },
        {
          "name": "stdout",
          "text": "                   all         10         12      0.232      0.775      0.403      0.244\n",
          "output_type": "stream"
        },
        {
          "name": "stderr",
          "text": "\n",
          "output_type": "stream"
        },
        {
          "name": "stdout",
          "text": "\n      Epoch    GPU_mem   box_loss   cls_loss   dfl_loss  Instances       Size\n",
          "output_type": "stream"
        },
        {
          "name": "stderr",
          "text": "     48/300      5.79G      1.288      1.645      1.543          9        640: 100%|██████████| 7/7 [00:02<00:00,  2.78it/s]\n                 Class     Images  Instances      Box(P          R      mAP50  mAP50-95): 100%|██████████| 1/1 [00:00<00:00,  4.48it/s]",
          "output_type": "stream"
        },
        {
          "name": "stdout",
          "text": "                   all         10         12      0.179      0.775      0.376      0.207\n",
          "output_type": "stream"
        },
        {
          "name": "stderr",
          "text": "\n",
          "output_type": "stream"
        },
        {
          "name": "stdout",
          "text": "\n      Epoch    GPU_mem   box_loss   cls_loss   dfl_loss  Instances       Size\n",
          "output_type": "stream"
        },
        {
          "name": "stderr",
          "text": "     49/300       5.8G      1.384      1.729      1.566         12        640: 100%|██████████| 7/7 [00:02<00:00,  2.78it/s]\n                 Class     Images  Instances      Box(P          R      mAP50  mAP50-95): 100%|██████████| 1/1 [00:00<00:00,  4.67it/s]",
          "output_type": "stream"
        },
        {
          "name": "stdout",
          "text": "                   all         10         12      0.929      0.307      0.505      0.325\n",
          "output_type": "stream"
        },
        {
          "name": "stderr",
          "text": "\n",
          "output_type": "stream"
        },
        {
          "name": "stdout",
          "text": "\n      Epoch    GPU_mem   box_loss   cls_loss   dfl_loss  Instances       Size\n",
          "output_type": "stream"
        },
        {
          "name": "stderr",
          "text": "     50/300      5.79G      1.157      1.601      1.307         11        640: 100%|██████████| 7/7 [00:02<00:00,  2.78it/s]\n                 Class     Images  Instances      Box(P          R      mAP50  mAP50-95): 100%|██████████| 1/1 [00:00<00:00,  4.62it/s]",
          "output_type": "stream"
        },
        {
          "name": "stdout",
          "text": "                   all         10         12      0.508      0.525      0.496      0.378\n",
          "output_type": "stream"
        },
        {
          "name": "stderr",
          "text": "\n",
          "output_type": "stream"
        },
        {
          "name": "stdout",
          "text": "\n      Epoch    GPU_mem   box_loss   cls_loss   dfl_loss  Instances       Size\n",
          "output_type": "stream"
        },
        {
          "name": "stderr",
          "text": "     51/300      5.78G      1.285      1.772      1.517          4        640: 100%|██████████| 7/7 [00:02<00:00,  2.80it/s]\n                 Class     Images  Instances      Box(P          R      mAP50  mAP50-95): 100%|██████████| 1/1 [00:00<00:00,  4.69it/s]",
          "output_type": "stream"
        },
        {
          "name": "stdout",
          "text": "                   all         10         12      0.565      0.525      0.405      0.297\n",
          "output_type": "stream"
        },
        {
          "name": "stderr",
          "text": "\n",
          "output_type": "stream"
        },
        {
          "name": "stdout",
          "text": "\n      Epoch    GPU_mem   box_loss   cls_loss   dfl_loss  Instances       Size\n",
          "output_type": "stream"
        },
        {
          "name": "stderr",
          "text": "     52/300      5.81G      1.281      1.882      1.424          2        640: 100%|██████████| 7/7 [00:02<00:00,  2.82it/s]\n                 Class     Images  Instances      Box(P          R      mAP50  mAP50-95): 100%|██████████| 1/1 [00:00<00:00,  4.69it/s]",
          "output_type": "stream"
        },
        {
          "name": "stdout",
          "text": "                   all         10         12      0.575      0.525      0.555      0.359\n",
          "output_type": "stream"
        },
        {
          "name": "stderr",
          "text": "\n",
          "output_type": "stream"
        },
        {
          "name": "stdout",
          "text": "\n      Epoch    GPU_mem   box_loss   cls_loss   dfl_loss  Instances       Size\n",
          "output_type": "stream"
        },
        {
          "name": "stderr",
          "text": "     53/300       5.8G      1.093      1.687      1.386          5        640: 100%|██████████| 7/7 [00:02<00:00,  2.85it/s]\n                 Class     Images  Instances      Box(P          R      mAP50  mAP50-95): 100%|██████████| 1/1 [00:00<00:00,  4.65it/s]",
          "output_type": "stream"
        },
        {
          "name": "stdout",
          "text": "                   all         10         12      0.703      0.442      0.584       0.41\n",
          "output_type": "stream"
        },
        {
          "name": "stderr",
          "text": "\n",
          "output_type": "stream"
        },
        {
          "name": "stdout",
          "text": "\n      Epoch    GPU_mem   box_loss   cls_loss   dfl_loss  Instances       Size\n",
          "output_type": "stream"
        },
        {
          "name": "stderr",
          "text": "     54/300      5.67G      1.088      1.533       1.34          6        640: 100%|██████████| 7/7 [00:02<00:00,  2.89it/s]\n                 Class     Images  Instances      Box(P          R      mAP50  mAP50-95): 100%|██████████| 1/1 [00:00<00:00,  4.66it/s]",
          "output_type": "stream"
        },
        {
          "name": "stdout",
          "text": "                   all         10         12      0.703      0.442      0.584       0.41\n",
          "output_type": "stream"
        },
        {
          "name": "stderr",
          "text": "\n",
          "output_type": "stream"
        },
        {
          "name": "stdout",
          "text": "\n      Epoch    GPU_mem   box_loss   cls_loss   dfl_loss  Instances       Size\n",
          "output_type": "stream"
        },
        {
          "name": "stderr",
          "text": "     55/300      5.78G      1.156      1.743      1.443          4        640: 100%|██████████| 7/7 [00:02<00:00,  2.82it/s]\n                 Class     Images  Instances      Box(P          R      mAP50  mAP50-95): 100%|██████████| 1/1 [00:00<00:00,  4.61it/s]",
          "output_type": "stream"
        },
        {
          "name": "stdout",
          "text": "                   all         10         12      0.516      0.631      0.607      0.473\n",
          "output_type": "stream"
        },
        {
          "name": "stderr",
          "text": "\n",
          "output_type": "stream"
        },
        {
          "name": "stdout",
          "text": "\n      Epoch    GPU_mem   box_loss   cls_loss   dfl_loss  Instances       Size\n",
          "output_type": "stream"
        },
        {
          "name": "stderr",
          "text": "     56/300      5.79G      1.183      1.805      1.431          4        640: 100%|██████████| 7/7 [00:02<00:00,  2.82it/s]\n                 Class     Images  Instances      Box(P          R      mAP50  mAP50-95): 100%|██████████| 1/1 [00:00<00:00,  4.58it/s]",
          "output_type": "stream"
        },
        {
          "name": "stdout",
          "text": "                   all         10         12      0.636      0.517      0.563      0.467\n",
          "output_type": "stream"
        },
        {
          "name": "stderr",
          "text": "\n",
          "output_type": "stream"
        },
        {
          "name": "stdout",
          "text": "\n      Epoch    GPU_mem   box_loss   cls_loss   dfl_loss  Instances       Size\n",
          "output_type": "stream"
        },
        {
          "name": "stderr",
          "text": "     57/300       5.8G      1.129      1.358      1.287         12        640: 100%|██████████| 7/7 [00:02<00:00,  2.81it/s]\n                 Class     Images  Instances      Box(P          R      mAP50  mAP50-95): 100%|██████████| 1/1 [00:00<00:00,  4.64it/s]",
          "output_type": "stream"
        },
        {
          "name": "stdout",
          "text": "                   all         10         12      0.588      0.517      0.591      0.486\n",
          "output_type": "stream"
        },
        {
          "name": "stderr",
          "text": "\n",
          "output_type": "stream"
        },
        {
          "name": "stdout",
          "text": "\n      Epoch    GPU_mem   box_loss   cls_loss   dfl_loss  Instances       Size\n",
          "output_type": "stream"
        },
        {
          "name": "stderr",
          "text": "     58/300      5.79G      1.273      1.933      1.618          2        640: 100%|██████████| 7/7 [00:02<00:00,  2.81it/s]\n                 Class     Images  Instances      Box(P          R      mAP50  mAP50-95): 100%|██████████| 1/1 [00:00<00:00,  4.78it/s]",
          "output_type": "stream"
        },
        {
          "name": "stdout",
          "text": "                   all         10         12      0.437      0.712      0.616      0.464\n",
          "output_type": "stream"
        },
        {
          "name": "stderr",
          "text": "\n",
          "output_type": "stream"
        },
        {
          "name": "stdout",
          "text": "\n      Epoch    GPU_mem   box_loss   cls_loss   dfl_loss  Instances       Size\n",
          "output_type": "stream"
        },
        {
          "name": "stderr",
          "text": "     59/300       5.8G      1.147      1.396      1.316         13        640: 100%|██████████| 7/7 [00:02<00:00,  2.84it/s]\n                 Class     Images  Instances      Box(P          R      mAP50  mAP50-95): 100%|██████████| 1/1 [00:00<00:00,  4.55it/s]",
          "output_type": "stream"
        },
        {
          "name": "stdout",
          "text": "                   all         10         12      0.389        0.4       0.49      0.322\n",
          "output_type": "stream"
        },
        {
          "name": "stderr",
          "text": "\n",
          "output_type": "stream"
        },
        {
          "name": "stdout",
          "text": "\n      Epoch    GPU_mem   box_loss   cls_loss   dfl_loss  Instances       Size\n",
          "output_type": "stream"
        },
        {
          "name": "stderr",
          "text": "     60/300      5.77G      1.154      1.657      1.403          4        640: 100%|██████████| 7/7 [00:02<00:00,  2.84it/s]\n                 Class     Images  Instances      Box(P          R      mAP50  mAP50-95): 100%|██████████| 1/1 [00:00<00:00,  4.72it/s]",
          "output_type": "stream"
        },
        {
          "name": "stdout",
          "text": "                   all         10         12      0.265      0.554      0.383      0.237\n",
          "output_type": "stream"
        },
        {
          "name": "stderr",
          "text": "\n",
          "output_type": "stream"
        },
        {
          "name": "stdout",
          "text": "\n      Epoch    GPU_mem   box_loss   cls_loss   dfl_loss  Instances       Size\n",
          "output_type": "stream"
        },
        {
          "name": "stderr",
          "text": "     61/300       5.8G      1.149      1.503      1.392          6        640: 100%|██████████| 7/7 [00:02<00:00,  2.80it/s]\n                 Class     Images  Instances      Box(P          R      mAP50  mAP50-95): 100%|██████████| 1/1 [00:00<00:00,  4.70it/s]",
          "output_type": "stream"
        },
        {
          "name": "stdout",
          "text": "                   all         10         12       0.57      0.387      0.483       0.29\n",
          "output_type": "stream"
        },
        {
          "name": "stderr",
          "text": "\n",
          "output_type": "stream"
        },
        {
          "name": "stdout",
          "text": "\n      Epoch    GPU_mem   box_loss   cls_loss   dfl_loss  Instances       Size\n",
          "output_type": "stream"
        },
        {
          "name": "stderr",
          "text": "     62/300      5.65G      1.274      1.544      1.414          5        640: 100%|██████████| 7/7 [00:02<00:00,  2.86it/s]\n                 Class     Images  Instances      Box(P          R      mAP50  mAP50-95): 100%|██████████| 1/1 [00:00<00:00,  4.74it/s]",
          "output_type": "stream"
        },
        {
          "name": "stdout",
          "text": "                   all         10         12       0.57      0.387      0.483       0.29\n",
          "output_type": "stream"
        },
        {
          "name": "stderr",
          "text": "\n",
          "output_type": "stream"
        },
        {
          "name": "stdout",
          "text": "\n      Epoch    GPU_mem   box_loss   cls_loss   dfl_loss  Instances       Size\n",
          "output_type": "stream"
        },
        {
          "name": "stderr",
          "text": "     63/300      5.79G      1.211       1.46       1.47          6        640: 100%|██████████| 7/7 [00:02<00:00,  2.83it/s]\n                 Class     Images  Instances      Box(P          R      mAP50  mAP50-95): 100%|██████████| 1/1 [00:00<00:00,  4.46it/s]",
          "output_type": "stream"
        },
        {
          "name": "stdout",
          "text": "                   all         10         12      0.716      0.349      0.613      0.419\n",
          "output_type": "stream"
        },
        {
          "name": "stderr",
          "text": "\n",
          "output_type": "stream"
        },
        {
          "name": "stdout",
          "text": "\n      Epoch    GPU_mem   box_loss   cls_loss   dfl_loss  Instances       Size\n",
          "output_type": "stream"
        },
        {
          "name": "stderr",
          "text": "     64/300       5.8G      1.254      1.605      1.442          5        640: 100%|██████████| 7/7 [00:02<00:00,  2.81it/s]\n                 Class     Images  Instances      Box(P          R      mAP50  mAP50-95): 100%|██████████| 1/1 [00:00<00:00,  4.56it/s]",
          "output_type": "stream"
        },
        {
          "name": "stdout",
          "text": "                   all         10         12      0.662      0.358      0.494      0.369\n",
          "output_type": "stream"
        },
        {
          "name": "stderr",
          "text": "\n",
          "output_type": "stream"
        },
        {
          "name": "stdout",
          "text": "\n      Epoch    GPU_mem   box_loss   cls_loss   dfl_loss  Instances       Size\n",
          "output_type": "stream"
        },
        {
          "name": "stderr",
          "text": "     65/300      5.79G      1.141      1.301        1.3         12        640: 100%|██████████| 7/7 [00:02<00:00,  2.78it/s]\n                 Class     Images  Instances      Box(P          R      mAP50  mAP50-95): 100%|██████████| 1/1 [00:00<00:00,  4.55it/s]",
          "output_type": "stream"
        },
        {
          "name": "stdout",
          "text": "                   all         10         12      0.709      0.533      0.737      0.506\n",
          "output_type": "stream"
        },
        {
          "name": "stderr",
          "text": "\n",
          "output_type": "stream"
        },
        {
          "name": "stdout",
          "text": "\n      Epoch    GPU_mem   box_loss   cls_loss   dfl_loss  Instances       Size\n",
          "output_type": "stream"
        },
        {
          "name": "stderr",
          "text": "     66/300      5.79G      1.092      1.494      1.313          6        640: 100%|██████████| 7/7 [00:02<00:00,  2.80it/s]\n                 Class     Images  Instances      Box(P          R      mAP50  mAP50-95): 100%|██████████| 1/1 [00:00<00:00,  4.59it/s]",
          "output_type": "stream"
        },
        {
          "name": "stdout",
          "text": "                   all         10         12      0.336      0.809      0.508      0.356\n",
          "output_type": "stream"
        },
        {
          "name": "stderr",
          "text": "\n",
          "output_type": "stream"
        },
        {
          "name": "stdout",
          "text": "\n      Epoch    GPU_mem   box_loss   cls_loss   dfl_loss  Instances       Size\n",
          "output_type": "stream"
        },
        {
          "name": "stderr",
          "text": "     67/300      5.79G      1.135      1.408      1.298          6        640: 100%|██████████| 7/7 [00:02<00:00,  2.81it/s]\n                 Class     Images  Instances      Box(P          R      mAP50  mAP50-95): 100%|██████████| 1/1 [00:00<00:00,  4.73it/s]",
          "output_type": "stream"
        },
        {
          "name": "stdout",
          "text": "                   all         10         12      0.873      0.283      0.494      0.279\n",
          "output_type": "stream"
        },
        {
          "name": "stderr",
          "text": "\n",
          "output_type": "stream"
        },
        {
          "name": "stdout",
          "text": "\n      Epoch    GPU_mem   box_loss   cls_loss   dfl_loss  Instances       Size\n",
          "output_type": "stream"
        },
        {
          "name": "stderr",
          "text": "     68/300      5.78G      1.056       1.38      1.278          6        640: 100%|██████████| 7/7 [00:02<00:00,  2.85it/s]\n                 Class     Images  Instances      Box(P          R      mAP50  mAP50-95): 100%|██████████| 1/1 [00:00<00:00,  4.68it/s]",
          "output_type": "stream"
        },
        {
          "name": "stdout",
          "text": "                   all         10         12      0.714      0.648        0.7      0.528\n",
          "output_type": "stream"
        },
        {
          "name": "stderr",
          "text": "\n",
          "output_type": "stream"
        },
        {
          "name": "stdout",
          "text": "\n      Epoch    GPU_mem   box_loss   cls_loss   dfl_loss  Instances       Size\n",
          "output_type": "stream"
        },
        {
          "name": "stderr",
          "text": "     69/300      5.84G      1.164      1.332       1.35          5        640: 100%|██████████| 7/7 [00:02<00:00,  2.80it/s]\n                 Class     Images  Instances      Box(P          R      mAP50  mAP50-95): 100%|██████████| 1/1 [00:00<00:00,  4.34it/s]",
          "output_type": "stream"
        },
        {
          "name": "stdout",
          "text": "                   all         10         12      0.435        0.7      0.664      0.519\n",
          "output_type": "stream"
        },
        {
          "name": "stderr",
          "text": "\n",
          "output_type": "stream"
        },
        {
          "name": "stdout",
          "text": "\n      Epoch    GPU_mem   box_loss   cls_loss   dfl_loss  Instances       Size\n",
          "output_type": "stream"
        },
        {
          "name": "stderr",
          "text": "     70/300      5.69G      1.061       1.25      1.225         39        640: 100%|██████████| 7/7 [00:02<00:00,  2.87it/s]\n                 Class     Images  Instances      Box(P          R      mAP50  mAP50-95): 100%|██████████| 1/1 [00:00<00:00,  4.47it/s]",
          "output_type": "stream"
        },
        {
          "name": "stdout",
          "text": "                   all         10         12      0.435        0.7      0.664      0.519\n",
          "output_type": "stream"
        },
        {
          "name": "stderr",
          "text": "\n",
          "output_type": "stream"
        },
        {
          "name": "stdout",
          "text": "\n      Epoch    GPU_mem   box_loss   cls_loss   dfl_loss  Instances       Size\n",
          "output_type": "stream"
        },
        {
          "name": "stderr",
          "text": "     71/300      5.81G      1.142      1.491      1.384          4        640: 100%|██████████| 7/7 [00:02<00:00,  2.82it/s]\n                 Class     Images  Instances      Box(P          R      mAP50  mAP50-95): 100%|██████████| 1/1 [00:00<00:00,  4.55it/s]",
          "output_type": "stream"
        },
        {
          "name": "stdout",
          "text": "                   all         10         12      0.821      0.499      0.645      0.501\n",
          "output_type": "stream"
        },
        {
          "name": "stderr",
          "text": "\n",
          "output_type": "stream"
        },
        {
          "name": "stdout",
          "text": "\n      Epoch    GPU_mem   box_loss   cls_loss   dfl_loss  Instances       Size\n",
          "output_type": "stream"
        },
        {
          "name": "stderr",
          "text": "     72/300      5.79G      1.169       1.37      1.329         22        640: 100%|██████████| 7/7 [00:02<00:00,  2.82it/s]\n                 Class     Images  Instances      Box(P          R      mAP50  mAP50-95): 100%|██████████| 1/1 [00:00<00:00,  4.76it/s]",
          "output_type": "stream"
        },
        {
          "name": "stdout",
          "text": "                   all         10         12      0.743      0.599      0.664      0.531\n",
          "output_type": "stream"
        },
        {
          "name": "stderr",
          "text": "\n",
          "output_type": "stream"
        },
        {
          "name": "stdout",
          "text": "\n      Epoch    GPU_mem   box_loss   cls_loss   dfl_loss  Instances       Size\n",
          "output_type": "stream"
        },
        {
          "name": "stderr",
          "text": "     73/300      5.85G      1.139        1.2      1.256          4        640: 100%|██████████| 7/7 [00:02<00:00,  2.79it/s]\n                 Class     Images  Instances      Box(P          R      mAP50  mAP50-95): 100%|██████████| 1/1 [00:00<00:00,  4.76it/s]",
          "output_type": "stream"
        },
        {
          "name": "stdout",
          "text": "                   all         10         12      0.608      0.775      0.755      0.583\n",
          "output_type": "stream"
        },
        {
          "name": "stderr",
          "text": "\n",
          "output_type": "stream"
        },
        {
          "name": "stdout",
          "text": "\n      Epoch    GPU_mem   box_loss   cls_loss   dfl_loss  Instances       Size\n",
          "output_type": "stream"
        },
        {
          "name": "stderr",
          "text": "     74/300      5.79G      1.114      1.446      1.343          4        640: 100%|██████████| 7/7 [00:02<00:00,  2.81it/s]\n                 Class     Images  Instances      Box(P          R      mAP50  mAP50-95): 100%|██████████| 1/1 [00:00<00:00,  4.51it/s]",
          "output_type": "stream"
        },
        {
          "name": "stdout",
          "text": "                   all         10         12      0.518      0.775      0.589      0.432\n",
          "output_type": "stream"
        },
        {
          "name": "stderr",
          "text": "\n",
          "output_type": "stream"
        },
        {
          "name": "stdout",
          "text": "\n      Epoch    GPU_mem   box_loss   cls_loss   dfl_loss  Instances       Size\n",
          "output_type": "stream"
        },
        {
          "name": "stderr",
          "text": "     75/300      5.79G      1.053      1.383      1.318          3        640: 100%|██████████| 7/7 [00:02<00:00,  2.80it/s]\n                 Class     Images  Instances      Box(P          R      mAP50  mAP50-95): 100%|██████████| 1/1 [00:00<00:00,  4.68it/s]",
          "output_type": "stream"
        },
        {
          "name": "stdout",
          "text": "                   all         10         12      0.455      0.719      0.527      0.333\n",
          "output_type": "stream"
        },
        {
          "name": "stderr",
          "text": "\n",
          "output_type": "stream"
        },
        {
          "name": "stdout",
          "text": "\n      Epoch    GPU_mem   box_loss   cls_loss   dfl_loss  Instances       Size\n",
          "output_type": "stream"
        },
        {
          "name": "stderr",
          "text": "     76/300      5.78G      1.005      1.371      1.319          6        640: 100%|██████████| 7/7 [00:02<00:00,  2.83it/s]\n                 Class     Images  Instances      Box(P          R      mAP50  mAP50-95): 100%|██████████| 1/1 [00:00<00:00,  4.47it/s]",
          "output_type": "stream"
        },
        {
          "name": "stdout",
          "text": "                   all         10         12      0.274      0.383      0.281      0.138\n",
          "output_type": "stream"
        },
        {
          "name": "stderr",
          "text": "\n",
          "output_type": "stream"
        },
        {
          "name": "stdout",
          "text": "\n      Epoch    GPU_mem   box_loss   cls_loss   dfl_loss  Instances       Size\n",
          "output_type": "stream"
        },
        {
          "name": "stderr",
          "text": "     77/300      5.81G      1.109      1.475      1.322         10        640: 100%|██████████| 7/7 [00:02<00:00,  2.83it/s]\n                 Class     Images  Instances      Box(P          R      mAP50  mAP50-95): 100%|██████████| 1/1 [00:00<00:00,  4.72it/s]",
          "output_type": "stream"
        },
        {
          "name": "stdout",
          "text": "                   all         10         12       0.22      0.493      0.217      0.122\n",
          "output_type": "stream"
        },
        {
          "name": "stderr",
          "text": "\n",
          "output_type": "stream"
        },
        {
          "name": "stdout",
          "text": "\n      Epoch    GPU_mem   box_loss   cls_loss   dfl_loss  Instances       Size\n",
          "output_type": "stream"
        },
        {
          "name": "stderr",
          "text": "     78/300      5.63G      1.021      1.319      1.313          7        640: 100%|██████████| 7/7 [00:02<00:00,  2.88it/s]\n                 Class     Images  Instances      Box(P          R      mAP50  mAP50-95): 100%|██████████| 1/1 [00:00<00:00,  4.60it/s]",
          "output_type": "stream"
        },
        {
          "name": "stdout",
          "text": "                   all         10         12       0.22      0.493      0.217      0.122\n",
          "output_type": "stream"
        },
        {
          "name": "stderr",
          "text": "\n",
          "output_type": "stream"
        },
        {
          "name": "stdout",
          "text": "\n      Epoch    GPU_mem   box_loss   cls_loss   dfl_loss  Instances       Size\n",
          "output_type": "stream"
        },
        {
          "name": "stderr",
          "text": "     79/300      5.78G     0.9796      1.324      1.275          5        640: 100%|██████████| 7/7 [00:02<00:00,  2.81it/s]\n                 Class     Images  Instances      Box(P          R      mAP50  mAP50-95): 100%|██████████| 1/1 [00:00<00:00,  4.76it/s]",
          "output_type": "stream"
        },
        {
          "name": "stdout",
          "text": "                   all         10         12      0.202      0.258       0.12     0.0811\n",
          "output_type": "stream"
        },
        {
          "name": "stderr",
          "text": "\n",
          "output_type": "stream"
        },
        {
          "name": "stdout",
          "text": "\n      Epoch    GPU_mem   box_loss   cls_loss   dfl_loss  Instances       Size\n",
          "output_type": "stream"
        },
        {
          "name": "stderr",
          "text": "     80/300      5.78G      1.007      1.302      1.258          8        640: 100%|██████████| 7/7 [00:02<00:00,  2.82it/s]\n                 Class     Images  Instances      Box(P          R      mAP50  mAP50-95): 100%|██████████| 1/1 [00:00<00:00,  4.55it/s]",
          "output_type": "stream"
        },
        {
          "name": "stdout",
          "text": "                   all         10         12       0.16      0.175      0.136     0.0738\n",
          "output_type": "stream"
        },
        {
          "name": "stderr",
          "text": "\n",
          "output_type": "stream"
        },
        {
          "name": "stdout",
          "text": "\n      Epoch    GPU_mem   box_loss   cls_loss   dfl_loss  Instances       Size\n",
          "output_type": "stream"
        },
        {
          "name": "stderr",
          "text": "     81/300      5.79G      1.023      1.504      1.318          9        640: 100%|██████████| 7/7 [00:02<00:00,  2.83it/s]\n                 Class     Images  Instances      Box(P          R      mAP50  mAP50-95): 100%|██████████| 1/1 [00:00<00:00,  4.40it/s]",
          "output_type": "stream"
        },
        {
          "name": "stdout",
          "text": "                   all         10         12      0.112      0.308      0.141     0.0699\n",
          "output_type": "stream"
        },
        {
          "name": "stderr",
          "text": "\n",
          "output_type": "stream"
        },
        {
          "name": "stdout",
          "text": "\n      Epoch    GPU_mem   box_loss   cls_loss   dfl_loss  Instances       Size\n",
          "output_type": "stream"
        },
        {
          "name": "stderr",
          "text": "     82/300      5.78G      1.108       1.29      1.273         51        640: 100%|██████████| 7/7 [00:02<00:00,  2.79it/s]\n                 Class     Images  Instances      Box(P          R      mAP50  mAP50-95): 100%|██████████| 1/1 [00:00<00:00,  4.73it/s]",
          "output_type": "stream"
        },
        {
          "name": "stdout",
          "text": "                   all         10         12      0.438      0.674      0.649      0.508\n",
          "output_type": "stream"
        },
        {
          "name": "stderr",
          "text": "\n",
          "output_type": "stream"
        },
        {
          "name": "stdout",
          "text": "\n      Epoch    GPU_mem   box_loss   cls_loss   dfl_loss  Instances       Size\n",
          "output_type": "stream"
        },
        {
          "name": "stderr",
          "text": "     83/300      5.79G      1.135      1.281      1.328          8        640: 100%|██████████| 7/7 [00:02<00:00,  2.81it/s]\n                 Class     Images  Instances      Box(P          R      mAP50  mAP50-95): 100%|██████████| 1/1 [00:00<00:00,  4.62it/s]",
          "output_type": "stream"
        },
        {
          "name": "stdout",
          "text": "                   all         10         12      0.548        0.9      0.754       0.59\n",
          "output_type": "stream"
        },
        {
          "name": "stderr",
          "text": "\n",
          "output_type": "stream"
        },
        {
          "name": "stdout",
          "text": "\n      Epoch    GPU_mem   box_loss   cls_loss   dfl_loss  Instances       Size\n",
          "output_type": "stream"
        },
        {
          "name": "stderr",
          "text": "     84/300      5.78G       1.09      1.384      1.274         31        640: 100%|██████████| 7/7 [00:02<00:00,  2.81it/s]\n                 Class     Images  Instances      Box(P          R      mAP50  mAP50-95): 100%|██████████| 1/1 [00:00<00:00,  4.63it/s]",
          "output_type": "stream"
        },
        {
          "name": "stdout",
          "text": "                   all         10         12      0.755      0.882      0.806      0.626\n",
          "output_type": "stream"
        },
        {
          "name": "stderr",
          "text": "\n",
          "output_type": "stream"
        },
        {
          "name": "stdout",
          "text": "\n      Epoch    GPU_mem   box_loss   cls_loss   dfl_loss  Instances       Size\n",
          "output_type": "stream"
        },
        {
          "name": "stderr",
          "text": "     85/300      5.79G      1.144      1.345      1.351          8        640: 100%|██████████| 7/7 [00:02<00:00,  2.80it/s]\n                 Class     Images  Instances      Box(P          R      mAP50  mAP50-95): 100%|██████████| 1/1 [00:00<00:00,  4.69it/s]",
          "output_type": "stream"
        },
        {
          "name": "stdout",
          "text": "                   all         10         12      0.843      0.744      0.818      0.603\n",
          "output_type": "stream"
        },
        {
          "name": "stderr",
          "text": "\n",
          "output_type": "stream"
        },
        {
          "name": "stdout",
          "text": "\n      Epoch    GPU_mem   box_loss   cls_loss   dfl_loss  Instances       Size\n",
          "output_type": "stream"
        },
        {
          "name": "stderr",
          "text": "     86/300      5.63G      1.047      1.206      1.206         28        640: 100%|██████████| 7/7 [00:02<00:00,  2.85it/s]\n                 Class     Images  Instances      Box(P          R      mAP50  mAP50-95): 100%|██████████| 1/1 [00:00<00:00,  4.75it/s]",
          "output_type": "stream"
        },
        {
          "name": "stdout",
          "text": "                   all         10         12      0.843      0.744      0.818      0.603\n",
          "output_type": "stream"
        },
        {
          "name": "stderr",
          "text": "\n",
          "output_type": "stream"
        },
        {
          "name": "stdout",
          "text": "\n      Epoch    GPU_mem   box_loss   cls_loss   dfl_loss  Instances       Size\n",
          "output_type": "stream"
        },
        {
          "name": "stderr",
          "text": "     87/300       5.8G      1.072      1.331      1.297         18        640: 100%|██████████| 7/7 [00:02<00:00,  2.82it/s]\n                 Class     Images  Instances      Box(P          R      mAP50  mAP50-95): 100%|██████████| 1/1 [00:00<00:00,  4.70it/s]",
          "output_type": "stream"
        },
        {
          "name": "stdout",
          "text": "                   all         10         12      0.664      0.786      0.876      0.635\n",
          "output_type": "stream"
        },
        {
          "name": "stderr",
          "text": "\n",
          "output_type": "stream"
        },
        {
          "name": "stdout",
          "text": "\n      Epoch    GPU_mem   box_loss   cls_loss   dfl_loss  Instances       Size\n",
          "output_type": "stream"
        },
        {
          "name": "stderr",
          "text": "     88/300      5.79G     0.9543      1.178      1.171         47        640: 100%|██████████| 7/7 [00:02<00:00,  2.80it/s]\n                 Class     Images  Instances      Box(P          R      mAP50  mAP50-95): 100%|██████████| 1/1 [00:00<00:00,  4.68it/s]",
          "output_type": "stream"
        },
        {
          "name": "stdout",
          "text": "                   all         10         12      0.673      0.703      0.798      0.563\n",
          "output_type": "stream"
        },
        {
          "name": "stderr",
          "text": "\n",
          "output_type": "stream"
        },
        {
          "name": "stdout",
          "text": "\n      Epoch    GPU_mem   box_loss   cls_loss   dfl_loss  Instances       Size\n",
          "output_type": "stream"
        },
        {
          "name": "stderr",
          "text": "     89/300      5.79G       1.07      1.304      1.278          6        640: 100%|██████████| 7/7 [00:02<00:00,  2.80it/s]\n                 Class     Images  Instances      Box(P          R      mAP50  mAP50-95): 100%|██████████| 1/1 [00:00<00:00,  4.83it/s]",
          "output_type": "stream"
        },
        {
          "name": "stdout",
          "text": "                   all         10         12      0.466      0.828      0.732      0.568\n",
          "output_type": "stream"
        },
        {
          "name": "stderr",
          "text": "\n",
          "output_type": "stream"
        },
        {
          "name": "stdout",
          "text": "\n      Epoch    GPU_mem   box_loss   cls_loss   dfl_loss  Instances       Size\n",
          "output_type": "stream"
        },
        {
          "name": "stderr",
          "text": "     90/300       5.8G     0.9888      1.214      1.193         13        640: 100%|██████████| 7/7 [00:02<00:00,  2.81it/s]\n                 Class     Images  Instances      Box(P          R      mAP50  mAP50-95): 100%|██████████| 1/1 [00:00<00:00,  4.71it/s]",
          "output_type": "stream"
        },
        {
          "name": "stdout",
          "text": "                   all         10         12      0.587       0.55      0.586       0.48\n",
          "output_type": "stream"
        },
        {
          "name": "stderr",
          "text": "\n",
          "output_type": "stream"
        },
        {
          "name": "stdout",
          "text": "\n      Epoch    GPU_mem   box_loss   cls_loss   dfl_loss  Instances       Size\n",
          "output_type": "stream"
        },
        {
          "name": "stderr",
          "text": "     91/300      5.86G      1.098      1.166      1.273          5        640: 100%|██████████| 7/7 [00:02<00:00,  2.83it/s]\n                 Class     Images  Instances      Box(P          R      mAP50  mAP50-95): 100%|██████████| 1/1 [00:00<00:00,  4.78it/s]",
          "output_type": "stream"
        },
        {
          "name": "stdout",
          "text": "                   all         10         12      0.526      0.558      0.691      0.531\n",
          "output_type": "stream"
        },
        {
          "name": "stderr",
          "text": "\n",
          "output_type": "stream"
        },
        {
          "name": "stdout",
          "text": "\n      Epoch    GPU_mem   box_loss   cls_loss   dfl_loss  Instances       Size\n",
          "output_type": "stream"
        },
        {
          "name": "stderr",
          "text": "     92/300      5.77G       1.04      1.397      1.366          3        640: 100%|██████████| 7/7 [00:02<00:00,  2.80it/s]\n                 Class     Images  Instances      Box(P          R      mAP50  mAP50-95): 100%|██████████| 1/1 [00:00<00:00,  4.56it/s]",
          "output_type": "stream"
        },
        {
          "name": "stdout",
          "text": "                   all         10         12      0.664      0.685      0.791      0.619\n",
          "output_type": "stream"
        },
        {
          "name": "stderr",
          "text": "\n",
          "output_type": "stream"
        },
        {
          "name": "stdout",
          "text": "\n      Epoch    GPU_mem   box_loss   cls_loss   dfl_loss  Instances       Size\n",
          "output_type": "stream"
        },
        {
          "name": "stderr",
          "text": "     93/300       5.8G     0.9981       1.14      1.226         16        640: 100%|██████████| 7/7 [00:02<00:00,  2.82it/s]\n                 Class     Images  Instances      Box(P          R      mAP50  mAP50-95): 100%|██████████| 1/1 [00:00<00:00,  4.64it/s]",
          "output_type": "stream"
        },
        {
          "name": "stdout",
          "text": "                   all         10         12      0.696      0.788      0.766      0.524\n",
          "output_type": "stream"
        },
        {
          "name": "stderr",
          "text": "\n",
          "output_type": "stream"
        },
        {
          "name": "stdout",
          "text": "\n      Epoch    GPU_mem   box_loss   cls_loss   dfl_loss  Instances       Size\n",
          "output_type": "stream"
        },
        {
          "name": "stderr",
          "text": "     94/300      5.63G     0.9084      1.235      1.217          7        640: 100%|██████████| 7/7 [00:02<00:00,  2.84it/s]\n                 Class     Images  Instances      Box(P          R      mAP50  mAP50-95): 100%|██████████| 1/1 [00:00<00:00,  4.76it/s]",
          "output_type": "stream"
        },
        {
          "name": "stdout",
          "text": "                   all         10         12      0.696      0.788      0.766      0.524\n",
          "output_type": "stream"
        },
        {
          "name": "stderr",
          "text": "\n",
          "output_type": "stream"
        },
        {
          "name": "stdout",
          "text": "\n      Epoch    GPU_mem   box_loss   cls_loss   dfl_loss  Instances       Size\n",
          "output_type": "stream"
        },
        {
          "name": "stderr",
          "text": "     95/300      5.82G     0.9447      1.225      1.237          3        640: 100%|██████████| 7/7 [00:02<00:00,  2.82it/s]\n                 Class     Images  Instances      Box(P          R      mAP50  mAP50-95): 100%|██████████| 1/1 [00:00<00:00,  4.73it/s]",
          "output_type": "stream"
        },
        {
          "name": "stdout",
          "text": "                   all         10         12      0.587      0.719       0.68      0.365\n",
          "output_type": "stream"
        },
        {
          "name": "stderr",
          "text": "\n",
          "output_type": "stream"
        },
        {
          "name": "stdout",
          "text": "\n      Epoch    GPU_mem   box_loss   cls_loss   dfl_loss  Instances       Size\n",
          "output_type": "stream"
        },
        {
          "name": "stderr",
          "text": "     96/300       5.8G     0.9274      1.072      1.173          4        640: 100%|██████████| 7/7 [00:02<00:00,  2.83it/s]\n                 Class     Images  Instances      Box(P          R      mAP50  mAP50-95): 100%|██████████| 1/1 [00:00<00:00,  4.77it/s]",
          "output_type": "stream"
        },
        {
          "name": "stdout",
          "text": "                   all         10         12      0.605       0.78      0.702      0.523\n",
          "output_type": "stream"
        },
        {
          "name": "stderr",
          "text": "\n",
          "output_type": "stream"
        },
        {
          "name": "stdout",
          "text": "\n      Epoch    GPU_mem   box_loss   cls_loss   dfl_loss  Instances       Size\n",
          "output_type": "stream"
        },
        {
          "name": "stderr",
          "text": "     97/300      5.79G      1.024      1.162      1.313          4        640: 100%|██████████| 7/7 [00:02<00:00,  2.83it/s]\n                 Class     Images  Instances      Box(P          R      mAP50  mAP50-95): 100%|██████████| 1/1 [00:00<00:00,  4.46it/s]",
          "output_type": "stream"
        },
        {
          "name": "stdout",
          "text": "                   all         10         12      0.787        0.8      0.851      0.697\n",
          "output_type": "stream"
        },
        {
          "name": "stderr",
          "text": "\n",
          "output_type": "stream"
        },
        {
          "name": "stdout",
          "text": "\n      Epoch    GPU_mem   box_loss   cls_loss   dfl_loss  Instances       Size\n",
          "output_type": "stream"
        },
        {
          "name": "stderr",
          "text": "     98/300      5.79G     0.9826      1.176      1.275          6        640: 100%|██████████| 7/7 [00:02<00:00,  2.79it/s]\n                 Class     Images  Instances      Box(P          R      mAP50  mAP50-95): 100%|██████████| 1/1 [00:00<00:00,  4.66it/s]",
          "output_type": "stream"
        },
        {
          "name": "stdout",
          "text": "                   all         10         12      0.744       0.65      0.786      0.657\n",
          "output_type": "stream"
        },
        {
          "name": "stderr",
          "text": "\n",
          "output_type": "stream"
        },
        {
          "name": "stdout",
          "text": "\n      Epoch    GPU_mem   box_loss   cls_loss   dfl_loss  Instances       Size\n",
          "output_type": "stream"
        },
        {
          "name": "stderr",
          "text": "     99/300       5.8G      1.015      1.214      1.327          4        640: 100%|██████████| 7/7 [00:02<00:00,  2.82it/s]\n                 Class     Images  Instances      Box(P          R      mAP50  mAP50-95): 100%|██████████| 1/1 [00:00<00:00,  4.47it/s]",
          "output_type": "stream"
        },
        {
          "name": "stdout",
          "text": "                   all         10         12      0.843      0.567      0.734      0.609\n",
          "output_type": "stream"
        },
        {
          "name": "stderr",
          "text": "\n",
          "output_type": "stream"
        },
        {
          "name": "stdout",
          "text": "\n      Epoch    GPU_mem   box_loss   cls_loss   dfl_loss  Instances       Size\n",
          "output_type": "stream"
        },
        {
          "name": "stderr",
          "text": "    100/300      5.77G      0.997      1.178      1.306          7        640: 100%|██████████| 7/7 [00:02<00:00,  2.85it/s]\n                 Class     Images  Instances      Box(P          R      mAP50  mAP50-95): 100%|██████████| 1/1 [00:00<00:00,  4.73it/s]",
          "output_type": "stream"
        },
        {
          "name": "stdout",
          "text": "                   all         10         12      0.791      0.558      0.723      0.552\n",
          "output_type": "stream"
        },
        {
          "name": "stderr",
          "text": "\n",
          "output_type": "stream"
        },
        {
          "name": "stdout",
          "text": "\n      Epoch    GPU_mem   box_loss   cls_loss   dfl_loss  Instances       Size\n",
          "output_type": "stream"
        },
        {
          "name": "stderr",
          "text": "    101/300       5.8G      1.029      1.277      1.258          9        640: 100%|██████████| 7/7 [00:02<00:00,  2.81it/s]\n                 Class     Images  Instances      Box(P          R      mAP50  mAP50-95): 100%|██████████| 1/1 [00:00<00:00,  4.69it/s]",
          "output_type": "stream"
        },
        {
          "name": "stdout",
          "text": "                   all         10         12      0.602      0.599      0.633      0.531\n",
          "output_type": "stream"
        },
        {
          "name": "stderr",
          "text": "\n",
          "output_type": "stream"
        },
        {
          "name": "stdout",
          "text": "\n      Epoch    GPU_mem   box_loss   cls_loss   dfl_loss  Instances       Size\n",
          "output_type": "stream"
        },
        {
          "name": "stderr",
          "text": "    102/300      5.62G      1.032       1.22      1.243          6        640: 100%|██████████| 7/7 [00:02<00:00,  2.86it/s]\n                 Class     Images  Instances      Box(P          R      mAP50  mAP50-95): 100%|██████████| 1/1 [00:00<00:00,  4.82it/s]",
          "output_type": "stream"
        },
        {
          "name": "stdout",
          "text": "                   all         10         12      0.602      0.599      0.633      0.531\n",
          "output_type": "stream"
        },
        {
          "name": "stderr",
          "text": "\n",
          "output_type": "stream"
        },
        {
          "name": "stdout",
          "text": "\n      Epoch    GPU_mem   box_loss   cls_loss   dfl_loss  Instances       Size\n",
          "output_type": "stream"
        },
        {
          "name": "stderr",
          "text": "    103/300       5.8G       1.01      1.179      1.359          4        640: 100%|██████████| 7/7 [00:02<00:00,  2.79it/s]\n                 Class     Images  Instances      Box(P          R      mAP50  mAP50-95): 100%|██████████| 1/1 [00:00<00:00,  4.58it/s]",
          "output_type": "stream"
        },
        {
          "name": "stdout",
          "text": "                   all         10         12      0.483      0.692       0.56      0.443\n",
          "output_type": "stream"
        },
        {
          "name": "stderr",
          "text": "\n",
          "output_type": "stream"
        },
        {
          "name": "stdout",
          "text": "\n      Epoch    GPU_mem   box_loss   cls_loss   dfl_loss  Instances       Size\n",
          "output_type": "stream"
        },
        {
          "name": "stderr",
          "text": "    104/300      5.78G      1.025       1.17      1.249          5        640: 100%|██████████| 7/7 [00:02<00:00,  2.80it/s]\n                 Class     Images  Instances      Box(P          R      mAP50  mAP50-95): 100%|██████████| 1/1 [00:00<00:00,  4.57it/s]",
          "output_type": "stream"
        },
        {
          "name": "stdout",
          "text": "                   all         10         12      0.407      0.546      0.486      0.362\n",
          "output_type": "stream"
        },
        {
          "name": "stderr",
          "text": "\n",
          "output_type": "stream"
        },
        {
          "name": "stdout",
          "text": "\n      Epoch    GPU_mem   box_loss   cls_loss   dfl_loss  Instances       Size\n",
          "output_type": "stream"
        },
        {
          "name": "stderr",
          "text": "    105/300      5.79G      1.075      1.199      1.331         10        640: 100%|██████████| 7/7 [00:02<00:00,  2.78it/s]\n                 Class     Images  Instances      Box(P          R      mAP50  mAP50-95): 100%|██████████| 1/1 [00:00<00:00,  4.63it/s]",
          "output_type": "stream"
        },
        {
          "name": "stdout",
          "text": "                   all         10         12      0.346      0.699      0.479      0.368\n",
          "output_type": "stream"
        },
        {
          "name": "stderr",
          "text": "\n",
          "output_type": "stream"
        },
        {
          "name": "stdout",
          "text": "\n      Epoch    GPU_mem   box_loss   cls_loss   dfl_loss  Instances       Size\n",
          "output_type": "stream"
        },
        {
          "name": "stderr",
          "text": "    106/300      5.79G      1.006       1.23      1.245          4        640: 100%|██████████| 7/7 [00:02<00:00,  2.81it/s]\n                 Class     Images  Instances      Box(P          R      mAP50  mAP50-95): 100%|██████████| 1/1 [00:00<00:00,  4.59it/s]",
          "output_type": "stream"
        },
        {
          "name": "stdout",
          "text": "                   all         10         12        0.8       0.79      0.803      0.566\n",
          "output_type": "stream"
        },
        {
          "name": "stderr",
          "text": "\n",
          "output_type": "stream"
        },
        {
          "name": "stdout",
          "text": "\n      Epoch    GPU_mem   box_loss   cls_loss   dfl_loss  Instances       Size\n",
          "output_type": "stream"
        },
        {
          "name": "stderr",
          "text": "    107/300      5.79G     0.8525      1.088      1.187          8        640: 100%|██████████| 7/7 [00:02<00:00,  2.78it/s]\n                 Class     Images  Instances      Box(P          R      mAP50  mAP50-95): 100%|██████████| 1/1 [00:00<00:00,  4.49it/s]",
          "output_type": "stream"
        },
        {
          "name": "stdout",
          "text": "                   all         10         12      0.752       0.87      0.943      0.773\n",
          "output_type": "stream"
        },
        {
          "name": "stderr",
          "text": "\n",
          "output_type": "stream"
        },
        {
          "name": "stdout",
          "text": "\n      Epoch    GPU_mem   box_loss   cls_loss   dfl_loss  Instances       Size\n",
          "output_type": "stream"
        },
        {
          "name": "stderr",
          "text": "    108/300      5.82G      1.019      1.158      1.215          7        640: 100%|██████████| 7/7 [00:02<00:00,  2.79it/s]\n                 Class     Images  Instances      Box(P          R      mAP50  mAP50-95): 100%|██████████| 1/1 [00:00<00:00,  4.59it/s]",
          "output_type": "stream"
        },
        {
          "name": "stdout",
          "text": "                   all         10         12      0.876      0.834      0.956      0.774\n",
          "output_type": "stream"
        },
        {
          "name": "stderr",
          "text": "\n",
          "output_type": "stream"
        },
        {
          "name": "stdout",
          "text": "\n      Epoch    GPU_mem   box_loss   cls_loss   dfl_loss  Instances       Size\n",
          "output_type": "stream"
        },
        {
          "name": "stderr",
          "text": "    109/300      5.79G     0.9631      1.098      1.234          4        640: 100%|██████████| 7/7 [00:02<00:00,  2.80it/s]\n                 Class     Images  Instances      Box(P          R      mAP50  mAP50-95): 100%|██████████| 1/1 [00:00<00:00,  4.68it/s]",
          "output_type": "stream"
        },
        {
          "name": "stdout",
          "text": "                   all         10         12      0.932      0.905       0.97      0.711\n",
          "output_type": "stream"
        },
        {
          "name": "stderr",
          "text": "\n",
          "output_type": "stream"
        },
        {
          "name": "stdout",
          "text": "\n      Epoch    GPU_mem   box_loss   cls_loss   dfl_loss  Instances       Size\n",
          "output_type": "stream"
        },
        {
          "name": "stderr",
          "text": "    110/300      5.69G      1.061      1.052       1.29          3        640: 100%|██████████| 7/7 [00:02<00:00,  2.86it/s]\n                 Class     Images  Instances      Box(P          R      mAP50  mAP50-95): 100%|██████████| 1/1 [00:00<00:00,  4.72it/s]",
          "output_type": "stream"
        },
        {
          "name": "stdout",
          "text": "                   all         10         12      0.932      0.905       0.97      0.711\n",
          "output_type": "stream"
        },
        {
          "name": "stderr",
          "text": "\n",
          "output_type": "stream"
        },
        {
          "name": "stdout",
          "text": "\n      Epoch    GPU_mem   box_loss   cls_loss   dfl_loss  Instances       Size\n",
          "output_type": "stream"
        },
        {
          "name": "stderr",
          "text": "    111/300      5.79G     0.9363      1.065      1.238         11        640: 100%|██████████| 7/7 [00:02<00:00,  2.81it/s]\n                 Class     Images  Instances      Box(P          R      mAP50  mAP50-95): 100%|██████████| 1/1 [00:00<00:00,  4.79it/s]",
          "output_type": "stream"
        },
        {
          "name": "stdout",
          "text": "                   all         10         12      0.939      0.926      0.973      0.718\n",
          "output_type": "stream"
        },
        {
          "name": "stderr",
          "text": "\n",
          "output_type": "stream"
        },
        {
          "name": "stdout",
          "text": "\n      Epoch    GPU_mem   box_loss   cls_loss   dfl_loss  Instances       Size\n",
          "output_type": "stream"
        },
        {
          "name": "stderr",
          "text": "    112/300      5.79G     0.8371     0.9535      1.145          3        640: 100%|██████████| 7/7 [00:02<00:00,  2.85it/s]\n                 Class     Images  Instances      Box(P          R      mAP50  mAP50-95): 100%|██████████| 1/1 [00:00<00:00,  4.76it/s]",
          "output_type": "stream"
        },
        {
          "name": "stdout",
          "text": "                   all         10         12      0.937      0.811      0.935      0.711\n",
          "output_type": "stream"
        },
        {
          "name": "stderr",
          "text": "\n",
          "output_type": "stream"
        },
        {
          "name": "stdout",
          "text": "\n      Epoch    GPU_mem   box_loss   cls_loss   dfl_loss  Instances       Size\n",
          "output_type": "stream"
        },
        {
          "name": "stderr",
          "text": "    113/300      5.78G     0.9744      1.081      1.249         39        640: 100%|██████████| 7/7 [00:02<00:00,  2.85it/s]\n                 Class     Images  Instances      Box(P          R      mAP50  mAP50-95): 100%|██████████| 1/1 [00:00<00:00,  4.60it/s]",
          "output_type": "stream"
        },
        {
          "name": "stdout",
          "text": "                   all         10         12      0.816      0.921      0.931      0.728\n",
          "output_type": "stream"
        },
        {
          "name": "stderr",
          "text": "\n",
          "output_type": "stream"
        },
        {
          "name": "stdout",
          "text": "\n      Epoch    GPU_mem   box_loss   cls_loss   dfl_loss  Instances       Size\n",
          "output_type": "stream"
        },
        {
          "name": "stderr",
          "text": "    114/300      5.79G     0.9092     0.9796      1.182         11        640: 100%|██████████| 7/7 [00:02<00:00,  2.80it/s]\n                 Class     Images  Instances      Box(P          R      mAP50  mAP50-95): 100%|██████████| 1/1 [00:00<00:00,  4.70it/s]",
          "output_type": "stream"
        },
        {
          "name": "stdout",
          "text": "                   all         10         12      0.836      0.676      0.856      0.662\n",
          "output_type": "stream"
        },
        {
          "name": "stderr",
          "text": "\n",
          "output_type": "stream"
        },
        {
          "name": "stdout",
          "text": "\n      Epoch    GPU_mem   box_loss   cls_loss   dfl_loss  Instances       Size\n",
          "output_type": "stream"
        },
        {
          "name": "stderr",
          "text": "    115/300       5.8G     0.9269      1.016      1.235          4        640: 100%|██████████| 7/7 [00:02<00:00,  2.80it/s]\n                 Class     Images  Instances      Box(P          R      mAP50  mAP50-95): 100%|██████████| 1/1 [00:00<00:00,  4.77it/s]",
          "output_type": "stream"
        },
        {
          "name": "stdout",
          "text": "                   all         10         12      0.736      0.773      0.832      0.647\n",
          "output_type": "stream"
        },
        {
          "name": "stderr",
          "text": "\n",
          "output_type": "stream"
        },
        {
          "name": "stdout",
          "text": "\n      Epoch    GPU_mem   box_loss   cls_loss   dfl_loss  Instances       Size\n",
          "output_type": "stream"
        },
        {
          "name": "stderr",
          "text": "    116/300      5.77G     0.9495      1.191      1.269          5        640: 100%|██████████| 7/7 [00:02<00:00,  2.81it/s]\n                 Class     Images  Instances      Box(P          R      mAP50  mAP50-95): 100%|██████████| 1/1 [00:00<00:00,  4.75it/s]",
          "output_type": "stream"
        },
        {
          "name": "stdout",
          "text": "                   all         10         12       0.75       0.85      0.857       0.71\n",
          "output_type": "stream"
        },
        {
          "name": "stderr",
          "text": "\n",
          "output_type": "stream"
        },
        {
          "name": "stdout",
          "text": "\n      Epoch    GPU_mem   box_loss   cls_loss   dfl_loss  Instances       Size\n",
          "output_type": "stream"
        },
        {
          "name": "stderr",
          "text": "    117/300      5.79G     0.9531      1.047      1.284         26        640: 100%|██████████| 7/7 [00:02<00:00,  2.84it/s]\n                 Class     Images  Instances      Box(P          R      mAP50  mAP50-95): 100%|██████████| 1/1 [00:00<00:00,  4.63it/s]",
          "output_type": "stream"
        },
        {
          "name": "stdout",
          "text": "                   all         10         12      0.785      0.748      0.862      0.713\n",
          "output_type": "stream"
        },
        {
          "name": "stderr",
          "text": "\n",
          "output_type": "stream"
        },
        {
          "name": "stdout",
          "text": "\n      Epoch    GPU_mem   box_loss   cls_loss   dfl_loss  Instances       Size\n",
          "output_type": "stream"
        },
        {
          "name": "stderr",
          "text": "    118/300      5.63G      0.931      1.048      1.243         29        640: 100%|██████████| 7/7 [00:02<00:00,  2.85it/s]\n                 Class     Images  Instances      Box(P          R      mAP50  mAP50-95): 100%|██████████| 1/1 [00:00<00:00,  4.56it/s]",
          "output_type": "stream"
        },
        {
          "name": "stdout",
          "text": "                   all         10         12      0.785      0.748      0.862      0.713\n",
          "output_type": "stream"
        },
        {
          "name": "stderr",
          "text": "\n",
          "output_type": "stream"
        },
        {
          "name": "stdout",
          "text": "\n      Epoch    GPU_mem   box_loss   cls_loss   dfl_loss  Instances       Size\n",
          "output_type": "stream"
        },
        {
          "name": "stderr",
          "text": "    119/300      5.79G     0.9831      1.032      1.236          6        640: 100%|██████████| 7/7 [00:02<00:00,  2.82it/s]\n                 Class     Images  Instances      Box(P          R      mAP50  mAP50-95): 100%|██████████| 1/1 [00:00<00:00,  4.73it/s]",
          "output_type": "stream"
        },
        {
          "name": "stdout",
          "text": "                   all         10         12      0.796      0.894      0.918      0.773\n",
          "output_type": "stream"
        },
        {
          "name": "stderr",
          "text": "\n",
          "output_type": "stream"
        },
        {
          "name": "stdout",
          "text": "\n      Epoch    GPU_mem   box_loss   cls_loss   dfl_loss  Instances       Size\n",
          "output_type": "stream"
        },
        {
          "name": "stderr",
          "text": "    120/300       5.8G     0.9329     0.9104      1.243         10        640: 100%|██████████| 7/7 [00:02<00:00,  2.80it/s]\n                 Class     Images  Instances      Box(P          R      mAP50  mAP50-95): 100%|██████████| 1/1 [00:00<00:00,  4.69it/s]",
          "output_type": "stream"
        },
        {
          "name": "stdout",
          "text": "                   all         10         12      0.792      0.923      0.931      0.773\n",
          "output_type": "stream"
        },
        {
          "name": "stderr",
          "text": "\n",
          "output_type": "stream"
        },
        {
          "name": "stdout",
          "text": "\n      Epoch    GPU_mem   box_loss   cls_loss   dfl_loss  Instances       Size\n",
          "output_type": "stream"
        },
        {
          "name": "stderr",
          "text": "    121/300      5.81G     0.9686     0.9261      1.232          4        640: 100%|██████████| 7/7 [00:02<00:00,  2.81it/s]\n                 Class     Images  Instances      Box(P          R      mAP50  mAP50-95): 100%|██████████| 1/1 [00:00<00:00,  4.71it/s]",
          "output_type": "stream"
        },
        {
          "name": "stdout",
          "text": "                   all         10         12      0.888      0.897      0.973      0.805\n",
          "output_type": "stream"
        },
        {
          "name": "stderr",
          "text": "\n",
          "output_type": "stream"
        },
        {
          "name": "stdout",
          "text": "\n      Epoch    GPU_mem   box_loss   cls_loss   dfl_loss  Instances       Size\n",
          "output_type": "stream"
        },
        {
          "name": "stderr",
          "text": "    122/300      5.79G     0.8116      1.015        1.2          8        640: 100%|██████████| 7/7 [00:02<00:00,  2.83it/s]\n                 Class     Images  Instances      Box(P          R      mAP50  mAP50-95): 100%|██████████| 1/1 [00:00<00:00,  4.49it/s]",
          "output_type": "stream"
        },
        {
          "name": "stdout",
          "text": "                   all         10         12       0.87      0.929      0.973      0.801\n",
          "output_type": "stream"
        },
        {
          "name": "stderr",
          "text": "\n",
          "output_type": "stream"
        },
        {
          "name": "stdout",
          "text": "\n      Epoch    GPU_mem   box_loss   cls_loss   dfl_loss  Instances       Size\n",
          "output_type": "stream"
        },
        {
          "name": "stderr",
          "text": "    123/300      5.85G     0.9255     0.9242      1.187          7        640: 100%|██████████| 7/7 [00:02<00:00,  2.83it/s]\n                 Class     Images  Instances      Box(P          R      mAP50  mAP50-95): 100%|██████████| 1/1 [00:00<00:00,  4.54it/s]",
          "output_type": "stream"
        },
        {
          "name": "stdout",
          "text": "                   all         10         12      0.787      0.796      0.889      0.743\n",
          "output_type": "stream"
        },
        {
          "name": "stderr",
          "text": "\n",
          "output_type": "stream"
        },
        {
          "name": "stdout",
          "text": "\n      Epoch    GPU_mem   box_loss   cls_loss   dfl_loss  Instances       Size\n",
          "output_type": "stream"
        },
        {
          "name": "stderr",
          "text": "    124/300      5.77G     0.8229     0.8449      1.173          8        640: 100%|██████████| 7/7 [00:02<00:00,  2.82it/s]\n                 Class     Images  Instances      Box(P          R      mAP50  mAP50-95): 100%|██████████| 1/1 [00:00<00:00,  4.64it/s]",
          "output_type": "stream"
        },
        {
          "name": "stdout",
          "text": "                   all         10         12      0.814       0.78      0.895      0.745\n",
          "output_type": "stream"
        },
        {
          "name": "stderr",
          "text": "\n",
          "output_type": "stream"
        },
        {
          "name": "stdout",
          "text": "\n      Epoch    GPU_mem   box_loss   cls_loss   dfl_loss  Instances       Size\n",
          "output_type": "stream"
        },
        {
          "name": "stderr",
          "text": "    125/300      5.79G      0.872     0.8573      1.128         30        640: 100%|██████████| 7/7 [00:02<00:00,  2.79it/s]\n                 Class     Images  Instances      Box(P          R      mAP50  mAP50-95): 100%|██████████| 1/1 [00:00<00:00,  4.57it/s]",
          "output_type": "stream"
        },
        {
          "name": "stdout",
          "text": "                   all         10         12      0.812      0.787      0.905      0.751\n",
          "output_type": "stream"
        },
        {
          "name": "stderr",
          "text": "\n",
          "output_type": "stream"
        },
        {
          "name": "stdout",
          "text": "\n      Epoch    GPU_mem   box_loss   cls_loss   dfl_loss  Instances       Size\n",
          "output_type": "stream"
        },
        {
          "name": "stderr",
          "text": "    126/300      5.63G      1.001       1.06      1.258          6        640: 100%|██████████| 7/7 [00:02<00:00,  2.85it/s]\n                 Class     Images  Instances      Box(P          R      mAP50  mAP50-95): 100%|██████████| 1/1 [00:00<00:00,  4.55it/s]",
          "output_type": "stream"
        },
        {
          "name": "stdout",
          "text": "                   all         10         12      0.812      0.787      0.905      0.751\n",
          "output_type": "stream"
        },
        {
          "name": "stderr",
          "text": "\n",
          "output_type": "stream"
        },
        {
          "name": "stdout",
          "text": "\n      Epoch    GPU_mem   box_loss   cls_loss   dfl_loss  Instances       Size\n",
          "output_type": "stream"
        },
        {
          "name": "stderr",
          "text": "    127/300      5.82G     0.8387     0.9546      1.208         15        640: 100%|██████████| 7/7 [00:02<00:00,  2.81it/s]\n                 Class     Images  Instances      Box(P          R      mAP50  mAP50-95): 100%|██████████| 1/1 [00:00<00:00,  4.59it/s]",
          "output_type": "stream"
        },
        {
          "name": "stdout",
          "text": "                   all         10         12      0.862      0.701      0.895      0.765\n",
          "output_type": "stream"
        },
        {
          "name": "stderr",
          "text": "\n",
          "output_type": "stream"
        },
        {
          "name": "stdout",
          "text": "\n      Epoch    GPU_mem   box_loss   cls_loss   dfl_loss  Instances       Size\n",
          "output_type": "stream"
        },
        {
          "name": "stderr",
          "text": "    128/300      5.78G     0.8833     0.9975      1.216          5        640: 100%|██████████| 7/7 [00:02<00:00,  2.84it/s]\n                 Class     Images  Instances      Box(P          R      mAP50  mAP50-95): 100%|██████████| 1/1 [00:00<00:00,  4.71it/s]",
          "output_type": "stream"
        },
        {
          "name": "stdout",
          "text": "                   all         10         12      0.796      0.866      0.925      0.798\n",
          "output_type": "stream"
        },
        {
          "name": "stderr",
          "text": "\n",
          "output_type": "stream"
        },
        {
          "name": "stdout",
          "text": "\n      Epoch    GPU_mem   box_loss   cls_loss   dfl_loss  Instances       Size\n",
          "output_type": "stream"
        },
        {
          "name": "stderr",
          "text": "    129/300      5.79G     0.8868     0.8802      1.171          7        640: 100%|██████████| 7/7 [00:02<00:00,  2.82it/s]\n                 Class     Images  Instances      Box(P          R      mAP50  mAP50-95): 100%|██████████| 1/1 [00:00<00:00,  4.63it/s]",
          "output_type": "stream"
        },
        {
          "name": "stdout",
          "text": "                   all         10         12      0.949      0.863      0.946       0.79\n",
          "output_type": "stream"
        },
        {
          "name": "stderr",
          "text": "\n",
          "output_type": "stream"
        },
        {
          "name": "stdout",
          "text": "\n      Epoch    GPU_mem   box_loss   cls_loss   dfl_loss  Instances       Size\n",
          "output_type": "stream"
        },
        {
          "name": "stderr",
          "text": "    130/300      5.83G     0.8804     0.8678      1.185          9        640: 100%|██████████| 7/7 [00:02<00:00,  2.83it/s]\n                 Class     Images  Instances      Box(P          R      mAP50  mAP50-95): 100%|██████████| 1/1 [00:00<00:00,  4.36it/s]",
          "output_type": "stream"
        },
        {
          "name": "stdout",
          "text": "                   all         10         12      0.896      0.879      0.937      0.805\n",
          "output_type": "stream"
        },
        {
          "name": "stderr",
          "text": "\n",
          "output_type": "stream"
        },
        {
          "name": "stdout",
          "text": "\n      Epoch    GPU_mem   box_loss   cls_loss   dfl_loss  Instances       Size\n",
          "output_type": "stream"
        },
        {
          "name": "stderr",
          "text": "    131/300      5.83G     0.8327     0.9278      1.179          9        640: 100%|██████████| 7/7 [00:02<00:00,  2.81it/s]\n                 Class     Images  Instances      Box(P          R      mAP50  mAP50-95): 100%|██████████| 1/1 [00:00<00:00,  4.72it/s]",
          "output_type": "stream"
        },
        {
          "name": "stdout",
          "text": "                   all         10         12      0.774      0.886      0.924      0.784\n",
          "output_type": "stream"
        },
        {
          "name": "stderr",
          "text": "\n",
          "output_type": "stream"
        },
        {
          "name": "stdout",
          "text": "\n      Epoch    GPU_mem   box_loss   cls_loss   dfl_loss  Instances       Size\n",
          "output_type": "stream"
        },
        {
          "name": "stderr",
          "text": "    132/300      5.81G     0.8879      1.008       1.24          8        640: 100%|██████████| 7/7 [00:02<00:00,  2.83it/s]\n                 Class     Images  Instances      Box(P          R      mAP50  mAP50-95): 100%|██████████| 1/1 [00:00<00:00,  4.58it/s]",
          "output_type": "stream"
        },
        {
          "name": "stdout",
          "text": "                   all         10         12      0.736       0.87      0.927      0.773\n",
          "output_type": "stream"
        },
        {
          "name": "stderr",
          "text": "\n",
          "output_type": "stream"
        },
        {
          "name": "stdout",
          "text": "\n      Epoch    GPU_mem   box_loss   cls_loss   dfl_loss  Instances       Size\n",
          "output_type": "stream"
        },
        {
          "name": "stderr",
          "text": "    133/300      5.78G     0.8752     0.9316      1.106          4        640: 100%|██████████| 7/7 [00:02<00:00,  2.80it/s]\n                 Class     Images  Instances      Box(P          R      mAP50  mAP50-95): 100%|██████████| 1/1 [00:00<00:00,  4.72it/s]",
          "output_type": "stream"
        },
        {
          "name": "stdout",
          "text": "                   all         10         12      0.739      0.775      0.848      0.682\n",
          "output_type": "stream"
        },
        {
          "name": "stderr",
          "text": "\n",
          "output_type": "stream"
        },
        {
          "name": "stdout",
          "text": "\n      Epoch    GPU_mem   box_loss   cls_loss   dfl_loss  Instances       Size\n",
          "output_type": "stream"
        },
        {
          "name": "stderr",
          "text": "    134/300      5.62G     0.8695     0.9229      1.167          9        640: 100%|██████████| 7/7 [00:02<00:00,  2.87it/s]\n                 Class     Images  Instances      Box(P          R      mAP50  mAP50-95): 100%|██████████| 1/1 [00:00<00:00,  4.62it/s]",
          "output_type": "stream"
        },
        {
          "name": "stdout",
          "text": "                   all         10         12      0.739      0.775      0.848      0.682\n",
          "output_type": "stream"
        },
        {
          "name": "stderr",
          "text": "\n",
          "output_type": "stream"
        },
        {
          "name": "stdout",
          "text": "\n      Epoch    GPU_mem   box_loss   cls_loss   dfl_loss  Instances       Size\n",
          "output_type": "stream"
        },
        {
          "name": "stderr",
          "text": "    135/300      5.79G     0.8674     0.9919      1.192         10        640: 100%|██████████| 7/7 [00:02<00:00,  2.80it/s]\n                 Class     Images  Instances      Box(P          R      mAP50  mAP50-95): 100%|██████████| 1/1 [00:00<00:00,  4.81it/s]",
          "output_type": "stream"
        },
        {
          "name": "stdout",
          "text": "                   all         10         12      0.671      0.775      0.824      0.671\n",
          "output_type": "stream"
        },
        {
          "name": "stderr",
          "text": "\n",
          "output_type": "stream"
        },
        {
          "name": "stdout",
          "text": "\n      Epoch    GPU_mem   box_loss   cls_loss   dfl_loss  Instances       Size\n",
          "output_type": "stream"
        },
        {
          "name": "stderr",
          "text": "    136/300      5.81G     0.8976     0.9499      1.224          9        640: 100%|██████████| 7/7 [00:02<00:00,  2.78it/s]\n                 Class     Images  Instances      Box(P          R      mAP50  mAP50-95): 100%|██████████| 1/1 [00:00<00:00,  4.67it/s]",
          "output_type": "stream"
        },
        {
          "name": "stdout",
          "text": "                   all         10         12       0.68      0.775      0.825      0.689\n",
          "output_type": "stream"
        },
        {
          "name": "stderr",
          "text": "\n",
          "output_type": "stream"
        },
        {
          "name": "stdout",
          "text": "\n      Epoch    GPU_mem   box_loss   cls_loss   dfl_loss  Instances       Size\n",
          "output_type": "stream"
        },
        {
          "name": "stderr",
          "text": "    137/300      5.79G     0.7863     0.9948      1.185          5        640: 100%|██████████| 7/7 [00:02<00:00,  2.80it/s]\n                 Class     Images  Instances      Box(P          R      mAP50  mAP50-95): 100%|██████████| 1/1 [00:00<00:00,  4.77it/s]",
          "output_type": "stream"
        },
        {
          "name": "stdout",
          "text": "                   all         10         12      0.704      0.775      0.833      0.675\n",
          "output_type": "stream"
        },
        {
          "name": "stderr",
          "text": "\n",
          "output_type": "stream"
        },
        {
          "name": "stdout",
          "text": "\n      Epoch    GPU_mem   box_loss   cls_loss   dfl_loss  Instances       Size\n",
          "output_type": "stream"
        },
        {
          "name": "stderr",
          "text": "    138/300       5.8G      1.014     0.9503      1.297          5        640: 100%|██████████| 7/7 [00:02<00:00,  2.83it/s]\n                 Class     Images  Instances      Box(P          R      mAP50  mAP50-95): 100%|██████████| 1/1 [00:00<00:00,  4.54it/s]",
          "output_type": "stream"
        },
        {
          "name": "stdout",
          "text": "                   all         10         12       0.78        0.9      0.917       0.74\n",
          "output_type": "stream"
        },
        {
          "name": "stderr",
          "text": "\n",
          "output_type": "stream"
        },
        {
          "name": "stdout",
          "text": "\n      Epoch    GPU_mem   box_loss   cls_loss   dfl_loss  Instances       Size\n",
          "output_type": "stream"
        },
        {
          "name": "stderr",
          "text": "    139/300      5.84G     0.8728     0.8995      1.122          8        640: 100%|██████████| 7/7 [00:02<00:00,  2.79it/s]\n                 Class     Images  Instances      Box(P          R      mAP50  mAP50-95): 100%|██████████| 1/1 [00:00<00:00,  4.62it/s]",
          "output_type": "stream"
        },
        {
          "name": "stdout",
          "text": "                   all         10         12       0.92      0.874      0.913      0.724\n",
          "output_type": "stream"
        },
        {
          "name": "stderr",
          "text": "\n",
          "output_type": "stream"
        },
        {
          "name": "stdout",
          "text": "\n      Epoch    GPU_mem   box_loss   cls_loss   dfl_loss  Instances       Size\n",
          "output_type": "stream"
        },
        {
          "name": "stderr",
          "text": "    140/300      5.78G     0.7771      0.917      1.205          4        640: 100%|██████████| 7/7 [00:02<00:00,  2.82it/s]\n                 Class     Images  Instances      Box(P          R      mAP50  mAP50-95): 100%|██████████| 1/1 [00:00<00:00,  4.71it/s]",
          "output_type": "stream"
        },
        {
          "name": "stdout",
          "text": "                   all         10         12      0.935      0.881      0.911       0.74\n",
          "output_type": "stream"
        },
        {
          "name": "stderr",
          "text": "\n",
          "output_type": "stream"
        },
        {
          "name": "stdout",
          "text": "\n      Epoch    GPU_mem   box_loss   cls_loss   dfl_loss  Instances       Size\n",
          "output_type": "stream"
        },
        {
          "name": "stderr",
          "text": "    141/300      5.79G     0.8637     0.9516      1.236          4        640: 100%|██████████| 7/7 [00:02<00:00,  2.83it/s]\n                 Class     Images  Instances      Box(P          R      mAP50  mAP50-95): 100%|██████████| 1/1 [00:00<00:00,  4.86it/s]",
          "output_type": "stream"
        },
        {
          "name": "stdout",
          "text": "                   all         10         12      0.925       0.84      0.923      0.763\n",
          "output_type": "stream"
        },
        {
          "name": "stderr",
          "text": "\n",
          "output_type": "stream"
        },
        {
          "name": "stdout",
          "text": "\n      Epoch    GPU_mem   box_loss   cls_loss   dfl_loss  Instances       Size\n",
          "output_type": "stream"
        },
        {
          "name": "stderr",
          "text": "    142/300      5.62G     0.8512     0.8187      1.143         31        640: 100%|██████████| 7/7 [00:02<00:00,  2.85it/s]\n                 Class     Images  Instances      Box(P          R      mAP50  mAP50-95): 100%|██████████| 1/1 [00:00<00:00,  4.72it/s]",
          "output_type": "stream"
        },
        {
          "name": "stdout",
          "text": "                   all         10         12      0.925       0.84      0.923      0.763\n",
          "output_type": "stream"
        },
        {
          "name": "stderr",
          "text": "\n",
          "output_type": "stream"
        },
        {
          "name": "stdout",
          "text": "\n      Epoch    GPU_mem   box_loss   cls_loss   dfl_loss  Instances       Size\n",
          "output_type": "stream"
        },
        {
          "name": "stderr",
          "text": "    143/300      5.79G     0.8053     0.8656       1.12         38        640: 100%|██████████| 7/7 [00:02<00:00,  2.83it/s]\n                 Class     Images  Instances      Box(P          R      mAP50  mAP50-95): 100%|██████████| 1/1 [00:00<00:00,  4.79it/s]",
          "output_type": "stream"
        },
        {
          "name": "stdout",
          "text": "                   all         10         12      0.964      0.815      0.938      0.803\n",
          "output_type": "stream"
        },
        {
          "name": "stderr",
          "text": "\n",
          "output_type": "stream"
        },
        {
          "name": "stdout",
          "text": "\n      Epoch    GPU_mem   box_loss   cls_loss   dfl_loss  Instances       Size\n",
          "output_type": "stream"
        },
        {
          "name": "stderr",
          "text": "    144/300      5.79G     0.7534     0.8317      1.202          3        640: 100%|██████████| 7/7 [00:02<00:00,  2.81it/s]\n                 Class     Images  Instances      Box(P          R      mAP50  mAP50-95): 100%|██████████| 1/1 [00:00<00:00,  4.74it/s]",
          "output_type": "stream"
        },
        {
          "name": "stdout",
          "text": "                   all         10         12      0.957      0.847      0.951      0.809\n",
          "output_type": "stream"
        },
        {
          "name": "stderr",
          "text": "\n",
          "output_type": "stream"
        },
        {
          "name": "stdout",
          "text": "\n      Epoch    GPU_mem   box_loss   cls_loss   dfl_loss  Instances       Size\n",
          "output_type": "stream"
        },
        {
          "name": "stderr",
          "text": "    145/300      5.79G     0.8319     0.8959      1.197          8        640: 100%|██████████| 7/7 [00:02<00:00,  2.82it/s]\n                 Class     Images  Instances      Box(P          R      mAP50  mAP50-95): 100%|██████████| 1/1 [00:00<00:00,  4.55it/s]",
          "output_type": "stream"
        },
        {
          "name": "stdout",
          "text": "                   all         10         12      0.929      0.887      0.948      0.841\n",
          "output_type": "stream"
        },
        {
          "name": "stderr",
          "text": "\n",
          "output_type": "stream"
        },
        {
          "name": "stdout",
          "text": "\n      Epoch    GPU_mem   box_loss   cls_loss   dfl_loss  Instances       Size\n",
          "output_type": "stream"
        },
        {
          "name": "stderr",
          "text": "    146/300      5.79G     0.7867     0.7871      1.131         10        640: 100%|██████████| 7/7 [00:02<00:00,  2.81it/s]\n                 Class     Images  Instances      Box(P          R      mAP50  mAP50-95): 100%|██████████| 1/1 [00:00<00:00,  4.66it/s]",
          "output_type": "stream"
        },
        {
          "name": "stdout",
          "text": "                   all         10         12      0.891      0.883      0.946      0.849\n",
          "output_type": "stream"
        },
        {
          "name": "stderr",
          "text": "\n",
          "output_type": "stream"
        },
        {
          "name": "stdout",
          "text": "\n      Epoch    GPU_mem   box_loss   cls_loss   dfl_loss  Instances       Size\n",
          "output_type": "stream"
        },
        {
          "name": "stderr",
          "text": "    147/300       5.8G     0.8429      1.062      1.231          2        640: 100%|██████████| 7/7 [00:02<00:00,  2.78it/s]\n                 Class     Images  Instances      Box(P          R      mAP50  mAP50-95): 100%|██████████| 1/1 [00:00<00:00,  4.76it/s]",
          "output_type": "stream"
        },
        {
          "name": "stdout",
          "text": "                   all         10         12      0.848      0.903      0.981      0.882\n",
          "output_type": "stream"
        },
        {
          "name": "stderr",
          "text": "\n",
          "output_type": "stream"
        },
        {
          "name": "stdout",
          "text": "\n      Epoch    GPU_mem   box_loss   cls_loss   dfl_loss  Instances       Size\n",
          "output_type": "stream"
        },
        {
          "name": "stderr",
          "text": "    148/300      5.82G     0.7062      0.806      1.148          2        640: 100%|██████████| 7/7 [00:02<00:00,  2.83it/s]\n                 Class     Images  Instances      Box(P          R      mAP50  mAP50-95): 100%|██████████| 1/1 [00:00<00:00,  4.68it/s]",
          "output_type": "stream"
        },
        {
          "name": "stdout",
          "text": "                   all         10         12      0.878      0.852      0.987      0.876\n",
          "output_type": "stream"
        },
        {
          "name": "stderr",
          "text": "\n",
          "output_type": "stream"
        },
        {
          "name": "stdout",
          "text": "\n      Epoch    GPU_mem   box_loss   cls_loss   dfl_loss  Instances       Size\n",
          "output_type": "stream"
        },
        {
          "name": "stderr",
          "text": "    149/300      5.79G     0.8299     0.8255      1.148          5        640: 100%|██████████| 7/7 [00:02<00:00,  2.82it/s]\n                 Class     Images  Instances      Box(P          R      mAP50  mAP50-95): 100%|██████████| 1/1 [00:00<00:00,  4.64it/s]",
          "output_type": "stream"
        },
        {
          "name": "stdout",
          "text": "                   all         10         12      0.802      0.911      0.995      0.857\n",
          "output_type": "stream"
        },
        {
          "name": "stderr",
          "text": "\n",
          "output_type": "stream"
        },
        {
          "name": "stdout",
          "text": "\n      Epoch    GPU_mem   box_loss   cls_loss   dfl_loss  Instances       Size\n",
          "output_type": "stream"
        },
        {
          "name": "stderr",
          "text": "    150/300      5.63G     0.8399     0.8963      1.194          4        640: 100%|██████████| 7/7 [00:02<00:00,  2.85it/s]\n                 Class     Images  Instances      Box(P          R      mAP50  mAP50-95): 100%|██████████| 1/1 [00:00<00:00,  4.71it/s]",
          "output_type": "stream"
        },
        {
          "name": "stdout",
          "text": "                   all         10         12      0.802      0.911      0.995      0.857\n",
          "output_type": "stream"
        },
        {
          "name": "stderr",
          "text": "\n",
          "output_type": "stream"
        },
        {
          "name": "stdout",
          "text": "\n      Epoch    GPU_mem   box_loss   cls_loss   dfl_loss  Instances       Size\n",
          "output_type": "stream"
        },
        {
          "name": "stderr",
          "text": "    151/300      5.78G     0.8314     0.8675      1.193          4        640: 100%|██████████| 7/7 [00:02<00:00,  2.80it/s]\n                 Class     Images  Instances      Box(P          R      mAP50  mAP50-95): 100%|██████████| 1/1 [00:00<00:00,  4.53it/s]",
          "output_type": "stream"
        },
        {
          "name": "stdout",
          "text": "                   all         10         12       0.89      0.786       0.96      0.795\n",
          "output_type": "stream"
        },
        {
          "name": "stderr",
          "text": "\n",
          "output_type": "stream"
        },
        {
          "name": "stdout",
          "text": "\n      Epoch    GPU_mem   box_loss   cls_loss   dfl_loss  Instances       Size\n",
          "output_type": "stream"
        },
        {
          "name": "stderr",
          "text": "    152/300      5.84G       0.84     0.8087       1.22          2        640: 100%|██████████| 7/7 [00:02<00:00,  2.82it/s]\n                 Class     Images  Instances      Box(P          R      mAP50  mAP50-95): 100%|██████████| 1/1 [00:00<00:00,  4.69it/s]",
          "output_type": "stream"
        },
        {
          "name": "stdout",
          "text": "                   all         10         12      0.922      0.817      0.958      0.766\n",
          "output_type": "stream"
        },
        {
          "name": "stderr",
          "text": "\n",
          "output_type": "stream"
        },
        {
          "name": "stdout",
          "text": "\n      Epoch    GPU_mem   box_loss   cls_loss   dfl_loss  Instances       Size\n",
          "output_type": "stream"
        },
        {
          "name": "stderr",
          "text": "    153/300      5.78G     0.9223     0.8922      1.209          4        640: 100%|██████████| 7/7 [00:02<00:00,  2.80it/s]\n                 Class     Images  Instances      Box(P          R      mAP50  mAP50-95): 100%|██████████| 1/1 [00:00<00:00,  4.68it/s]",
          "output_type": "stream"
        },
        {
          "name": "stdout",
          "text": "                   all         10         12      0.844      0.886      0.945      0.711\n",
          "output_type": "stream"
        },
        {
          "name": "stderr",
          "text": "\n",
          "output_type": "stream"
        },
        {
          "name": "stdout",
          "text": "\n      Epoch    GPU_mem   box_loss   cls_loss   dfl_loss  Instances       Size\n",
          "output_type": "stream"
        },
        {
          "name": "stderr",
          "text": "    154/300       5.8G     0.7777      0.805      1.148         11        640: 100%|██████████| 7/7 [00:02<00:00,  2.83it/s]\n                 Class     Images  Instances      Box(P          R      mAP50  mAP50-95): 100%|██████████| 1/1 [00:00<00:00,  4.60it/s]",
          "output_type": "stream"
        },
        {
          "name": "stdout",
          "text": "                   all         10         12      0.849      0.881      0.958      0.765\n",
          "output_type": "stream"
        },
        {
          "name": "stderr",
          "text": "\n",
          "output_type": "stream"
        },
        {
          "name": "stdout",
          "text": "\n      Epoch    GPU_mem   box_loss   cls_loss   dfl_loss  Instances       Size\n",
          "output_type": "stream"
        },
        {
          "name": "stderr",
          "text": "    155/300      5.79G     0.7959      0.832      1.223          8        640: 100%|██████████| 7/7 [00:02<00:00,  2.84it/s]\n                 Class     Images  Instances      Box(P          R      mAP50  mAP50-95): 100%|██████████| 1/1 [00:00<00:00,  4.67it/s]",
          "output_type": "stream"
        },
        {
          "name": "stdout",
          "text": "                   all         10         12      0.903        0.9      0.971      0.801\n",
          "output_type": "stream"
        },
        {
          "name": "stderr",
          "text": "\n",
          "output_type": "stream"
        },
        {
          "name": "stdout",
          "text": "\n      Epoch    GPU_mem   box_loss   cls_loss   dfl_loss  Instances       Size\n",
          "output_type": "stream"
        },
        {
          "name": "stderr",
          "text": "    156/300      5.76G     0.8275     0.8441      1.185          5        640: 100%|██████████| 7/7 [00:02<00:00,  2.84it/s]\n                 Class     Images  Instances      Box(P          R      mAP50  mAP50-95): 100%|██████████| 1/1 [00:00<00:00,  4.70it/s]",
          "output_type": "stream"
        },
        {
          "name": "stdout",
          "text": "                   all         10         12      0.756      0.775      0.925      0.763\n",
          "output_type": "stream"
        },
        {
          "name": "stderr",
          "text": "\n",
          "output_type": "stream"
        },
        {
          "name": "stdout",
          "text": "\n      Epoch    GPU_mem   box_loss   cls_loss   dfl_loss  Instances       Size\n",
          "output_type": "stream"
        },
        {
          "name": "stderr",
          "text": "    157/300       5.8G     0.8044     0.8662      1.106          5        640: 100%|██████████| 7/7 [00:02<00:00,  2.79it/s]\n                 Class     Images  Instances      Box(P          R      mAP50  mAP50-95): 100%|██████████| 1/1 [00:00<00:00,  4.76it/s]",
          "output_type": "stream"
        },
        {
          "name": "stdout",
          "text": "                   all         10         12      0.887        0.8      0.971      0.813\n",
          "output_type": "stream"
        },
        {
          "name": "stderr",
          "text": "\n",
          "output_type": "stream"
        },
        {
          "name": "stdout",
          "text": "\n      Epoch    GPU_mem   box_loss   cls_loss   dfl_loss  Instances       Size\n",
          "output_type": "stream"
        },
        {
          "name": "stderr",
          "text": "    158/300      5.63G     0.7635     0.7032       1.12          5        640: 100%|██████████| 7/7 [00:02<00:00,  2.88it/s]\n                 Class     Images  Instances      Box(P          R      mAP50  mAP50-95): 100%|██████████| 1/1 [00:00<00:00,  4.50it/s]",
          "output_type": "stream"
        },
        {
          "name": "stdout",
          "text": "                   all         10         12      0.887        0.8      0.971      0.813\n",
          "output_type": "stream"
        },
        {
          "name": "stderr",
          "text": "\n",
          "output_type": "stream"
        },
        {
          "name": "stdout",
          "text": "\n      Epoch    GPU_mem   box_loss   cls_loss   dfl_loss  Instances       Size\n",
          "output_type": "stream"
        },
        {
          "name": "stderr",
          "text": "    159/300      5.85G      0.726     0.7455      1.097          9        640: 100%|██████████| 7/7 [00:02<00:00,  2.82it/s]\n                 Class     Images  Instances      Box(P          R      mAP50  mAP50-95): 100%|██████████| 1/1 [00:00<00:00,  4.76it/s]",
          "output_type": "stream"
        },
        {
          "name": "stdout",
          "text": "                   all         10         12       0.88      0.899       0.96      0.794\n",
          "output_type": "stream"
        },
        {
          "name": "stderr",
          "text": "\n",
          "output_type": "stream"
        },
        {
          "name": "stdout",
          "text": "\n      Epoch    GPU_mem   box_loss   cls_loss   dfl_loss  Instances       Size\n",
          "output_type": "stream"
        },
        {
          "name": "stderr",
          "text": "    160/300      5.79G     0.7186     0.7386      1.107         13        640: 100%|██████████| 7/7 [00:02<00:00,  2.82it/s]\n                 Class     Images  Instances      Box(P          R      mAP50  mAP50-95): 100%|██████████| 1/1 [00:00<00:00,  4.54it/s]",
          "output_type": "stream"
        },
        {
          "name": "stdout",
          "text": "                   all         10         12      0.894        0.9      0.949      0.772\n",
          "output_type": "stream"
        },
        {
          "name": "stderr",
          "text": "\n",
          "output_type": "stream"
        },
        {
          "name": "stdout",
          "text": "\n      Epoch    GPU_mem   box_loss   cls_loss   dfl_loss  Instances       Size\n",
          "output_type": "stream"
        },
        {
          "name": "stderr",
          "text": "    161/300      5.79G     0.7759     0.8141      1.228          4        640: 100%|██████████| 7/7 [00:02<00:00,  2.81it/s]\n                 Class     Images  Instances      Box(P          R      mAP50  mAP50-95): 100%|██████████| 1/1 [00:00<00:00,  4.66it/s]",
          "output_type": "stream"
        },
        {
          "name": "stdout",
          "text": "                   all         10         12       0.91        0.9      0.946      0.773\n",
          "output_type": "stream"
        },
        {
          "name": "stderr",
          "text": "\n",
          "output_type": "stream"
        },
        {
          "name": "stdout",
          "text": "\n      Epoch    GPU_mem   box_loss   cls_loss   dfl_loss  Instances       Size\n",
          "output_type": "stream"
        },
        {
          "name": "stderr",
          "text": "    162/300       5.8G     0.8231     0.7498      1.118         14        640: 100%|██████████| 7/7 [00:02<00:00,  2.81it/s]\n                 Class     Images  Instances      Box(P          R      mAP50  mAP50-95): 100%|██████████| 1/1 [00:00<00:00,  4.66it/s]",
          "output_type": "stream"
        },
        {
          "name": "stdout",
          "text": "                   all         10         12      0.924        0.9      0.953      0.782\n",
          "output_type": "stream"
        },
        {
          "name": "stderr",
          "text": "\n",
          "output_type": "stream"
        },
        {
          "name": "stdout",
          "text": "\n      Epoch    GPU_mem   box_loss   cls_loss   dfl_loss  Instances       Size\n",
          "output_type": "stream"
        },
        {
          "name": "stderr",
          "text": "    163/300      5.84G     0.7701      0.705      1.076          3        640: 100%|██████████| 7/7 [00:02<00:00,  2.80it/s]\n                 Class     Images  Instances      Box(P          R      mAP50  mAP50-95): 100%|██████████| 1/1 [00:00<00:00,  4.67it/s]",
          "output_type": "stream"
        },
        {
          "name": "stdout",
          "text": "                   all         10         12       0.93        0.9      0.953      0.783\n",
          "output_type": "stream"
        },
        {
          "name": "stderr",
          "text": "\n",
          "output_type": "stream"
        },
        {
          "name": "stdout",
          "text": "\n      Epoch    GPU_mem   box_loss   cls_loss   dfl_loss  Instances       Size\n",
          "output_type": "stream"
        },
        {
          "name": "stderr",
          "text": "    164/300      5.83G     0.7852     0.8407      1.085          3        640: 100%|██████████| 7/7 [00:02<00:00,  2.82it/s]\n                 Class     Images  Instances      Box(P          R      mAP50  mAP50-95): 100%|██████████| 1/1 [00:00<00:00,  4.55it/s]",
          "output_type": "stream"
        },
        {
          "name": "stdout",
          "text": "                   all         10         12      0.944      0.867      0.951      0.726\n",
          "output_type": "stream"
        },
        {
          "name": "stderr",
          "text": "\n",
          "output_type": "stream"
        },
        {
          "name": "stdout",
          "text": "\n      Epoch    GPU_mem   box_loss   cls_loss   dfl_loss  Instances       Size\n",
          "output_type": "stream"
        },
        {
          "name": "stderr",
          "text": "    165/300      5.87G     0.7587     0.8415      1.091          5        640: 100%|██████████| 7/7 [00:02<00:00,  2.83it/s]\n                 Class     Images  Instances      Box(P          R      mAP50  mAP50-95): 100%|██████████| 1/1 [00:00<00:00,  4.64it/s]",
          "output_type": "stream"
        },
        {
          "name": "stdout",
          "text": "                   all         10         12      0.923      0.886      0.946      0.716\n",
          "output_type": "stream"
        },
        {
          "name": "stderr",
          "text": "\n",
          "output_type": "stream"
        },
        {
          "name": "stdout",
          "text": "\n      Epoch    GPU_mem   box_loss   cls_loss   dfl_loss  Instances       Size\n",
          "output_type": "stream"
        },
        {
          "name": "stderr",
          "text": "    166/300      5.63G     0.7564     0.8449      1.182          6        640: 100%|██████████| 7/7 [00:02<00:00,  2.88it/s]\n                 Class     Images  Instances      Box(P          R      mAP50  mAP50-95): 100%|██████████| 1/1 [00:00<00:00,  4.70it/s]",
          "output_type": "stream"
        },
        {
          "name": "stdout",
          "text": "                   all         10         12      0.923      0.886      0.946      0.716\n",
          "output_type": "stream"
        },
        {
          "name": "stderr",
          "text": "\n",
          "output_type": "stream"
        },
        {
          "name": "stdout",
          "text": "\n      Epoch    GPU_mem   box_loss   cls_loss   dfl_loss  Instances       Size\n",
          "output_type": "stream"
        },
        {
          "name": "stderr",
          "text": "    167/300      5.79G     0.7942      0.785      1.114          9        640: 100%|██████████| 7/7 [00:02<00:00,  2.83it/s]\n                 Class     Images  Instances      Box(P          R      mAP50  mAP50-95): 100%|██████████| 1/1 [00:00<00:00,  4.64it/s]",
          "output_type": "stream"
        },
        {
          "name": "stdout",
          "text": "                   all         10         12      0.966      0.803      0.963      0.741\n",
          "output_type": "stream"
        },
        {
          "name": "stderr",
          "text": "\n",
          "output_type": "stream"
        },
        {
          "name": "stdout",
          "text": "\n      Epoch    GPU_mem   box_loss   cls_loss   dfl_loss  Instances       Size\n",
          "output_type": "stream"
        },
        {
          "name": "stderr",
          "text": "    168/300      5.79G     0.8157       0.77      1.181          8        640: 100%|██████████| 7/7 [00:02<00:00,  2.81it/s]\n                 Class     Images  Instances      Box(P          R      mAP50  mAP50-95): 100%|██████████| 1/1 [00:00<00:00,  4.65it/s]",
          "output_type": "stream"
        },
        {
          "name": "stdout",
          "text": "                   all         10         12       0.83      0.793      0.953      0.759\n",
          "output_type": "stream"
        },
        {
          "name": "stderr",
          "text": "\n",
          "output_type": "stream"
        },
        {
          "name": "stdout",
          "text": "\n      Epoch    GPU_mem   box_loss   cls_loss   dfl_loss  Instances       Size\n",
          "output_type": "stream"
        },
        {
          "name": "stderr",
          "text": "    169/300      5.79G     0.9109       1.22       1.35          2        640: 100%|██████████| 7/7 [00:02<00:00,  2.81it/s]\n                 Class     Images  Instances      Box(P          R      mAP50  mAP50-95): 100%|██████████| 1/1 [00:00<00:00,  4.85it/s]",
          "output_type": "stream"
        },
        {
          "name": "stdout",
          "text": "                   all         10         12      0.914      0.815      0.978      0.807\n",
          "output_type": "stream"
        },
        {
          "name": "stderr",
          "text": "\n",
          "output_type": "stream"
        },
        {
          "name": "stdout",
          "text": "\n      Epoch    GPU_mem   box_loss   cls_loss   dfl_loss  Instances       Size\n",
          "output_type": "stream"
        },
        {
          "name": "stderr",
          "text": "    170/300      5.79G     0.7371     0.7701      1.067         46        640: 100%|██████████| 7/7 [00:02<00:00,  2.83it/s]\n                 Class     Images  Instances      Box(P          R      mAP50  mAP50-95): 100%|██████████| 1/1 [00:00<00:00,  4.59it/s]",
          "output_type": "stream"
        },
        {
          "name": "stdout",
          "text": "                   all         10         12      0.912      0.848      0.987      0.824\n",
          "output_type": "stream"
        },
        {
          "name": "stderr",
          "text": "\n",
          "output_type": "stream"
        },
        {
          "name": "stdout",
          "text": "\n      Epoch    GPU_mem   box_loss   cls_loss   dfl_loss  Instances       Size\n",
          "output_type": "stream"
        },
        {
          "name": "stderr",
          "text": "    171/300      5.78G     0.7405     0.8237      1.149          5        640: 100%|██████████| 7/7 [00:02<00:00,  2.81it/s]\n                 Class     Images  Instances      Box(P          R      mAP50  mAP50-95): 100%|██████████| 1/1 [00:00<00:00,  4.74it/s]",
          "output_type": "stream"
        },
        {
          "name": "stdout",
          "text": "                   all         10         12      0.942      0.827      0.987       0.82\n",
          "output_type": "stream"
        },
        {
          "name": "stderr",
          "text": "\n",
          "output_type": "stream"
        },
        {
          "name": "stdout",
          "text": "\n      Epoch    GPU_mem   box_loss   cls_loss   dfl_loss  Instances       Size\n",
          "output_type": "stream"
        },
        {
          "name": "stderr",
          "text": "    172/300      5.82G     0.7883     0.8159      1.129          7        640: 100%|██████████| 7/7 [00:02<00:00,  2.80it/s]\n                 Class     Images  Instances      Box(P          R      mAP50  mAP50-95): 100%|██████████| 1/1 [00:00<00:00,  4.53it/s]",
          "output_type": "stream"
        },
        {
          "name": "stdout",
          "text": "                   all         10         12      0.946      0.908      0.973      0.786\n",
          "output_type": "stream"
        },
        {
          "name": "stderr",
          "text": "\n",
          "output_type": "stream"
        },
        {
          "name": "stdout",
          "text": "\n      Epoch    GPU_mem   box_loss   cls_loss   dfl_loss  Instances       Size\n",
          "output_type": "stream"
        },
        {
          "name": "stderr",
          "text": "    173/300      5.79G     0.7542     0.8038      1.105         10        640: 100%|██████████| 7/7 [00:02<00:00,  2.81it/s]\n                 Class     Images  Instances      Box(P          R      mAP50  mAP50-95): 100%|██████████| 1/1 [00:00<00:00,  4.68it/s]",
          "output_type": "stream"
        },
        {
          "name": "stdout",
          "text": "                   all         10         12      0.973       0.88      0.958      0.802\n",
          "output_type": "stream"
        },
        {
          "name": "stderr",
          "text": "\n",
          "output_type": "stream"
        },
        {
          "name": "stdout",
          "text": "\n      Epoch    GPU_mem   box_loss   cls_loss   dfl_loss  Instances       Size\n",
          "output_type": "stream"
        },
        {
          "name": "stderr",
          "text": "    174/300      5.64G     0.7576     0.7478      1.125         11        640: 100%|██████████| 7/7 [00:02<00:00,  2.89it/s]\n                 Class     Images  Instances      Box(P          R      mAP50  mAP50-95): 100%|██████████| 1/1 [00:00<00:00,  4.71it/s]",
          "output_type": "stream"
        },
        {
          "name": "stdout",
          "text": "                   all         10         12      0.973       0.88      0.958      0.802\n",
          "output_type": "stream"
        },
        {
          "name": "stderr",
          "text": "\n",
          "output_type": "stream"
        },
        {
          "name": "stdout",
          "text": "\n      Epoch    GPU_mem   box_loss   cls_loss   dfl_loss  Instances       Size\n",
          "output_type": "stream"
        },
        {
          "name": "stderr",
          "text": "    175/300      5.79G     0.6608     0.7995      1.105          7        640: 100%|██████████| 7/7 [00:02<00:00,  2.84it/s]\n                 Class     Images  Instances      Box(P          R      mAP50  mAP50-95): 100%|██████████| 1/1 [00:00<00:00,  4.43it/s]",
          "output_type": "stream"
        },
        {
          "name": "stdout",
          "text": "                   all         10         12      0.899      0.846      0.918       0.78\n",
          "output_type": "stream"
        },
        {
          "name": "stderr",
          "text": "\n",
          "output_type": "stream"
        },
        {
          "name": "stdout",
          "text": "\n      Epoch    GPU_mem   box_loss   cls_loss   dfl_loss  Instances       Size\n",
          "output_type": "stream"
        },
        {
          "name": "stderr",
          "text": "    176/300      5.78G     0.7282     0.7896       1.11         10        640: 100%|██████████| 7/7 [00:02<00:00,  2.81it/s]\n                 Class     Images  Instances      Box(P          R      mAP50  mAP50-95): 100%|██████████| 1/1 [00:00<00:00,  4.63it/s]",
          "output_type": "stream"
        },
        {
          "name": "stdout",
          "text": "                   all         10         12      0.882       0.83      0.873       0.75\n",
          "output_type": "stream"
        },
        {
          "name": "stderr",
          "text": "\n",
          "output_type": "stream"
        },
        {
          "name": "stdout",
          "text": "\n      Epoch    GPU_mem   box_loss   cls_loss   dfl_loss  Instances       Size\n",
          "output_type": "stream"
        },
        {
          "name": "stderr",
          "text": "    177/300      5.78G     0.7417     0.7529      1.106          8        640: 100%|██████████| 7/7 [00:02<00:00,  2.82it/s]\n                 Class     Images  Instances      Box(P          R      mAP50  mAP50-95): 100%|██████████| 1/1 [00:00<00:00,  4.53it/s]",
          "output_type": "stream"
        },
        {
          "name": "stdout",
          "text": "                   all         10         12      0.885       0.83      0.856       0.74\n",
          "output_type": "stream"
        },
        {
          "name": "stderr",
          "text": "\n",
          "output_type": "stream"
        },
        {
          "name": "stdout",
          "text": "\n      Epoch    GPU_mem   box_loss   cls_loss   dfl_loss  Instances       Size\n",
          "output_type": "stream"
        },
        {
          "name": "stderr",
          "text": "    178/300       5.8G     0.7147      0.768      1.135          8        640: 100%|██████████| 7/7 [00:02<00:00,  2.83it/s]\n                 Class     Images  Instances      Box(P          R      mAP50  mAP50-95): 100%|██████████| 1/1 [00:00<00:00,  4.72it/s]",
          "output_type": "stream"
        },
        {
          "name": "stdout",
          "text": "                   all         10         12      0.888       0.83      0.867      0.744\n",
          "output_type": "stream"
        },
        {
          "name": "stderr",
          "text": "\n",
          "output_type": "stream"
        },
        {
          "name": "stdout",
          "text": "\n      Epoch    GPU_mem   box_loss   cls_loss   dfl_loss  Instances       Size\n",
          "output_type": "stream"
        },
        {
          "name": "stderr",
          "text": "    179/300      5.79G      0.796     0.8316      1.145          6        640: 100%|██████████| 7/7 [00:02<00:00,  2.81it/s]\n                 Class     Images  Instances      Box(P          R      mAP50  mAP50-95): 100%|██████████| 1/1 [00:00<00:00,  4.67it/s]",
          "output_type": "stream"
        },
        {
          "name": "stdout",
          "text": "                   all         10         12      0.885      0.831      0.893      0.766\n",
          "output_type": "stream"
        },
        {
          "name": "stderr",
          "text": "\n",
          "output_type": "stream"
        },
        {
          "name": "stdout",
          "text": "\n      Epoch    GPU_mem   box_loss   cls_loss   dfl_loss  Instances       Size\n",
          "output_type": "stream"
        },
        {
          "name": "stderr",
          "text": "    180/300      5.77G     0.6469     0.6675      1.083          8        640: 100%|██████████| 7/7 [00:02<00:00,  2.83it/s]\n                 Class     Images  Instances      Box(P          R      mAP50  mAP50-95): 100%|██████████| 1/1 [00:00<00:00,  4.80it/s]",
          "output_type": "stream"
        },
        {
          "name": "stdout",
          "text": "                   all         10         12      0.895      0.871      0.916      0.782\n",
          "output_type": "stream"
        },
        {
          "name": "stderr",
          "text": "\n",
          "output_type": "stream"
        },
        {
          "name": "stdout",
          "text": "\n      Epoch    GPU_mem   box_loss   cls_loss   dfl_loss  Instances       Size\n",
          "output_type": "stream"
        },
        {
          "name": "stderr",
          "text": "    181/300       5.8G     0.6577     0.6583      1.031          5        640: 100%|██████████| 7/7 [00:02<00:00,  2.85it/s]\n                 Class     Images  Instances      Box(P          R      mAP50  mAP50-95): 100%|██████████| 1/1 [00:00<00:00,  4.49it/s]",
          "output_type": "stream"
        },
        {
          "name": "stdout",
          "text": "                   all         10         12      0.969      0.855      0.963      0.824\n",
          "output_type": "stream"
        },
        {
          "name": "stderr",
          "text": "\n",
          "output_type": "stream"
        },
        {
          "name": "stdout",
          "text": "\n      Epoch    GPU_mem   box_loss   cls_loss   dfl_loss  Instances       Size\n",
          "output_type": "stream"
        },
        {
          "name": "stderr",
          "text": "    182/300      5.62G      0.661     0.6826      1.015          5        640: 100%|██████████| 7/7 [00:02<00:00,  2.87it/s]\n                 Class     Images  Instances      Box(P          R      mAP50  mAP50-95): 100%|██████████| 1/1 [00:00<00:00,  4.67it/s]",
          "output_type": "stream"
        },
        {
          "name": "stdout",
          "text": "                   all         10         12      0.969      0.855      0.963      0.824\n",
          "output_type": "stream"
        },
        {
          "name": "stderr",
          "text": "\n",
          "output_type": "stream"
        },
        {
          "name": "stdout",
          "text": "\n      Epoch    GPU_mem   box_loss   cls_loss   dfl_loss  Instances       Size\n",
          "output_type": "stream"
        },
        {
          "name": "stderr",
          "text": "    183/300      5.85G     0.6726      0.638      1.075          7        640: 100%|██████████| 7/7 [00:02<00:00,  2.85it/s]\n                 Class     Images  Instances      Box(P          R      mAP50  mAP50-95): 100%|██████████| 1/1 [00:00<00:00,  4.60it/s]",
          "output_type": "stream"
        },
        {
          "name": "stdout",
          "text": "                   all         10         12      0.959      0.864      0.963      0.817\n",
          "output_type": "stream"
        },
        {
          "name": "stderr",
          "text": "\n",
          "output_type": "stream"
        },
        {
          "name": "stdout",
          "text": "\n      Epoch    GPU_mem   box_loss   cls_loss   dfl_loss  Instances       Size\n",
          "output_type": "stream"
        },
        {
          "name": "stderr",
          "text": "    184/300      5.85G     0.6532     0.6394      1.073          6        640: 100%|██████████| 7/7 [00:02<00:00,  2.81it/s]\n                 Class     Images  Instances      Box(P          R      mAP50  mAP50-95): 100%|██████████| 1/1 [00:00<00:00,  4.54it/s]",
          "output_type": "stream"
        },
        {
          "name": "stdout",
          "text": "                   all         10         12      0.971      0.889       0.96      0.831\n",
          "output_type": "stream"
        },
        {
          "name": "stderr",
          "text": "\n",
          "output_type": "stream"
        },
        {
          "name": "stdout",
          "text": "\n      Epoch    GPU_mem   box_loss   cls_loss   dfl_loss  Instances       Size\n",
          "output_type": "stream"
        },
        {
          "name": "stderr",
          "text": "    185/300      5.78G     0.7673     0.7601      1.178          6        640: 100%|██████████| 7/7 [00:02<00:00,  2.81it/s]\n                 Class     Images  Instances      Box(P          R      mAP50  mAP50-95): 100%|██████████| 1/1 [00:00<00:00,  4.59it/s]",
          "output_type": "stream"
        },
        {
          "name": "stdout",
          "text": "                   all         10         12      0.979      0.896      0.958       0.83\n",
          "output_type": "stream"
        },
        {
          "name": "stderr",
          "text": "\n",
          "output_type": "stream"
        },
        {
          "name": "stdout",
          "text": "\n      Epoch    GPU_mem   box_loss   cls_loss   dfl_loss  Instances       Size\n",
          "output_type": "stream"
        },
        {
          "name": "stderr",
          "text": "    186/300      5.79G     0.6553     0.6745      1.051         10        640: 100%|██████████| 7/7 [00:02<00:00,  2.82it/s]\n                 Class     Images  Instances      Box(P          R      mAP50  mAP50-95): 100%|██████████| 1/1 [00:00<00:00,  4.85it/s]",
          "output_type": "stream"
        },
        {
          "name": "stdout",
          "text": "                   all         10         12      0.978        0.9      0.937      0.854\n",
          "output_type": "stream"
        },
        {
          "name": "stderr",
          "text": "\n",
          "output_type": "stream"
        },
        {
          "name": "stdout",
          "text": "\n      Epoch    GPU_mem   box_loss   cls_loss   dfl_loss  Instances       Size\n",
          "output_type": "stream"
        },
        {
          "name": "stderr",
          "text": "    187/300      5.79G     0.7044     0.8025      1.124          8        640: 100%|██████████| 7/7 [00:02<00:00,  2.81it/s]\n                 Class     Images  Instances      Box(P          R      mAP50  mAP50-95): 100%|██████████| 1/1 [00:00<00:00,  4.70it/s]",
          "output_type": "stream"
        },
        {
          "name": "stdout",
          "text": "                   all         10         12      0.973      0.898      0.927      0.837\n",
          "output_type": "stream"
        },
        {
          "name": "stderr",
          "text": "\n",
          "output_type": "stream"
        },
        {
          "name": "stdout",
          "text": "\n      Epoch    GPU_mem   box_loss   cls_loss   dfl_loss  Instances       Size\n",
          "output_type": "stream"
        },
        {
          "name": "stderr",
          "text": "    188/300      5.78G     0.6969     0.7668      1.103          8        640: 100%|██████████| 7/7 [00:02<00:00,  2.82it/s]\n                 Class     Images  Instances      Box(P          R      mAP50  mAP50-95): 100%|██████████| 1/1 [00:00<00:00,  4.40it/s]",
          "output_type": "stream"
        },
        {
          "name": "stdout",
          "text": "                   all         10         12      0.974        0.9      0.909      0.834\n",
          "output_type": "stream"
        },
        {
          "name": "stderr",
          "text": "\n",
          "output_type": "stream"
        },
        {
          "name": "stdout",
          "text": "\n      Epoch    GPU_mem   box_loss   cls_loss   dfl_loss  Instances       Size\n",
          "output_type": "stream"
        },
        {
          "name": "stderr",
          "text": "    189/300      5.82G     0.6778     0.6918      1.081         12        640: 100%|██████████| 7/7 [00:02<00:00,  2.80it/s]\n                 Class     Images  Instances      Box(P          R      mAP50  mAP50-95): 100%|██████████| 1/1 [00:00<00:00,  4.66it/s]",
          "output_type": "stream"
        },
        {
          "name": "stdout",
          "text": "                   all         10         12      0.972        0.9      0.909      0.828\n",
          "output_type": "stream"
        },
        {
          "name": "stderr",
          "text": "\n",
          "output_type": "stream"
        },
        {
          "name": "stdout",
          "text": "\n      Epoch    GPU_mem   box_loss   cls_loss   dfl_loss  Instances       Size\n",
          "output_type": "stream"
        },
        {
          "name": "stderr",
          "text": "    190/300      5.63G     0.6655     0.6934      1.094          6        640: 100%|██████████| 7/7 [00:02<00:00,  2.88it/s]\n                 Class     Images  Instances      Box(P          R      mAP50  mAP50-95): 100%|██████████| 1/1 [00:00<00:00,  4.53it/s]",
          "output_type": "stream"
        },
        {
          "name": "stdout",
          "text": "                   all         10         12      0.972        0.9      0.909      0.828\n",
          "output_type": "stream"
        },
        {
          "name": "stderr",
          "text": "\n",
          "output_type": "stream"
        },
        {
          "name": "stdout",
          "text": "\n      Epoch    GPU_mem   box_loss   cls_loss   dfl_loss  Instances       Size\n",
          "output_type": "stream"
        },
        {
          "name": "stderr",
          "text": "    191/300       5.8G     0.6741     0.8286       1.13          3        640: 100%|██████████| 7/7 [00:02<00:00,  2.82it/s]\n                 Class     Images  Instances      Box(P          R      mAP50  mAP50-95): 100%|██████████| 1/1 [00:00<00:00,  4.60it/s]",
          "output_type": "stream"
        },
        {
          "name": "stdout",
          "text": "                   all         10         12      0.967      0.887      0.907      0.816\n",
          "output_type": "stream"
        },
        {
          "name": "stderr",
          "text": "\n",
          "output_type": "stream"
        },
        {
          "name": "stdout",
          "text": "\n      Epoch    GPU_mem   box_loss   cls_loss   dfl_loss  Instances       Size\n",
          "output_type": "stream"
        },
        {
          "name": "stderr",
          "text": "    192/300      5.79G     0.7709     0.7281      1.115         10        640: 100%|██████████| 7/7 [00:02<00:00,  2.82it/s]\n                 Class     Images  Instances      Box(P          R      mAP50  mAP50-95): 100%|██████████| 1/1 [00:00<00:00,  4.76it/s]",
          "output_type": "stream"
        },
        {
          "name": "stdout",
          "text": "                   all         10         12      0.968      0.858      0.907      0.762\n",
          "output_type": "stream"
        },
        {
          "name": "stderr",
          "text": "\n",
          "output_type": "stream"
        },
        {
          "name": "stdout",
          "text": "\n      Epoch    GPU_mem   box_loss   cls_loss   dfl_loss  Instances       Size\n",
          "output_type": "stream"
        },
        {
          "name": "stderr",
          "text": "    193/300      5.79G     0.6406     0.6307      1.023          6        640: 100%|██████████| 7/7 [00:02<00:00,  2.85it/s]\n                 Class     Images  Instances      Box(P          R      mAP50  mAP50-95): 100%|██████████| 1/1 [00:00<00:00,  4.79it/s]",
          "output_type": "stream"
        },
        {
          "name": "stdout",
          "text": "                   all         10         12      0.964      0.873       0.91      0.759\n",
          "output_type": "stream"
        },
        {
          "name": "stderr",
          "text": "\n",
          "output_type": "stream"
        },
        {
          "name": "stdout",
          "text": "\n      Epoch    GPU_mem   box_loss   cls_loss   dfl_loss  Instances       Size\n",
          "output_type": "stream"
        },
        {
          "name": "stderr",
          "text": "    194/300      5.79G      0.659     0.6772      1.091          4        640: 100%|██████████| 7/7 [00:02<00:00,  2.81it/s]\n                 Class     Images  Instances      Box(P          R      mAP50  mAP50-95): 100%|██████████| 1/1 [00:00<00:00,  4.63it/s]",
          "output_type": "stream"
        },
        {
          "name": "stdout",
          "text": "                   all         10         12      0.968        0.9       0.93      0.771\n",
          "output_type": "stream"
        },
        {
          "name": "stderr",
          "text": "\n",
          "output_type": "stream"
        },
        {
          "name": "stdout",
          "text": "\n      Epoch    GPU_mem   box_loss   cls_loss   dfl_loss  Instances       Size\n",
          "output_type": "stream"
        },
        {
          "name": "stderr",
          "text": "    195/300      5.79G     0.6926     0.6674     0.9819          6        640: 100%|██████████| 7/7 [00:02<00:00,  2.82it/s]\n                 Class     Images  Instances      Box(P          R      mAP50  mAP50-95): 100%|██████████| 1/1 [00:00<00:00,  4.57it/s]",
          "output_type": "stream"
        },
        {
          "name": "stdout",
          "text": "                   all         10         12      0.935      0.882      0.947      0.789\n",
          "output_type": "stream"
        },
        {
          "name": "stderr",
          "text": "\n",
          "output_type": "stream"
        },
        {
          "name": "stdout",
          "text": "\n      Epoch    GPU_mem   box_loss   cls_loss   dfl_loss  Instances       Size\n",
          "output_type": "stream"
        },
        {
          "name": "stderr",
          "text": "    196/300      5.78G     0.6512     0.7483      1.101          4        640: 100%|██████████| 7/7 [00:02<00:00,  2.83it/s]\n                 Class     Images  Instances      Box(P          R      mAP50  mAP50-95): 100%|██████████| 1/1 [00:00<00:00,  4.63it/s]",
          "output_type": "stream"
        },
        {
          "name": "stdout",
          "text": "                   all         10         12      0.896      0.904      0.946      0.785\n",
          "output_type": "stream"
        },
        {
          "name": "stderr",
          "text": "\n",
          "output_type": "stream"
        },
        {
          "name": "stdout",
          "text": "\n      Epoch    GPU_mem   box_loss   cls_loss   dfl_loss  Instances       Size\n",
          "output_type": "stream"
        },
        {
          "name": "stderr",
          "text": "    197/300       5.8G     0.6702     0.5928      1.059         10        640: 100%|██████████| 7/7 [00:02<00:00,  2.81it/s]\n                 Class     Images  Instances      Box(P          R      mAP50  mAP50-95): 100%|██████████| 1/1 [00:00<00:00,  4.71it/s]",
          "output_type": "stream"
        },
        {
          "name": "stdout",
          "text": "                   all         10         12      0.875      0.891      0.947      0.799\n",
          "output_type": "stream"
        },
        {
          "name": "stderr",
          "text": "\n",
          "output_type": "stream"
        },
        {
          "name": "stdout",
          "text": "\n      Epoch    GPU_mem   box_loss   cls_loss   dfl_loss  Instances       Size\n",
          "output_type": "stream"
        },
        {
          "name": "stderr",
          "text": "    198/300       5.7G      0.714     0.7317      1.073         52        640: 100%|██████████| 7/7 [00:02<00:00,  2.86it/s]\n                 Class     Images  Instances      Box(P          R      mAP50  mAP50-95): 100%|██████████| 1/1 [00:00<00:00,  4.72it/s]",
          "output_type": "stream"
        },
        {
          "name": "stdout",
          "text": "                   all         10         12      0.875      0.891      0.947      0.799\n",
          "output_type": "stream"
        },
        {
          "name": "stderr",
          "text": "\n",
          "output_type": "stream"
        },
        {
          "name": "stdout",
          "text": "\n      Epoch    GPU_mem   box_loss   cls_loss   dfl_loss  Instances       Size\n",
          "output_type": "stream"
        },
        {
          "name": "stderr",
          "text": "    199/300      5.78G     0.9099     0.9353       1.35          3        640: 100%|██████████| 7/7 [00:02<00:00,  2.84it/s]\n                 Class     Images  Instances      Box(P          R      mAP50  mAP50-95): 100%|██████████| 1/1 [00:00<00:00,  4.75it/s]",
          "output_type": "stream"
        },
        {
          "name": "stdout",
          "text": "                   all         10         12      0.946       0.81      0.947      0.774\n",
          "output_type": "stream"
        },
        {
          "name": "stderr",
          "text": "\n",
          "output_type": "stream"
        },
        {
          "name": "stdout",
          "text": "\n      Epoch    GPU_mem   box_loss   cls_loss   dfl_loss  Instances       Size\n",
          "output_type": "stream"
        },
        {
          "name": "stderr",
          "text": "    200/300      5.79G     0.6934     0.6895      1.089          7        640: 100%|██████████| 7/7 [00:02<00:00,  2.80it/s]\n                 Class     Images  Instances      Box(P          R      mAP50  mAP50-95): 100%|██████████| 1/1 [00:00<00:00,  4.54it/s]",
          "output_type": "stream"
        },
        {
          "name": "stdout",
          "text": "                   all         10         12       0.95      0.775      0.906      0.754\n",
          "output_type": "stream"
        },
        {
          "name": "stderr",
          "text": "\n",
          "output_type": "stream"
        },
        {
          "name": "stdout",
          "text": "\n      Epoch    GPU_mem   box_loss   cls_loss   dfl_loss  Instances       Size\n",
          "output_type": "stream"
        },
        {
          "name": "stderr",
          "text": "    201/300      5.79G     0.6966     0.7938      1.045          7        640: 100%|██████████| 7/7 [00:02<00:00,  2.83it/s]\n                 Class     Images  Instances      Box(P          R      mAP50  mAP50-95): 100%|██████████| 1/1 [00:00<00:00,  4.77it/s]",
          "output_type": "stream"
        },
        {
          "name": "stdout",
          "text": "                   all         10         12       0.95      0.828      0.943      0.745\n",
          "output_type": "stream"
        },
        {
          "name": "stderr",
          "text": "\n",
          "output_type": "stream"
        },
        {
          "name": "stdout",
          "text": "\n      Epoch    GPU_mem   box_loss   cls_loss   dfl_loss  Instances       Size\n",
          "output_type": "stream"
        },
        {
          "name": "stderr",
          "text": "    202/300      5.79G     0.7289     0.6204      1.066         25        640: 100%|██████████| 7/7 [00:02<00:00,  2.80it/s]\n                 Class     Images  Instances      Box(P          R      mAP50  mAP50-95): 100%|██████████| 1/1 [00:00<00:00,  4.62it/s]",
          "output_type": "stream"
        },
        {
          "name": "stdout",
          "text": "                   all         10         12      0.919      0.877      0.943      0.765\n",
          "output_type": "stream"
        },
        {
          "name": "stderr",
          "text": "\n",
          "output_type": "stream"
        },
        {
          "name": "stdout",
          "text": "\n      Epoch    GPU_mem   box_loss   cls_loss   dfl_loss  Instances       Size\n",
          "output_type": "stream"
        },
        {
          "name": "stderr",
          "text": "    203/300       5.8G     0.6048     0.8784      1.071          3        640: 100%|██████████| 7/7 [00:02<00:00,  2.83it/s]\n                 Class     Images  Instances      Box(P          R      mAP50  mAP50-95): 100%|██████████| 1/1 [00:00<00:00,  4.81it/s]",
          "output_type": "stream"
        },
        {
          "name": "stdout",
          "text": "                   all         10         12      0.884       0.76      0.884      0.754\n",
          "output_type": "stream"
        },
        {
          "name": "stderr",
          "text": "\n",
          "output_type": "stream"
        },
        {
          "name": "stdout",
          "text": "\n      Epoch    GPU_mem   box_loss   cls_loss   dfl_loss  Instances       Size\n",
          "output_type": "stream"
        },
        {
          "name": "stderr",
          "text": "    204/300      5.82G     0.7225     0.6975      1.116          9        640: 100%|██████████| 7/7 [00:02<00:00,  2.86it/s]\n                 Class     Images  Instances      Box(P          R      mAP50  mAP50-95): 100%|██████████| 1/1 [00:00<00:00,  4.73it/s]",
          "output_type": "stream"
        },
        {
          "name": "stdout",
          "text": "                   all         10         12      0.854      0.776      0.906      0.789\n",
          "output_type": "stream"
        },
        {
          "name": "stderr",
          "text": "\n",
          "output_type": "stream"
        },
        {
          "name": "stdout",
          "text": "\n      Epoch    GPU_mem   box_loss   cls_loss   dfl_loss  Instances       Size\n",
          "output_type": "stream"
        },
        {
          "name": "stderr",
          "text": "    205/300       5.8G     0.7451     0.6868      1.108          6        640: 100%|██████████| 7/7 [00:02<00:00,  2.82it/s]\n                 Class     Images  Instances      Box(P          R      mAP50  mAP50-95): 100%|██████████| 1/1 [00:00<00:00,  4.79it/s]",
          "output_type": "stream"
        },
        {
          "name": "stdout",
          "text": "                   all         10         12      0.971      0.883      0.947      0.826\n",
          "output_type": "stream"
        },
        {
          "name": "stderr",
          "text": "\n",
          "output_type": "stream"
        },
        {
          "name": "stdout",
          "text": "\n      Epoch    GPU_mem   box_loss   cls_loss   dfl_loss  Instances       Size\n",
          "output_type": "stream"
        },
        {
          "name": "stderr",
          "text": "    206/300      5.62G     0.7052     0.7025      1.106          3        640: 100%|██████████| 7/7 [00:02<00:00,  2.88it/s]\n                 Class     Images  Instances      Box(P          R      mAP50  mAP50-95): 100%|██████████| 1/1 [00:00<00:00,  4.85it/s]",
          "output_type": "stream"
        },
        {
          "name": "stdout",
          "text": "                   all         10         12      0.971      0.883      0.947      0.826\n",
          "output_type": "stream"
        },
        {
          "name": "stderr",
          "text": "\n",
          "output_type": "stream"
        },
        {
          "name": "stdout",
          "text": "\n      Epoch    GPU_mem   box_loss   cls_loss   dfl_loss  Instances       Size\n",
          "output_type": "stream"
        },
        {
          "name": "stderr",
          "text": "    207/300      5.86G     0.6557     0.7012      1.071          6        640: 100%|██████████| 7/7 [00:02<00:00,  2.83it/s]\n                 Class     Images  Instances      Box(P          R      mAP50  mAP50-95): 100%|██████████| 1/1 [00:00<00:00,  4.66it/s]",
          "output_type": "stream"
        },
        {
          "name": "stdout",
          "text": "                   all         10         12        0.9      0.871      0.943      0.813\n",
          "output_type": "stream"
        },
        {
          "name": "stderr",
          "text": "\n",
          "output_type": "stream"
        },
        {
          "name": "stdout",
          "text": "\n      Epoch    GPU_mem   box_loss   cls_loss   dfl_loss  Instances       Size\n",
          "output_type": "stream"
        },
        {
          "name": "stderr",
          "text": "    208/300      5.79G     0.7428     0.6547      1.125          7        640: 100%|██████████| 7/7 [00:02<00:00,  2.84it/s]\n                 Class     Images  Instances      Box(P          R      mAP50  mAP50-95): 100%|██████████| 1/1 [00:00<00:00,  4.80it/s]",
          "output_type": "stream"
        },
        {
          "name": "stdout",
          "text": "                   all         10         12      0.921      0.882      0.943      0.829\n",
          "output_type": "stream"
        },
        {
          "name": "stderr",
          "text": "\n",
          "output_type": "stream"
        },
        {
          "name": "stdout",
          "text": "\n      Epoch    GPU_mem   box_loss   cls_loss   dfl_loss  Instances       Size\n",
          "output_type": "stream"
        },
        {
          "name": "stderr",
          "text": "    209/300      5.79G     0.6217     0.9877       1.06          3        640: 100%|██████████| 7/7 [00:02<00:00,  2.85it/s]\n                 Class     Images  Instances      Box(P          R      mAP50  mAP50-95): 100%|██████████| 1/1 [00:00<00:00,  4.73it/s]",
          "output_type": "stream"
        },
        {
          "name": "stdout",
          "text": "                   all         10         12      0.967      0.775      0.911      0.812\n",
          "output_type": "stream"
        },
        {
          "name": "stderr",
          "text": "\n",
          "output_type": "stream"
        },
        {
          "name": "stdout",
          "text": "\n      Epoch    GPU_mem   box_loss   cls_loss   dfl_loss  Instances       Size\n",
          "output_type": "stream"
        },
        {
          "name": "stderr",
          "text": "    210/300      5.79G     0.6875     0.6357      1.113          5        640: 100%|██████████| 7/7 [00:02<00:00,  2.82it/s]\n                 Class     Images  Instances      Box(P          R      mAP50  mAP50-95): 100%|██████████| 1/1 [00:00<00:00,  4.82it/s]",
          "output_type": "stream"
        },
        {
          "name": "stdout",
          "text": "                   all         10         12      0.968      0.775      0.908      0.792\n",
          "output_type": "stream"
        },
        {
          "name": "stderr",
          "text": "\n",
          "output_type": "stream"
        },
        {
          "name": "stdout",
          "text": "\n      Epoch    GPU_mem   box_loss   cls_loss   dfl_loss  Instances       Size\n",
          "output_type": "stream"
        },
        {
          "name": "stderr",
          "text": "    211/300      5.84G     0.6421     0.6618      1.041         33        640: 100%|██████████| 7/7 [00:02<00:00,  2.84it/s]\n                 Class     Images  Instances      Box(P          R      mAP50  mAP50-95): 100%|██████████| 1/1 [00:00<00:00,  4.67it/s]",
          "output_type": "stream"
        },
        {
          "name": "stdout",
          "text": "                   all         10         12      0.965      0.775      0.908      0.775\n",
          "output_type": "stream"
        },
        {
          "name": "stderr",
          "text": "\n",
          "output_type": "stream"
        },
        {
          "name": "stdout",
          "text": "\n      Epoch    GPU_mem   box_loss   cls_loss   dfl_loss  Instances       Size\n",
          "output_type": "stream"
        },
        {
          "name": "stderr",
          "text": "    212/300      5.84G     0.6589      0.691      1.061          8        640: 100%|██████████| 7/7 [00:02<00:00,  2.83it/s]\n                 Class     Images  Instances      Box(P          R      mAP50  mAP50-95): 100%|██████████| 1/1 [00:00<00:00,  4.71it/s]",
          "output_type": "stream"
        },
        {
          "name": "stdout",
          "text": "                   all         10         12      0.965      0.775      0.911      0.786\n",
          "output_type": "stream"
        },
        {
          "name": "stderr",
          "text": "\n",
          "output_type": "stream"
        },
        {
          "name": "stdout",
          "text": "\n      Epoch    GPU_mem   box_loss   cls_loss   dfl_loss  Instances       Size\n",
          "output_type": "stream"
        },
        {
          "name": "stderr",
          "text": "    213/300       5.8G     0.6725     0.6998      1.159          6        640: 100%|██████████| 7/7 [00:02<00:00,  2.84it/s]\n                 Class     Images  Instances      Box(P          R      mAP50  mAP50-95): 100%|██████████| 1/1 [00:00<00:00,  4.70it/s]",
          "output_type": "stream"
        },
        {
          "name": "stdout",
          "text": "                   all         10         12      0.953      0.823      0.943        0.8\n",
          "output_type": "stream"
        },
        {
          "name": "stderr",
          "text": "\n",
          "output_type": "stream"
        },
        {
          "name": "stdout",
          "text": "\n      Epoch    GPU_mem   box_loss   cls_loss   dfl_loss  Instances       Size\n",
          "output_type": "stream"
        },
        {
          "name": "stderr",
          "text": "    214/300      5.63G     0.6956     0.6553      1.107          7        640: 100%|██████████| 7/7 [00:02<00:00,  2.88it/s]\n                 Class     Images  Instances      Box(P          R      mAP50  mAP50-95): 100%|██████████| 1/1 [00:00<00:00,  4.69it/s]",
          "output_type": "stream"
        },
        {
          "name": "stdout",
          "text": "                   all         10         12      0.953      0.823      0.943        0.8\n",
          "output_type": "stream"
        },
        {
          "name": "stderr",
          "text": "\n",
          "output_type": "stream"
        },
        {
          "name": "stdout",
          "text": "\n      Epoch    GPU_mem   box_loss   cls_loss   dfl_loss  Instances       Size\n",
          "output_type": "stream"
        },
        {
          "name": "stderr",
          "text": "    215/300      5.79G     0.6479     0.6774      1.049          5        640: 100%|██████████| 7/7 [00:02<00:00,  2.83it/s]\n                 Class     Images  Instances      Box(P          R      mAP50  mAP50-95): 100%|██████████| 1/1 [00:00<00:00,  4.80it/s]",
          "output_type": "stream"
        },
        {
          "name": "stdout",
          "text": "                   all         10         12      0.847      0.877      0.879       0.75\n",
          "output_type": "stream"
        },
        {
          "name": "stderr",
          "text": "\n",
          "output_type": "stream"
        },
        {
          "name": "stdout",
          "text": "\n      Epoch    GPU_mem   box_loss   cls_loss   dfl_loss  Instances       Size\n",
          "output_type": "stream"
        },
        {
          "name": "stderr",
          "text": "    216/300       5.8G     0.6706     0.7104      1.065          8        640: 100%|██████████| 7/7 [00:02<00:00,  2.81it/s]\n                 Class     Images  Instances      Box(P          R      mAP50  mAP50-95): 100%|██████████| 1/1 [00:00<00:00,  4.53it/s]",
          "output_type": "stream"
        },
        {
          "name": "stdout",
          "text": "                   all         10         12      0.896      0.859      0.884      0.778\n",
          "output_type": "stream"
        },
        {
          "name": "stderr",
          "text": "\n",
          "output_type": "stream"
        },
        {
          "name": "stdout",
          "text": "\n      Epoch    GPU_mem   box_loss   cls_loss   dfl_loss  Instances       Size\n",
          "output_type": "stream"
        },
        {
          "name": "stderr",
          "text": "    217/300       5.8G     0.6158     0.6774      1.066          6        640: 100%|██████████| 7/7 [00:02<00:00,  2.82it/s]\n                 Class     Images  Instances      Box(P          R      mAP50  mAP50-95): 100%|██████████| 1/1 [00:00<00:00,  4.64it/s]",
          "output_type": "stream"
        },
        {
          "name": "stdout",
          "text": "                   all         10         12      0.943      0.847      0.921      0.802\n",
          "output_type": "stream"
        },
        {
          "name": "stderr",
          "text": "\n",
          "output_type": "stream"
        },
        {
          "name": "stdout",
          "text": "\n      Epoch    GPU_mem   box_loss   cls_loss   dfl_loss  Instances       Size\n",
          "output_type": "stream"
        },
        {
          "name": "stderr",
          "text": "    218/300      5.79G     0.6045     0.6902      1.047          4        640: 100%|██████████| 7/7 [00:02<00:00,  2.82it/s]\n                 Class     Images  Instances      Box(P          R      mAP50  mAP50-95): 100%|██████████| 1/1 [00:00<00:00,  4.73it/s]",
          "output_type": "stream"
        },
        {
          "name": "stdout",
          "text": "                   all         10         12      0.975        0.9      0.917      0.794\n",
          "output_type": "stream"
        },
        {
          "name": "stderr",
          "text": "\n",
          "output_type": "stream"
        },
        {
          "name": "stdout",
          "text": "\n      Epoch    GPU_mem   box_loss   cls_loss   dfl_loss  Instances       Size\n",
          "output_type": "stream"
        },
        {
          "name": "stderr",
          "text": "    219/300      5.79G      0.609     0.6741      1.062          5        640: 100%|██████████| 7/7 [00:02<00:00,  2.80it/s]\n                 Class     Images  Instances      Box(P          R      mAP50  mAP50-95): 100%|██████████| 1/1 [00:00<00:00,  4.87it/s]",
          "output_type": "stream"
        },
        {
          "name": "stdout",
          "text": "                   all         10         12      0.972        0.9      0.933      0.815\n",
          "output_type": "stream"
        },
        {
          "name": "stderr",
          "text": "\n",
          "output_type": "stream"
        },
        {
          "name": "stdout",
          "text": "\n      Epoch    GPU_mem   box_loss   cls_loss   dfl_loss  Instances       Size\n",
          "output_type": "stream"
        },
        {
          "name": "stderr",
          "text": "    220/300      5.79G     0.6732     0.5974      1.039          6        640: 100%|██████████| 7/7 [00:02<00:00,  2.80it/s]\n                 Class     Images  Instances      Box(P          R      mAP50  mAP50-95): 100%|██████████| 1/1 [00:00<00:00,  4.59it/s]",
          "output_type": "stream"
        },
        {
          "name": "stdout",
          "text": "                   all         10         12      0.952        0.9      0.935      0.824\n",
          "output_type": "stream"
        },
        {
          "name": "stderr",
          "text": "\n",
          "output_type": "stream"
        },
        {
          "name": "stdout",
          "text": "\n      Epoch    GPU_mem   box_loss   cls_loss   dfl_loss  Instances       Size\n",
          "output_type": "stream"
        },
        {
          "name": "stderr",
          "text": "    221/300      5.79G     0.5795     0.5883      1.037          4        640: 100%|██████████| 7/7 [00:02<00:00,  2.83it/s]\n                 Class     Images  Instances      Box(P          R      mAP50  mAP50-95): 100%|██████████| 1/1 [00:00<00:00,  4.67it/s]",
          "output_type": "stream"
        },
        {
          "name": "stdout",
          "text": "                   all         10         12       0.92        0.9      0.937      0.811\n",
          "output_type": "stream"
        },
        {
          "name": "stderr",
          "text": "\n",
          "output_type": "stream"
        },
        {
          "name": "stdout",
          "text": "\n      Epoch    GPU_mem   box_loss   cls_loss   dfl_loss  Instances       Size\n",
          "output_type": "stream"
        },
        {
          "name": "stderr",
          "text": "    222/300      5.62G     0.5555     0.6201      1.056          5        640: 100%|██████████| 7/7 [00:02<00:00,  2.87it/s]\n                 Class     Images  Instances      Box(P          R      mAP50  mAP50-95): 100%|██████████| 1/1 [00:00<00:00,  4.76it/s]",
          "output_type": "stream"
        },
        {
          "name": "stdout",
          "text": "                   all         10         12       0.92        0.9      0.937      0.811\n",
          "output_type": "stream"
        },
        {
          "name": "stderr",
          "text": "\n",
          "output_type": "stream"
        },
        {
          "name": "stdout",
          "text": "\n      Epoch    GPU_mem   box_loss   cls_loss   dfl_loss  Instances       Size\n",
          "output_type": "stream"
        },
        {
          "name": "stderr",
          "text": "    223/300      5.78G     0.6408     0.6423      1.042         12        640: 100%|██████████| 7/7 [00:02<00:00,  2.82it/s]\n                 Class     Images  Instances      Box(P          R      mAP50  mAP50-95): 100%|██████████| 1/1 [00:00<00:00,  4.61it/s]",
          "output_type": "stream"
        },
        {
          "name": "stdout",
          "text": "                   all         10         12       0.87        0.9      0.935      0.821\n",
          "output_type": "stream"
        },
        {
          "name": "stderr",
          "text": "\n",
          "output_type": "stream"
        },
        {
          "name": "stdout",
          "text": "\n      Epoch    GPU_mem   box_loss   cls_loss   dfl_loss  Instances       Size\n",
          "output_type": "stream"
        },
        {
          "name": "stderr",
          "text": "    224/300      5.79G     0.6402     0.6186      1.099         11        640: 100%|██████████| 7/7 [00:02<00:00,  2.84it/s]\n                 Class     Images  Instances      Box(P          R      mAP50  mAP50-95): 100%|██████████| 1/1 [00:00<00:00,  4.42it/s]",
          "output_type": "stream"
        },
        {
          "name": "stdout",
          "text": "                   all         10         12      0.853      0.842      0.902      0.802\n",
          "output_type": "stream"
        },
        {
          "name": "stderr",
          "text": "\n",
          "output_type": "stream"
        },
        {
          "name": "stdout",
          "text": "\n      Epoch    GPU_mem   box_loss   cls_loss   dfl_loss  Instances       Size\n",
          "output_type": "stream"
        },
        {
          "name": "stderr",
          "text": "    225/300       5.8G     0.6608     0.7378      1.106          8        640: 100%|██████████| 7/7 [00:02<00:00,  2.82it/s]\n                 Class     Images  Instances      Box(P          R      mAP50  mAP50-95): 100%|██████████| 1/1 [00:00<00:00,  4.72it/s]",
          "output_type": "stream"
        },
        {
          "name": "stdout",
          "text": "                   all         10         12       0.85       0.84       0.87      0.777\n",
          "output_type": "stream"
        },
        {
          "name": "stderr",
          "text": "\n",
          "output_type": "stream"
        },
        {
          "name": "stdout",
          "text": "\n      Epoch    GPU_mem   box_loss   cls_loss   dfl_loss  Instances       Size\n",
          "output_type": "stream"
        },
        {
          "name": "stderr",
          "text": "    226/300      5.84G     0.6558     0.6811       1.06          3        640: 100%|██████████| 7/7 [00:02<00:00,  2.84it/s]\n                 Class     Images  Instances      Box(P          R      mAP50  mAP50-95): 100%|██████████| 1/1 [00:00<00:00,  4.77it/s]",
          "output_type": "stream"
        },
        {
          "name": "stdout",
          "text": "                   all         10         12      0.833      0.817      0.852       0.74\n",
          "output_type": "stream"
        },
        {
          "name": "stderr",
          "text": "\n",
          "output_type": "stream"
        },
        {
          "name": "stdout",
          "text": "\n      Epoch    GPU_mem   box_loss   cls_loss   dfl_loss  Instances       Size\n",
          "output_type": "stream"
        },
        {
          "name": "stderr",
          "text": "    227/300       5.8G     0.5785     0.6473      1.021         12        640: 100%|██████████| 7/7 [00:02<00:00,  2.82it/s]\n                 Class     Images  Instances      Box(P          R      mAP50  mAP50-95): 100%|██████████| 1/1 [00:00<00:00,  4.69it/s]",
          "output_type": "stream"
        },
        {
          "name": "stdout",
          "text": "                   all         10         12      0.845      0.817      0.852      0.733\n",
          "output_type": "stream"
        },
        {
          "name": "stderr",
          "text": "\n",
          "output_type": "stream"
        },
        {
          "name": "stdout",
          "text": "\n      Epoch    GPU_mem   box_loss   cls_loss   dfl_loss  Instances       Size\n",
          "output_type": "stream"
        },
        {
          "name": "stderr",
          "text": "    228/300      5.77G     0.6152     0.6484      1.075          8        640: 100%|██████████| 7/7 [00:02<00:00,  2.86it/s]\n                 Class     Images  Instances      Box(P          R      mAP50  mAP50-95): 100%|██████████| 1/1 [00:00<00:00,  4.69it/s]",
          "output_type": "stream"
        },
        {
          "name": "stdout",
          "text": "                   all         10         12      0.877      0.841      0.873      0.768\n",
          "output_type": "stream"
        },
        {
          "name": "stderr",
          "text": "\n",
          "output_type": "stream"
        },
        {
          "name": "stdout",
          "text": "\n      Epoch    GPU_mem   box_loss   cls_loss   dfl_loss  Instances       Size\n",
          "output_type": "stream"
        },
        {
          "name": "stderr",
          "text": "    229/300       5.8G     0.5998     0.5697          1         25        640: 100%|██████████| 7/7 [00:02<00:00,  2.78it/s]\n                 Class     Images  Instances      Box(P          R      mAP50  mAP50-95): 100%|██████████| 1/1 [00:00<00:00,  4.87it/s]",
          "output_type": "stream"
        },
        {
          "name": "stdout",
          "text": "                   all         10         12      0.879      0.841      0.873      0.755\n",
          "output_type": "stream"
        },
        {
          "name": "stderr",
          "text": "\n",
          "output_type": "stream"
        },
        {
          "name": "stdout",
          "text": "\n      Epoch    GPU_mem   box_loss   cls_loss   dfl_loss  Instances       Size\n",
          "output_type": "stream"
        },
        {
          "name": "stderr",
          "text": "    230/300      5.62G     0.5432     0.5571      1.069          3        640: 100%|██████████| 7/7 [00:02<00:00,  2.88it/s]\n                 Class     Images  Instances      Box(P          R      mAP50  mAP50-95): 100%|██████████| 1/1 [00:00<00:00,  4.79it/s]",
          "output_type": "stream"
        },
        {
          "name": "stdout",
          "text": "                   all         10         12      0.879      0.841      0.873      0.755\n",
          "output_type": "stream"
        },
        {
          "name": "stderr",
          "text": "\n",
          "output_type": "stream"
        },
        {
          "name": "stdout",
          "text": "\n      Epoch    GPU_mem   box_loss   cls_loss   dfl_loss  Instances       Size\n",
          "output_type": "stream"
        },
        {
          "name": "stderr",
          "text": "    231/300      5.79G     0.5602     0.5454      0.983         11        640: 100%|██████████| 7/7 [00:02<00:00,  2.81it/s]\n                 Class     Images  Instances      Box(P          R      mAP50  mAP50-95): 100%|██████████| 1/1 [00:00<00:00,  4.63it/s]",
          "output_type": "stream"
        },
        {
          "name": "stdout",
          "text": "                   all         10         12      0.884      0.847      0.875      0.773\n",
          "output_type": "stream"
        },
        {
          "name": "stderr",
          "text": "\n",
          "output_type": "stream"
        },
        {
          "name": "stdout",
          "text": "\n      Epoch    GPU_mem   box_loss   cls_loss   dfl_loss  Instances       Size\n",
          "output_type": "stream"
        },
        {
          "name": "stderr",
          "text": "    232/300      5.79G     0.5769     0.6917      1.071          4        640: 100%|██████████| 7/7 [00:02<00:00,  2.82it/s]\n                 Class     Images  Instances      Box(P          R      mAP50  mAP50-95): 100%|██████████| 1/1 [00:00<00:00,  4.84it/s]",
          "output_type": "stream"
        },
        {
          "name": "stdout",
          "text": "                   all         10         12      0.889      0.865      0.921      0.795\n",
          "output_type": "stream"
        },
        {
          "name": "stderr",
          "text": "\n",
          "output_type": "stream"
        },
        {
          "name": "stdout",
          "text": "\n      Epoch    GPU_mem   box_loss   cls_loss   dfl_loss  Instances       Size\n",
          "output_type": "stream"
        },
        {
          "name": "stderr",
          "text": "    233/300       5.8G     0.5632     0.7018      1.045          8        640: 100%|██████████| 7/7 [00:02<00:00,  2.80it/s]\n                 Class     Images  Instances      Box(P          R      mAP50  mAP50-95): 100%|██████████| 1/1 [00:00<00:00,  4.72it/s]",
          "output_type": "stream"
        },
        {
          "name": "stdout",
          "text": "                   all         10         12      0.943      0.859      0.921       0.78\n",
          "output_type": "stream"
        },
        {
          "name": "stderr",
          "text": "\n",
          "output_type": "stream"
        },
        {
          "name": "stdout",
          "text": "\n      Epoch    GPU_mem   box_loss   cls_loss   dfl_loss  Instances       Size\n",
          "output_type": "stream"
        },
        {
          "name": "stderr",
          "text": "    234/300      5.79G     0.5906     0.5755      1.039          5        640: 100%|██████████| 7/7 [00:02<00:00,  2.83it/s]\n                 Class     Images  Instances      Box(P          R      mAP50  mAP50-95): 100%|██████████| 1/1 [00:00<00:00,  4.78it/s]",
          "output_type": "stream"
        },
        {
          "name": "stdout",
          "text": "                   all         10         12      0.971      0.865      0.921      0.779\n",
          "output_type": "stream"
        },
        {
          "name": "stderr",
          "text": "\n",
          "output_type": "stream"
        },
        {
          "name": "stdout",
          "text": "\n      Epoch    GPU_mem   box_loss   cls_loss   dfl_loss  Instances       Size\n",
          "output_type": "stream"
        },
        {
          "name": "stderr",
          "text": "    235/300      5.79G     0.6471     0.7503      1.212          3        640: 100%|██████████| 7/7 [00:02<00:00,  2.81it/s]\n                 Class     Images  Instances      Box(P          R      mAP50  mAP50-95): 100%|██████████| 1/1 [00:00<00:00,  4.64it/s]",
          "output_type": "stream"
        },
        {
          "name": "stdout",
          "text": "                   all         10         12      0.975      0.863      0.921      0.795\n",
          "output_type": "stream"
        },
        {
          "name": "stderr",
          "text": "\n",
          "output_type": "stream"
        },
        {
          "name": "stdout",
          "text": "\n      Epoch    GPU_mem   box_loss   cls_loss   dfl_loss  Instances       Size\n",
          "output_type": "stream"
        },
        {
          "name": "stderr",
          "text": "    236/300      5.78G     0.5773     0.6271       1.06          6        640: 100%|██████████| 7/7 [00:02<00:00,  2.83it/s]\n                 Class     Images  Instances      Box(P          R      mAP50  mAP50-95): 100%|██████████| 1/1 [00:00<00:00,  4.63it/s]",
          "output_type": "stream"
        },
        {
          "name": "stdout",
          "text": "                   all         10         12      0.843      0.891      0.879       0.75\n",
          "output_type": "stream"
        },
        {
          "name": "stderr",
          "text": "\n",
          "output_type": "stream"
        },
        {
          "name": "stdout",
          "text": "\n      Epoch    GPU_mem   box_loss   cls_loss   dfl_loss  Instances       Size\n",
          "output_type": "stream"
        },
        {
          "name": "stderr",
          "text": "    237/300      5.79G     0.5843     0.6193      1.017         10        640: 100%|██████████| 7/7 [00:02<00:00,  2.85it/s]\n                 Class     Images  Instances      Box(P          R      mAP50  mAP50-95): 100%|██████████| 1/1 [00:00<00:00,  4.76it/s]",
          "output_type": "stream"
        },
        {
          "name": "stdout",
          "text": "                   all         10         12      0.818      0.877      0.875      0.733\n",
          "output_type": "stream"
        },
        {
          "name": "stderr",
          "text": "\n",
          "output_type": "stream"
        },
        {
          "name": "stdout",
          "text": "\n      Epoch    GPU_mem   box_loss   cls_loss   dfl_loss  Instances       Size\n",
          "output_type": "stream"
        },
        {
          "name": "stderr",
          "text": "    238/300      5.62G     0.6145     0.6032      1.031          7        640: 100%|██████████| 7/7 [00:02<00:00,  2.85it/s]\n                 Class     Images  Instances      Box(P          R      mAP50  mAP50-95): 100%|██████████| 1/1 [00:00<00:00,  4.75it/s]",
          "output_type": "stream"
        },
        {
          "name": "stdout",
          "text": "                   all         10         12      0.818      0.877      0.875      0.733\n",
          "output_type": "stream"
        },
        {
          "name": "stderr",
          "text": "\n",
          "output_type": "stream"
        },
        {
          "name": "stdout",
          "text": "\n      Epoch    GPU_mem   box_loss   cls_loss   dfl_loss  Instances       Size\n",
          "output_type": "stream"
        },
        {
          "name": "stderr",
          "text": "    239/300      5.79G     0.5773     0.5807      1.027          9        640: 100%|██████████| 7/7 [00:02<00:00,  2.81it/s]\n                 Class     Images  Instances      Box(P          R      mAP50  mAP50-95): 100%|██████████| 1/1 [00:00<00:00,  4.53it/s]",
          "output_type": "stream"
        },
        {
          "name": "stdout",
          "text": "                   all         10         12       0.82      0.851      0.873      0.752\n",
          "output_type": "stream"
        },
        {
          "name": "stderr",
          "text": "\n",
          "output_type": "stream"
        },
        {
          "name": "stdout",
          "text": "\n      Epoch    GPU_mem   box_loss   cls_loss   dfl_loss  Instances       Size\n",
          "output_type": "stream"
        },
        {
          "name": "stderr",
          "text": "    240/300      5.79G     0.6739     0.6014      1.076         12        640: 100%|██████████| 7/7 [00:02<00:00,  2.81it/s]\n                 Class     Images  Instances      Box(P          R      mAP50  mAP50-95): 100%|██████████| 1/1 [00:00<00:00,  4.68it/s]",
          "output_type": "stream"
        },
        {
          "name": "stdout",
          "text": "                   all         10         12      0.857      0.712      0.852       0.78\n",
          "output_type": "stream"
        },
        {
          "name": "stderr",
          "text": "\n",
          "output_type": "stream"
        },
        {
          "name": "stdout",
          "text": "\n      Epoch    GPU_mem   box_loss   cls_loss   dfl_loss  Instances       Size\n",
          "output_type": "stream"
        },
        {
          "name": "stderr",
          "text": "    241/300      5.79G     0.6001     0.6965       1.06          6        640: 100%|██████████| 7/7 [00:02<00:00,  2.81it/s]\n                 Class     Images  Instances      Box(P          R      mAP50  mAP50-95): 100%|██████████| 1/1 [00:00<00:00,  4.76it/s]",
          "output_type": "stream"
        },
        {
          "name": "stdout",
          "text": "                   all         10         12      0.848      0.727      0.852      0.764\n",
          "output_type": "stream"
        },
        {
          "name": "stderr",
          "text": "\n",
          "output_type": "stream"
        },
        {
          "name": "stdout",
          "text": "\n      Epoch    GPU_mem   box_loss   cls_loss   dfl_loss  Instances       Size\n",
          "output_type": "stream"
        },
        {
          "name": "stderr",
          "text": "    242/300      5.82G     0.5141     0.6025      1.015          4        640: 100%|██████████| 7/7 [00:02<00:00,  2.82it/s]\n                 Class     Images  Instances      Box(P          R      mAP50  mAP50-95): 100%|██████████| 1/1 [00:00<00:00,  4.53it/s]",
          "output_type": "stream"
        },
        {
          "name": "stdout",
          "text": "                   all         10         12      0.825      0.763      0.839      0.748\n",
          "output_type": "stream"
        },
        {
          "name": "stderr",
          "text": "\n",
          "output_type": "stream"
        },
        {
          "name": "stdout",
          "text": "\n      Epoch    GPU_mem   box_loss   cls_loss   dfl_loss  Instances       Size\n",
          "output_type": "stream"
        },
        {
          "name": "stderr",
          "text": "    243/300      5.79G     0.5495     0.7932      1.041          5        640: 100%|██████████| 7/7 [00:02<00:00,  2.84it/s]\n                 Class     Images  Instances      Box(P          R      mAP50  mAP50-95): 100%|██████████| 1/1 [00:00<00:00,  4.79it/s]",
          "output_type": "stream"
        },
        {
          "name": "stdout",
          "text": "                   all         10         12      0.818      0.741      0.839      0.766\n",
          "output_type": "stream"
        },
        {
          "name": "stderr",
          "text": "\n",
          "output_type": "stream"
        },
        {
          "name": "stdout",
          "text": "\n      Epoch    GPU_mem   box_loss   cls_loss   dfl_loss  Instances       Size\n",
          "output_type": "stream"
        },
        {
          "name": "stderr",
          "text": "    244/300      5.78G     0.5337     0.5465      1.014          8        640: 100%|██████████| 7/7 [00:02<00:00,  2.81it/s]\n                 Class     Images  Instances      Box(P          R      mAP50  mAP50-95): 100%|██████████| 1/1 [00:00<00:00,  4.55it/s]",
          "output_type": "stream"
        },
        {
          "name": "stdout",
          "text": "                   all         10         12      0.731      0.872      0.854      0.759\n",
          "output_type": "stream"
        },
        {
          "name": "stderr",
          "text": "\n",
          "output_type": "stream"
        },
        {
          "name": "stdout",
          "text": "\n      Epoch    GPU_mem   box_loss   cls_loss   dfl_loss  Instances       Size\n",
          "output_type": "stream"
        },
        {
          "name": "stderr",
          "text": "    245/300      5.79G     0.6012     0.6511       1.05         11        640: 100%|██████████| 7/7 [00:02<00:00,  2.81it/s]\n                 Class     Images  Instances      Box(P          R      mAP50  mAP50-95): 100%|██████████| 1/1 [00:00<00:00,  4.87it/s]",
          "output_type": "stream"
        },
        {
          "name": "stdout",
          "text": "                   all         10         12       0.73       0.88      0.854       0.77\n",
          "output_type": "stream"
        },
        {
          "name": "stderr",
          "text": "\n",
          "output_type": "stream"
        },
        {
          "name": "stdout",
          "text": "\n      Epoch    GPU_mem   box_loss   cls_loss   dfl_loss  Instances       Size\n",
          "output_type": "stream"
        },
        {
          "name": "stderr",
          "text": "    246/300      5.63G     0.5458     0.5417     0.9975          8        640: 100%|██████████| 7/7 [00:02<00:00,  2.86it/s]\n                 Class     Images  Instances      Box(P          R      mAP50  mAP50-95): 100%|██████████| 1/1 [00:00<00:00,  4.74it/s]",
          "output_type": "stream"
        },
        {
          "name": "stdout",
          "text": "                   all         10         12       0.73       0.88      0.854       0.77\n",
          "output_type": "stream"
        },
        {
          "name": "stderr",
          "text": "\n",
          "output_type": "stream"
        },
        {
          "name": "stdout",
          "text": "\n      Epoch    GPU_mem   box_loss   cls_loss   dfl_loss  Instances       Size\n",
          "output_type": "stream"
        },
        {
          "name": "stderr",
          "text": "    247/300      5.78G     0.6643     0.7017      1.104          4        640: 100%|██████████| 7/7 [00:02<00:00,  2.81it/s]\n                 Class     Images  Instances      Box(P          R      mAP50  mAP50-95): 100%|██████████| 1/1 [00:00<00:00,  4.56it/s]",
          "output_type": "stream"
        },
        {
          "name": "stdout",
          "text": "                   all         10         12      0.893      0.706      0.874      0.766\n\u001b[34m\u001b[1mEarlyStopping: \u001b[0mTraining stopped early as no improvement observed in last 100 epochs. Best results observed at epoch 147, best model saved as best.pt.\nTo update EarlyStopping(patience=100) pass a new patience value, i.e. `patience=300` or use `patience=0` to disable EarlyStopping.\n",
          "output_type": "stream"
        },
        {
          "name": "stderr",
          "text": "\n",
          "output_type": "stream"
        },
        {
          "name": "stdout",
          "text": "\n247 epochs completed in 0.339 hours.\nOptimizer stripped from runs/detect/yolov8l_v8_300e/weights/last.pt, 87.7MB\nOptimizer stripped from runs/detect/yolov8l_v8_300e/weights/best.pt, 87.7MB\n\nValidating runs/detect/yolov8l_v8_300e/weights/best.pt...\nUltralytics YOLOv8.2.75 🚀 Python-3.10.13 torch-2.1.2 CUDA:0 (Tesla T4, 15095MiB)\nModel summary (fused): 268 layers, 43,609,692 parameters, 0 gradients, 164.8 GFLOPs\n",
          "output_type": "stream"
        },
        {
          "name": "stderr",
          "text": "                 Class     Images  Instances      Box(P          R      mAP50  mAP50-95): 100%|██████████| 1/1 [00:00<00:00,  4.21it/s]\n",
          "output_type": "stream"
        },
        {
          "name": "stdout",
          "text": "                   all         10         12      0.847      0.905      0.981      0.884\n        Chinook salmon          3          3      0.811          1      0.995       0.88\n        Humpback whale          2          2          1      0.889      0.995      0.895\n            Orca whale          3          5          1       0.73      0.938      0.816\n       Pecific herring          2          2      0.578          1      0.995      0.946\nSpeed: 0.2ms preprocess, 19.6ms inference, 0.0ms loss, 0.9ms postprocess per image\nResults saved to \u001b[1mruns/detect/yolov8l_v8_300e\u001b[0m\n",
          "output_type": "stream"
        },
        {
          "output_type": "display_data",
          "data": {
            "text/plain": "VBox(children=(Label(value='86.473 MB of 86.473 MB uploaded\\r'), FloatProgress(value=1.0, max=1.0)))",
            "application/vnd.jupyter.widget-view+json": {
              "version_major": 2,
              "version_minor": 0,
              "model_id": ""
            }
          },
          "metadata": {}
        },
        {
          "output_type": "display_data",
          "data": {
            "text/plain": "<IPython.core.display.HTML object>",
            "text/html": "<style>\n    table.wandb td:nth-child(1) { padding: 0 10px; text-align: left ; width: auto;} td:nth-child(2) {text-align: left ; width: 100%}\n    .wandb-row { display: flex; flex-direction: row; flex-wrap: wrap; justify-content: flex-start; width: 100% }\n    .wandb-col { display: flex; flex-direction: column; flex-basis: 100%; flex: 1; padding: 10px; }\n    </style>\n<div class=\"wandb-row\"><div class=\"wandb-col\"><h3>Run history:</h3><br/><table class=\"wandb\"><tr><td>lr/pg0</td><td>▁▅████▇▇▇▇▇▇▆▆▆▆▆▅▅▅▅▅▅▄▄▄▄▄▄▃▃▃▃▃▂▂▂▂▂▂</td></tr><tr><td>lr/pg1</td><td>▁▅████▇▇▇▇▇▇▆▆▆▆▆▅▅▅▅▅▅▄▄▄▄▄▄▃▃▃▃▃▂▂▂▂▂▂</td></tr><tr><td>lr/pg2</td><td>▁▅████▇▇▇▇▇▇▆▆▆▆▆▅▅▅▅▅▅▄▄▄▄▄▄▃▃▃▃▃▂▂▂▂▂▂</td></tr><tr><td>metrics/mAP50(B)</td><td>▃▁▁▁▁▁▃▄▅▅▅▆▃▆▇▆▅█▇█▇███████▇█▇█████▇█▇▇</td></tr><tr><td>metrics/mAP50-95(B)</td><td>▂▁▁▁▁▁▂▃▄▅▄▅▂▅▆▅▅▇▇▇▇▇▇█▇█▇█▇██▇▇███▇█▇▇</td></tr><tr><td>metrics/precision(B)</td><td>▅▁▁▁▁▁▅▃▅▄▆▄▃▄▆▆▅▇▇▇▇▆▇██▇██▇███████▇▇▇▆</td></tr><tr><td>metrics/recall(B)</td><td>▄▄▁▁▃▅▂▆▅▆▃▆▄▆▆▇▅▇▆█▇██▇▇▇█▇▇▇████▇█▇███</td></tr><tr><td>model/GFLOPs</td><td>▁</td></tr><tr><td>model/parameters</td><td>▁</td></tr><tr><td>model/speed_PyTorch(ms)</td><td>▁</td></tr><tr><td>train/box_loss</td><td>▅▇██▇▇▇▆▆▆▆▅▄▅▄▄▄▄▄▄▄▃▄▂▃▃▃▂▂▂▂▂▂▂▂▂▂▁▁▁</td></tr><tr><td>train/cls_loss</td><td>▇▄█▄▄▃▃▃▃▃▂▂▂▂▂▂▂▂▂▂▂▂▂▁▁▁▁▁▁▁▁▁▁▁▁▁▁▁▁▁</td></tr><tr><td>train/dfl_loss</td><td>▅█▇██▇▆▆▅▇▅▃▄▄▃▃▃▃▃▃▃▃▄▃▃▂▂▂▂▁▂▂▂▂▂▁▂▂▁▁</td></tr><tr><td>val/box_loss</td><td>▂▆▆█▆▅▃▃▂▃▂▂▄▂▂▃▂▂▁▁▁▁▂▁▁▁▂▁▁▁▁▁▁▁▁▁▁▁▁▁</td></tr><tr><td>val/cls_loss</td><td>▁   ▂█▁▁▁▁▁▁▁▁▁▁▁▁▁▁▁▁▁▁▁▁▁▁▁▁▁▁▁▁▁▁▁▁▁▁</td></tr><tr><td>val/dfl_loss</td><td>▁▁█▁▁▁▁▁▁▁▁▁▁▁▁▁▁▁▁▁▁▁▁▁▁▁▁▁▁▁▁▁▁▁▁▁▁▁▁▁</td></tr></table><br/></div><div class=\"wandb-col\"><h3>Run summary:</h3><br/><table class=\"wandb\"><tr><td>lr/pg0</td><td>0.00024</td></tr><tr><td>lr/pg1</td><td>0.00024</td></tr><tr><td>lr/pg2</td><td>0.00024</td></tr><tr><td>metrics/mAP50(B)</td><td>0.98071</td></tr><tr><td>metrics/mAP50-95(B)</td><td>0.88444</td></tr><tr><td>metrics/precision(B)</td><td>0.8472</td></tr><tr><td>metrics/recall(B)</td><td>0.90466</td></tr><tr><td>model/GFLOPs</td><td>165.416</td></tr><tr><td>model/parameters</td><td>43632924</td></tr><tr><td>model/speed_PyTorch(ms)</td><td>30.808</td></tr><tr><td>train/box_loss</td><td>0.66426</td></tr><tr><td>train/cls_loss</td><td>0.70168</td></tr><tr><td>train/dfl_loss</td><td>1.10399</td></tr><tr><td>val/box_loss</td><td>0.63954</td></tr><tr><td>val/cls_loss</td><td>0.8275</td></tr><tr><td>val/dfl_loss</td><td>1.01336</td></tr></table><br/></div></div>"
          },
          "metadata": {}
        },
        {
          "output_type": "display_data",
          "data": {
            "text/plain": "<IPython.core.display.HTML object>",
            "text/html": " View run <strong style=\"color:#cdcd00\">yolov8l_v8_300e</strong> at: <a href='https://wandb.ai/prabhjotchugh0805-rediminds/YOLOv8/runs/7g0v668p' target=\"_blank\">https://wandb.ai/prabhjotchugh0805-rediminds/YOLOv8/runs/7g0v668p</a><br/> View project at: <a href='https://wandb.ai/prabhjotchugh0805-rediminds/YOLOv8' target=\"_blank\">https://wandb.ai/prabhjotchugh0805-rediminds/YOLOv8</a><br/>Synced 5 W&B file(s), 17 media file(s), 5 artifact file(s) and 0 other file(s)"
          },
          "metadata": {}
        },
        {
          "output_type": "display_data",
          "data": {
            "text/plain": "<IPython.core.display.HTML object>",
            "text/html": "Find logs at: <code>./wandb/run-20240809_044753-7g0v668p/logs</code>"
          },
          "metadata": {}
        },
        {
          "output_type": "display_data",
          "data": {
            "text/plain": "<IPython.core.display.HTML object>",
            "text/html": "The new W&B backend becomes opt-out in version 0.18.0; try it out with `wandb.require(\"core\")`! See https://wandb.me/wandb-core for more information."
          },
          "metadata": {}
        }
      ]
    },
    {
      "cell_type": "code",
      "source": [
        "# Save the trained model\n",
        "model.save('/kaggle/working/YOLOv8l_custom_trained_fine_tuned_model.pt')"
      ],
      "metadata": {
        "execution": {
          "iopub.status.busy": "2024-08-09T05:09:44.861512Z",
          "iopub.execute_input": "2024-08-09T05:09:44.86193Z",
          "iopub.status.idle": "2024-08-09T05:09:45.522033Z",
          "shell.execute_reply.started": "2024-08-09T05:09:44.861899Z",
          "shell.execute_reply": "2024-08-09T05:09:45.521134Z"
        },
        "trusted": true,
        "id": "nWAIJ43Gjbq1"
      },
      "execution_count": null,
      "outputs": []
    },
    {
      "cell_type": "code",
      "source": [],
      "metadata": {
        "id": "O_dgsub4jbq1"
      },
      "execution_count": null,
      "outputs": []
    }
  ]
}